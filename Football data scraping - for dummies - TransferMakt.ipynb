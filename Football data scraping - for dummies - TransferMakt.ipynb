{
 "cells": [
  {
   "cell_type": "code",
   "execution_count": 1,
   "metadata": {},
   "outputs": [],
   "source": [
    "import pandas as pd\n",
    "from bs4 import BeautifulSoup\n",
    "import requests\n",
    "import scrapy\n",
    "import numpy as np\n",
    "import os\n",
    "from datetime import datetime\n",
    "import seaborn as sns\n",
    "import matplotlib.pyplot as plt"
   ]
  },
  {
   "cell_type": "markdown",
   "metadata": {},
   "source": [
    "### define headers to request webpage as a human browser"
   ]
  },
  {
   "cell_type": "code",
   "execution_count": 2,
   "metadata": {
    "collapsed": true
   },
   "outputs": [],
   "source": [
    "headers = {'User-Agent': \n",
    "           'Mozilla/5.0 (X11; Linux x86_64) AppleWebKit/537.36 (KHTML, like Gecko) Chrome/47.0.2526.106 Safari/537.36'}"
   ]
  },
  {
   "cell_type": "markdown",
   "metadata": {},
   "source": [
    "### here we define:\n",
    "+ page: the address to scrape from\n",
    "+ pageTree: use requests to grab the code and assign to pageTree\n",
    "+ pageSoup: grab code content and parse into html for us to finally scrape from"
   ]
  },
  {
   "cell_type": "code",
   "execution_count": 4,
   "metadata": {
    "collapsed": true
   },
   "outputs": [],
   "source": [
    "page = 'https://www.transfermarkt.co.uk/transfers/transferrekorde/statistik/top/plus/0/galerie/0?saison_id=2000'\n",
    "pageTree = requests.get(page, headers=headers)\n",
    "pageSoup = BeautifulSoup(pageTree.content, 'html.parser')"
   ]
  },
  {
   "cell_type": "code",
   "execution_count": 5,
   "metadata": {},
   "outputs": [
    {
     "data": {
      "text/plain": [
       "\\n<!DOCTYPE html>\\n\\n<!-- paulirish.com/2008/conditional-stylesheets-vs-css-hacks-answer-neither/ -->\\n<!--[if IE 7]>\\n<html class=\"ie7 oldie\" lang=\"en\"> <![endif]-->\\n<!--[if IE 8]>\\n<html class=\"no-js lt-ie9\" lang=\"en\"> <![endif]-->\\n<!--[if gt IE 8]><!-->\\n<html class=\"no-js\" lang=\"en\"> <!--<![endif]-->\\n<head>\\n<meta charset=\"unicode-escape\"/>\\n<meta content=\"IE=edge\" http-equiv=\"x-ua-compatible\"><script type=\"text/javascript\">window.NREUM||(NREUM={}),__nr_require=function(e,n,t){function r(t){if(!n[t]){var o=n[t]={exports:{}};e[t][0].call(o.exports,function(n){var o=e[t][1][n];return r(o||n)},o,o.exports)}return n[t].exports}if(\"function\"==typeof __nr_require)return __nr_require;for(var o=0;o<t.length;o++)r(t[o]);return r}({1:[function(e,n,t){function r(){}function o(e,n,t){return function(){return i(e,[c.now()].concat(u(arguments)),n?null:this,t),n?void 0:this}}var i=e(\"handle\"),a=e(3),u=e(4),f=e(\"ee\").get(\"tracer\"),c=e(\"loader\"),s=NREUM;\"undefined\"==typeof window.newrelic&&(newrelic=s);var p=[\"setPageViewName\",\"setCustomAttribute\",\"setErrorHandler\",\"finished\",\"addToTrace\",\"inlineHit\",\"addRelease\"],d=\"api-\",l=d+\"ixn-\";a(p,function(e,n){s[n]=o(d+n,!0,\"api\")}),s.addPageAction=o(d+\"addPageAction\",!0),s.setCurrentRouteName=o(d+\"routeName\",!0),n.exports=newrelic,s.interaction=function(){return(new r).get()};var m=r.prototype={createTracer:function(e,n){var t={},r=this,o=\"function\"==typeof n;return i(l+\"tracer\",[c.now(),e,t],r),function(){if(f.emit((o?\"\":\"no-\")+\"fn-start\",[c.now(),r,o],t),o)try{return n.apply(this,arguments)}catch(e){throw f.emit(\"fn-err\",[arguments,this,e],t),e}finally{f.emit(\"fn-end\",[c.now()],t)}}}};a(\"actionText,setName,setAttribute,save,ignore,onEnd,getContext,end,get\".split(\",\"),function(e,n){m[n]=o(l+n)}),newrelic.noticeError=function(e,n){\"string\"==typeof e&&(e=new Error(e)),i(\"err\",[e,c.now(),!1,n])}},{}],2:[function(e,n,t){function r(e,n){if(!o)return!1;if(e!==o)return!1;if(!n)return!0;if(!i)return!1;for(var t=i.split(\".\"),r=n.split(\".\"),a=0;a<r.length;a++)if(r[a]!==t[a])return!1;return!0}var o=null,i=null,a=/Version\\\\/(\\\\S+)\\\\s+Safari/;if(navigator.userAgent){var u=navigator.userAgent,f=u.match(a);f&&u.indexOf(\"Chrome\")===-1&&u.indexOf(\"Chromium\")===-1&&(o=\"Safari\",i=f[1])}n.exports={agent:o,version:i,match:r}},{}],3:[function(e,n,t){function r(e,n){var t=[],r=\"\",i=0;for(r in e)o.call(e,r)&&(t[i]=n(r,e[r]),i+=1);return t}var o=Object.prototype.hasOwnProperty;n.exports=r},{}],4:[function(e,n,t){function r(e,n,t){n||(n=0),\"undefined\"==typeof t&&(t=e?e.length:0);for(var r=-1,o=t-n||0,i=Array(o<0?0:o);++r<o;)i[r]=e[n+r];return i}n.exports=r},{}],5:[function(e,n,t){n.exports={exists:\"undefined\"!=typeof window.performance&&window.performance.timing&&\"undefined\"!=typeof window.performance.timing.navigationStart}},{}],ee:[function(e,n,t){function r(){}function o(e){function n(e){return e&&e instanceof r?e:e?f(e,u,i):i()}function t(t,r,o,i){if(!d.aborted||i){e&&e(t,r,o);for(var a=n(o),u=v(t),f=u.length,c=0;c<f;c++)u[c].apply(a,r);var p=s[y[t]];return p&&p.push([b,t,r,a]),a}}function l(e,n){h[e]=v(e).concat(n)}function m(e,n){var t=h[e];if(t)for(var r=0;r<t.length;r++)t[r]===n&&t.splice(r,1)}function v(e){return h[e]||[]}function g(e){return p[e]=p[e]||o(t)}function w(e,n){c(e,function(e,t){n=n||\"feature\",y[t]=n,n in s||(s[n]=[])})}var h={},y={},b={on:l,addEventListener:l,removeEventListener:m,emit:t,get:g,listeners:v,context:n,buffer:w,abort:a,aborted:!1};return b}function i(){return new r}function a(){(s.api||s.feature)&&(d.aborted=!0,s=d.backlog={})}var u=\"nr@context\",f=e(\"gos\"),c=e(3),s={},p={},d=n.exports=o();d.backlog=s},{}],gos:[function(e,n,t){function r(e,n,t){if(o.call(e,n))return e[n];var r=t();if(Object.defineProperty&&Object.keys)try{return Object.defineProperty(e,n,{value:r,writable:!0,enumerable:!1}),r}catch(i){}return e[n]=r,r}var o=Object.prototype.hasOwnProperty;n.exports=r},{}],handle:[function(e,n,t){function r(e,n,t,r){o.buffer([e],r),o.emit(e,n,t)}var o=e(\"ee\").get(\"handle\");n.exports=r,r.ee=o},{}],id:[function(e,n,t){function r(e){var n=typeof e;return!e||\"object\"!==n&&\"function\"!==n?-1:e===window?0:a(e,i,function(){return o++})}var o=1,i=\"nr@id\",a=e(\"gos\");n.exports=r},{}],loader:[function(e,n,t){function r(){if(!E++){var e=x.info=NREUM.info,n=l.getElementsByTagName(\"script\")[0];if(setTimeout(s.abort,3e4),!(e&&e.licenseKey&&e.applicationID&&n))return s.abort();c(y,function(n,t){e[n]||(e[n]=t)}),f(\"mark\",[\"onload\",a()+x.offset],null,\"api\");var t=l.createElement(\"script\");t.src=\"https://\"+e.agent,n.parentNode.insertBefore(t,n)}}function o(){\"complete\"===l.readyState&&i()}function i(){f(\"mark\",[\"domContent\",a()+x.offset],null,\"api\")}function a(){return O.exists&&performance.now?Math.round(performance.now()):(u=Math.max((new Date).getTime(),u))-x.offset}var u=(new Date).getTime(),f=e(\"handle\"),c=e(3),s=e(\"ee\"),p=e(2),d=window,l=d.document,m=\"addEventListener\",v=\"attachEvent\",g=d.XMLHttpRequest,w=g&&g.prototype;NREUM.o={ST:setTimeout,SI:d.setImmediate,CT:clearTimeout,XHR:g,REQ:d.Request,EV:d.Event,PR:d.Promise,MO:d.MutationObserver};var h=\"\"+location,y={beacon:\"bam.nr-data.net\",errorBeacon:\"bam.nr-data.net\",agent:\"js-agent.newrelic.com/nr-1118.min.js\"},b=g&&w&&w[m]&&!/CriOS/.test(navigator.userAgent),x=n.exports={offset:u,now:a,origin:h,features:{},xhrWrappable:b,userAgent:p};e(1),l[m]?(l[m](\"DOMContentLoaded\",i,!1),d[m](\"load\",r,!1)):(l[v](\"onreadystatechange\",o),d[v](\"onload\",r)),f(\"mark\",[\"firstbyte\",u],null,\"api\");var E=0,O=e(5)},{}]},{},[\"loader\"]);</script>\\n<meta content=\"telephone=no\" name=\"format-detection\">\\n<meta content=\"#1a3151\" name=\"theme-color\"/>\\n<link href=\"/favicon.ico\" rel=\"shortcut icon\" type=\"image/x-icon\"/>\\n<link href=\"/favicon-16x16.png\" rel=\"shortcut icon\" sizes=\"16x16\">\\n<link href=\"/android-chrome-192x192.png\" rel=\"shortcut icon\" sizes=\"192x192\">\\n<link href=\"/apple-touch-icon-152x152.png\" rel=\"apple-touch-icon-precomposed\">\\n<link href=\"http://www.transfermarkt.de/transfers/transferrekorde/statistik/top/saison_id/2000/plus/0/galerie/0\" hreflang=\"x-default\" rel=\"alternate\"/>\\n<link href=\"http://www.transfermarkt.de/transfers/transferrekorde/statistik/top/saison_id/2000/plus/0/galerie/0\" hreflang=\"de\" rel=\"alternate\"/>\\n<link href=\"http://www.transfermarkt.at/transfers/transferrekorde/statistik/top/saison_id/2000/plus/0/galerie/0\" hreflang=\"de-AT\" rel=\"alternate\"/>\\n<link href=\"http://www.transfermarkt.ch/transfers/transferrekorde/statistik/top/saison_id/2000/plus/0/galerie/0\" hreflang=\"de-CH\" rel=\"alternate\"/>\\n<link href=\"http://www.transfermarkt.com.tr/transfers/transferrekorde/statistik/top/saison_id/2000/plus/0/galerie/0\" hreflang=\"tr\" rel=\"alternate\"/>\\n<link href=\"http://www.transfermarkt.it/transfers/transferrekorde/statistik/top/saison_id/2000/plus/0/galerie/0\" hreflang=\"it\" rel=\"alternate\"/>\\n<link href=\"http://www.transfermarkt.pl/transfers/transferrekorde/statistik/top/saison_id/2000/plus/0/galerie/0\" hreflang=\"pl\" rel=\"alternate\"/>\\n<link href=\"http://www.transfermarkt.co.uk/transfers/transferrekorde/statistik/top/saison_id/2000/plus/0/galerie/0\" hreflang=\"en\" rel=\"alternate\"/>\\n<link href=\"http://www.transfermarkt.es/transfers/transferrekorde/statistik/top/saison_id/2000/plus/0/galerie/0\" hreflang=\"es\" rel=\"alternate\"/>\\n<link href=\"http://www.transfermarkt.nl/transfers/transferrekorde/statistik/top/saison_id/2000/plus/0/galerie/0\" hreflang=\"nl\" rel=\"alternate\"/>\\n<link href=\"http://www.transfermarkt.pt/transfers/transferrekorde/statistik/top/saison_id/2000/plus/0/galerie/0\" hreflang=\"pt\" rel=\"alternate\"/>\\n<link href=\"http://www.transfermarkt.ru/transfers/transferrekorde/statistik/top/saison_id/2000/plus/0/galerie/0\" hreflang=\"ru\" rel=\"alternate\"/>\\n<link href=\"http://www.transfermarkt.fr/transfers/transferrekorde/statistik/top/saison_id/2000/plus/0/galerie/0\" hreflang=\"fr\" rel=\"alternate\"/>\\n<link href=\"http://www.transfermarkt.us/transfers/transferrekorde/statistik/top/saison_id/2000/plus/0/galerie/0\" hreflang=\"en-US\" rel=\"alternate\"/>\\n<link href=\"http://www.transfermarkt.co.in/transfers/transferrekorde/statistik/top/saison_id/2000/plus/0/galerie/0\" hreflang=\"en-IN\" rel=\"alternate\"/>\\n<meta content=\"width=device-width, initial-scale=1.0, maximum-scale=2.0, user-scalable=no\" name=\"viewport\"/>\\n<meta content=\"\" name=\"description\"/>\\n<meta content=\"article\" property=\"og:type\"/>\\n<meta content=\"https://tmssl.akamaized.net//images/tm_logo.png\" property=\"og:image\"/>\\n<meta content=\"http://www.transfermarkt.co.uk/transfers/transferrekorde/statistik/top/plus/0/galerie/0?saison_id=2000\" property=\"og:url\"/>\\n<meta content=\"\" property=\"og:description\"/>\\n<meta content=\"Transfer Records\" property=\"og:title\"/>\\n<link href=\"https://www.transfermarkt.co.uk/transfers/transferrekorde/statistik/top/saison_id/2000/plus/0/galerie/0/page/2\" rel=\"next\"/>\\n<link href=\"https://tmssl.akamaized.net//css/stylesheets/menue.css?lm=1552398045\" rel=\"stylesheet\" type=\"text/css\"/>\\n<link href=\"https://tmssl.akamaized.net//css/stylesheets/tm-grid.css?lm=1552398045\" rel=\"stylesheet\" type=\"text/css\"/>\\n<link href=\"https://tmssl.akamaized.net//css/stylesheets/main.css?lm=1552398045\" rel=\"stylesheet\" type=\"text/css\"/>\\n<link href=\"https://tmssl.akamaized.net//css/foundation-icons.css?lm=1519726625\" rel=\"stylesheet\" type=\"text/css\"/>\\n<link href=\"https://tmssl.akamaized.net//assets/d60a8c81/jui/css/base/jquery-ui.css?lm=1507094754\" rel=\"stylesheet\" type=\"text/css\"/>\\n<link href=\"https://tmssl.akamaized.net//css/stylesheets/main_desktop.css?lm=1552398045\" rel=\"stylesheet\" type=\"text/css\"/>\\n<link href=\"https://tmssl.akamaized.net//css/sprite-main.css?lm=1519726625\" rel=\"stylesheet\" type=\"text/css\"/>\\n<link href=\"https://tmssl.akamaized.net//css/chosen.css?lm=1519726625\" rel=\"stylesheet\" type=\"text/css\"/>\\n<link href=\"https://tmssl.akamaized.net//css/jquery-ui-1.10.4.custom.css?lm=1552398045\" rel=\"stylesheet\" type=\"text/css\"/>\\n<link href=\"https://tmssl.akamaized.net//css/jquery-ui-1.10.4.tm-theme.css?lm=1552398045\" rel=\"stylesheet\" type=\"text/css\"/>\\n<link href=\"https://tmssl.akamaized.net//css/stylesheets/main_werbung.css?lm=1552398045\" rel=\"stylesheet\" type=\"text/css\"/>\\n<link href=\"https://tmssl.akamaized.net//css/shortclasses.css?lm=1552398045\" rel=\"stylesheet\" type=\"text/css\"/>\\n<link href=\"https://tmssl.akamaized.net//css/print.css?_sn=1?lm=1552398045\" media=\"print\" rel=\"stylesheet\" type=\"text/css\"/>\\n<link href=\"https://tmssl.akamaized.net//css/statistiken.css?lm=1519726625\" rel=\"stylesheet\" type=\"text/css\"/>\\n<link href=\"https://tmssl.akamaized.net//css/desktop.css?lm=1519726625\" rel=\"stylesheet\" type=\"text/css\"/>\\n<link href=\"https://tmssl.akamaized.net//css/domainspezifisch/desktop-uk.css?lm=1524211092\" rel=\"stylesheet\" type=\"text/css\"/>\\n<link href=\"https://tmssl.akamaized.net//css/stylesheets/gridview.css?lm=1552398045\" rel=\"stylesheet\" type=\"text/css\"/>\\n<link href=\"https://tmssl.akamaized.net//css/stylesheets/paginator.css?lm=1552398045\" rel=\"stylesheet\" type=\"text/css\"/>\\n<link href=\"https://tmssl.akamaized.net//css/laenderPopup.css?lm=1519726625\" rel=\"stylesheet\" type=\"text/css\"/>\\n<link href=\"https://tmssl.akamaized.net//assets/93b3a294/css/tooltipster.css?lm=1519741022\" rel=\"stylesheet\" type=\"text/css\"/>\\n<script src=\"https://tmssl.akamaized.net//js/vendor/jquery.min.js?lm=1519726637\" type=\"text/javascript\"></script>\\n<script src=\"https://tmssl.akamaized.net//assets/d60a8c81/jquery.ba-bbq.min.js?lm=1507094754\" type=\"text/javascript\"></script>\\n<script src=\"https://tmssl.akamaized.net//assets/512e1f59/js/jquery.scrollTo.min.js?lm=1519741074\" type=\"text/javascript\"></script>\\n<script src=\"https://tmssl.akamaized.net//assets/512e1f59/js/elinkpagermobile.js?lm=1519741074\" type=\"text/javascript\"></script>\\n<script src=\"https://tmssl.akamaized.net//js/localStorage.js?lm=1519726637\" type=\"text/javascript\"></script>\\n<script src=\"https://tmssl.akamaized.net//js/foundation.js?lm=1519726637\" type=\"text/javascript\"></script>\\n<script src=\"https://tmssl.akamaized.net//js/main.js?lm=1552398047\" type=\"text/javascript\"></script>\\n<script src=\"https://tmssl.akamaized.net//js/jquery-ui-1.10.4.custom.min.js?lm=1552398047\" type=\"text/javascript\"></script>\\n<script src=\"https://tmssl.akamaized.net//js/jquery.lazyload.js?lm=1519726637\" type=\"text/javascript\"></script>\\n<script src=\"https://tmssl.akamaized.net//js/clipboard.min.js?lm=1519726637\" type=\"text/javascript\"></script>\\n<script src=\"https://tmssl.akamaized.net//js/chosen.ajaxaddition.jquery.js?lm=1519726637\" type=\"text/javascript\"></script>\\n<script src=\"https://tmssl.akamaized.net//js/jquery.icheck.min.js?lm=1519726637\" type=\"text/javascript\"></script>\\n<script src=\"https://tmssl.akamaized.net//js/functions.js?lm=1519726637\" type=\"text/javascript\"></script>\\n<script src=\"https://tmssl.akamaized.net//js/tmevent.js?lm=1519726637\" type=\"text/javascript\"></script>\\n<script src=\"https://tmssl.akamaized.net//js/comunio.js?lm=1524211094\" type=\"text/javascript\"></script>\\n<script src=\"https://tmssl.akamaized.net//js/main_desktop.js?lm=1552398047\" type=\"text/javascript\"></script>\\n<script src=\"https://tmssl.akamaized.net//js/chosen.jquery.js?lm=1519726637\" type=\"text/javascript\"></script>\\n<script src=\"https://tmssl.akamaized.net//assets/93b3a294/js/jquery.tooltipster.js?lm=1519741022\" type=\"text/javascript\"></script>\\n<script type=\"text/javascript\">\\n/*<![CDATA[*/\\n<!-- DFPV2 --->\\n\\t\\tvar gptscript = document.createElement(\"script\");\\n\\t\\t\\tgptscript.type = \"text/javascript\";\\n\\t\\t\\tgptscript.src = 'https://www.googletagservices.com/tag/js/gpt.js';\\n\\t\\t\\t//gptscript.charset = \"utf-8\";\\n\\t\\t\\tgptscript.async = true;\\n\\t\\t\\tvar gptfirstScript = document.getElementsByTagName(\"script\")[0];\\n\\t\\t\\tgptfirstScript.parentNode.insertBefore(gptscript, gptfirstScript);\\n\\n\\t\\tvar googletag = googletag || {};\\n\\t\\t\\tgoogletag.cmd = googletag.cmd || [];\\n\\t\\t\\tgoogletag.cmd.push(function() {\\nvar rectangle1_mapping = googletag.sizeMapping().\\n\\t\\taddSize([0, 0], [[300, 250]]).\\n\\t\\taddSize([640, 480], [[300, 250]]).\\n\\t\\taddSize([980, 690], [[300, 250]]).\\n\\t\\taddSize([1024, 768], [[300, 250]]).build();\\ngoogletag.defineSlot('/58778164/TM_Desktop_TopRectangle_300x250', [[300, 250]], 'Rectangle1').defineSizeMapping(rectangle1_mapping).addService(googletag.pubads());\\nvar rectangle2_mapping = googletag.sizeMapping().\\n\\t\\taddSize([0, 0], [[300, 250], 'fluid']).\\n\\t\\taddSize([640, 480], [[300, 250], 'fluid']).\\n\\t\\taddSize([980, 690], [[300, 250], 'fluid']).\\n\\t\\taddSize([1024, 768], [[300, 250], [300, 600], 'fluid']).build();\\ngoogletag.defineSlot('/58778164/TM_Desktop_BottomRectangle_300x250', [[300, 250], [300, 600], 'fluid'], 'Rectangle2').defineSizeMapping(rectangle2_mapping).addService(googletag.pubads());\\nvar skyscraper_mapping = googletag.sizeMapping().\\n\\t\\taddSize([0, 0], [[160, 600], [120, 600]]).\\n\\t\\taddSize([640, 480], [[160, 600], [120, 600]]).\\n\\t\\taddSize([980, 690], [[160, 600], [120, 600]]).\\n\\t\\taddSize([1024, 768], [[160, 600], [300, 600], [120, 600]]).build();\\ngoogletag.defineSlot('/58778164/TM_Desktop_Skyscraper_300x600', [[160, 600], [120, 600], [300, 600]], 'Skyscraper').defineSizeMapping(skyscraper_mapping).addService(googletag.pubads());\\nvar billboard_mapping = googletag.sizeMapping().\\n\\t\\taddSize([0, 0], [[468, 60], 'fluid']).\\n\\t\\taddSize([640, 480], [[468, 60], 'fluid']).\\n\\t\\taddSize([980, 690], [[970, 250], [970, 90], [970, 66], [728, 90]]).\\n\\t\\taddSize([1024, 768], [[970, 250], [970, 90], [970, 66], [728, 90]]).build();\\ngoogletag.defineSlot('/58778164/TM_Desktop_CenterLeaderboard_970x250', [[468, 60], [970, 90], [970, 250], [728, 90], 'fluid', [970, 66]], 'Billboard').defineSizeMapping(billboard_mapping).addService(googletag.pubads());\\nvar fullsize_contentad_mapping = googletag.sizeMapping().\\n\\t\\taddSize([0, 0], [468, 60]).\\n\\t\\taddSize([640, 480], [[728, 90], [468, 60]]).\\n\\t\\taddSize([980, 690], [[728, 90], [970, 90], [970, 250]]).\\n\\t\\taddSize([1024, 768], [[970, 250], [970, 90], [728, 90]]).build();\\ngoogletag.defineSlot('/58778164/TM_Desktop_BottomLeaderboard_970x250', [[468, 60], [728, 90], [970, 90], [970, 250]], 'BillboardFooter').defineSizeMapping(fullsize_contentad_mapping).addService(googletag.pubads());\\ngoogletag.defineOutOfPageSlot('/58778164/TM_Desktop_RichMedia_1x1', 'Richmedia').addService(googletag.pubads());\\ngoogletag.pubads().setCentering(true);\\ngoogletag.pubads().collapseEmptyDivs();\\ngoogletag.pubads().enableSingleRequest();\\ngoogletag.pubads().setTargeting(\"URL\",\"www.transfermarkt.co.uk\")\\ngoogletag.pubads().setTargeting(\"cg1\", [\"statistik\"]);\\ngoogletag.pubads().setTargeting(\"cg2\", [\"global\"]);\\ngoogletag.pubads().setTargeting(\"cg3\", [\"transfers\"]);\\ngoogletag.pubads().setTargeting(\"cg4\", [\"transferrekorde\"]);\\ngoogletag.enableServices();\\n})\\n<!-- DFPV2-ENDE -->\\n/*]]>*/\\n</script>\\n<title>Transfer Records | Transfermarkt</title>\\n<script type=\"text/javascript\">\\n   tmData = {\\n       loggedIn : \"0\",\\n       tmTraffic: \"0\",\\n   };\\n</script>\\n<!-- components GoogleAnalyticsUniversal start -->\\n<script>\\n// Set to the same value as the web property used on the site\\n\\t\\tvar gaProperty = 'UA-3816204-13';\\n\\n\\t\\t// Disable tracking if the opt-out cookie exists.\\n\\t\\tvar disableStr = 'ga-disable-' + gaProperty;\\n\\t\\tif (document.cookie.indexOf(disableStr + '=true') > -1) {\\n\\t\\t\\twindow[disableStr] = true;\\n\\t\\t}\\n\\n\\t\\t// Opt-out function\\n\\t\\tfunction gaOptout() {\\n\\t\\t\\tdocument.cookie = disableStr + '=true; expires=Thu, 31 Dec 2099 23:59:59 UTC; path=/';\\n\\t\\t\\twindow[disableStr] = true;\\n\\t\\t}\\n\\t(function(i,s,o,g,r,a,m){i['GoogleAnalyticsObject']=r;i[r]=i[r]||function(){\\n\\t(i[r].q=i[r].q||[]).push(arguments)},i[r].l=1*new Date();a=s.createElement(o),\\n\\tm=s.getElementsByTagName(o)[0];a.async=1;a.src=g;m.parentNode.insertBefore(a,m)\\n\\t})(window,document,'script','/js/autotrack.js','ga');\\n\\t(function(i,s,o,g,r,a,m){i['GoogleAnalyticsObject']=r;i[r]=i[r]||function(){\\n\\t(i[r].q=i[r].q||[]).push(arguments)},i[r].l=1*new Date();a=s.createElement(o),\\n\\tm=s.getElementsByTagName(o)[0];a.async=1;a.src=g;m.parentNode.insertBefore(a,m)\\n\\t})(window,document,'script','https://www.google-analytics.com/analytics.js','ga');\\n\\n\\tga('create', 'UA-3816204-13', 'auto', {allowLinker: true, sampleRate: 100});\\n\\tga('set', 'anonymizeIp', true);\\n\\tga('set', 'contentGroup1', 'statistik');\\n\\tga('set', 'contentGroup2', 'global');\\n\\tga('set', 'contentGroup3', 'transfers');\\n\\tga('set', 'contentGroup4', 'transferrekorde');\\n\\tga('set', 'dimension1', tmData.loggedIn);\\n\\tga('set', 'dimension2', tmData.tmTraffic);\\n\\tga('require','linker');\\n   ga('require', 'maxScrollTracker', {maxScrollMetricIndex: 1});\\n\\tga('linker:autoLink', [/^transfermarkt\\\\.(com|de|nl|it|at|ch|es|fr|com\\\\.tr|pt|tv|pl|co\\\\.uk)$/]);\\n\\tga('send', 'pageview');\\n</script>\\n<!-- components GoogleAnalyticsUniversal end --><script type=\"text/javascript\">var yieldlove_site_id = \"transfermarkt.co.uk_desktop\";</script><script src=\"//cdn-a.yieldlove.com/yieldlove-bidder.js?transfermarkt.co.uk_desktop\" type=\"text/javascript\"></script><!--  SZM 2.0 (IVW/AGOF) -->\\n<script src=\"https://script.ioam.de/iam.js\" type=\"text/javascript\"></script> <script src=\"https://tmssl.akamaized.net//ads/ads.js\" type=\"text/javascript\"></script>\\n<script type=\"text/javascript\">\\n        if (self == top) {\\n            document.documentElement.style.display = 'block';\\n        } else {\\n            top.location = self.location;\\n        }\\n    </script>\\n<noscript>\\n<style>html body *:not(.noscript) {\\n                display: none;\\n            }</style>\\n<div class=\"noscript\">\\n\\t\\t\\tFor using this site, please activate JavaScript.        </div>\\n</noscript>\\n<!--[if lte IE 8]>\\n    <link rel=\"stylesheet\" type=\"text/css\" href=\"/css/ie.css\"/><![endif]-->\\n<!-- tisoomi check --><!--Tisoomi-->\\n<script type=\"text/javascript\">\\n!function(G){ function A(G,A){ return G.getElementsByTagName(A) }function U(){ }function g(G,A){ return G.appendChild(A) }function C(G,A){ return G.createElement(A) }function J(G,A){ return G.indexOf(A) }function V(V){ \"use strict\";V.pID=\"OrJs9s8\",V.pList=[\"skyscraper\",\"superbanner\",\"rectangle1\",\"rectangle2\"],V.regexp=/OrJs9s8\\\\([\"']([\\\\w\\\\s\\\\.-]+)[\"']\\\\)/i,V.arr=[],V.done=[],V.cb=[],V.srch=function(){ var G,A=p.scripts;for(G=0;G<A.length;G+=1)V.doesContentMatch(A[G])&&V.matchInPList(A[G])&&V.matchNotDone(A[G])&&(V.collectAdTagContents(A[G]),V.createAdTag(V.regexp.exec(A[G].innerHTML)[1],A[G]),V.done.push(V.regexp.exec(A[G].innerHTML)[1]));V.done=[] },V.doesContentMatch=function(G){ return G&&V.regexp.test(G.innerHTML) },V.mFn=V.doesContentMatch,V.matchInPList=function(G){ return G&&J(V.pList,V.regexp.exec(G.innerHTML)[1])>=0 },V.mEn=V.matchInPList,V.matchNotDone=function(G){ return G&&J(V.done,V.regexp.exec(G.innerHTML)[1])<0 },V.mNd=V.matchNotDone,V.collectAdTagContents=function(G){ if(G){ var A,U=G.parentNode.childNodes,g=null,C=null,o=null,R=V.regexp.exec(G.innerHTML)[1];for(A=0;A<U.length;A+=1)if(g=U[A],\"SCRIPT\"===g.nodeName&&V.regexp.test(g.innerHTML)&&V.regexp.exec(g.innerHTML)[1]===R){ C=A;break }if(null!==C)for(A=C+1;A<U.length;A+=1)if(g=U[A],\"SPAN\"===g.nodeName&&J(g.className,V.pID+\"_end\")+1){ o=A;break }if(null!==C&&null!==o)for(A=C+1;A<o;A+=1)g=U[A],Node.ELEMENT_NODE!==g.nodeType&&Node.CDATA_SECTION_NODE!==g.nodeType&&Node.COMMENT_NODE!==g.nodeType||V.arr.push(g) } },V.col=V.collectAdTagContents,V.crS=function(G){ var A,U=p.scripts;for(A=0;A<U.length;A+=1)if(V.doesContentMatch(U[A])&&V.regexp.exec(U[A].innerHTML)[1]===G){ V.collectAdTagContents(U[A]),V.createAdTag(V.regexp.exec(U[A].innerHTML)[1],U[A]);break } },V.postProcessUnitArray=[],V.addPostProcessUnit=function(G,A){ var U={ };U.priority=G,U.f=A,V.postProcessUnitArray.push(U) },V.postProcessUnit=function(G,A){ V.postProcessUnitArray=V.postProcessUnitArray.sort(function(G,A){ return G.priority>A.priority?1:G.priority===A.priority?0:-1 });var U;for(U=0;U<V.postProcessUnitArray.length;U+=1)G=V.postProcessUnitArray[U].f.call(A||V,G);return G },V.createAdTag=function(G,J){ if(J){ var o,R=C(p,\"div\"),l=C(p,\"div\"),S=C(p,\"div\");V.arr&&(o=V.arr,setTimeout(function(){ for(var G=0;G<o.length;G+=1)void 0!==o[G].style?o[G].style.setProperty(\"display\",\"none\"):g(l,o[G]) },100)),V.arr=[];var b=function(){ J.parentNode.insertBefore(R,J.nextSibling),g(R,S) },e={ };switch(G){ case\"skyscraper\":e.st=\"IFYb1Hlqc8da\",e.ss=\"cursor:pointer; max-width:300px; max-height:800px;\",e.sd=\"\",e.sm=\"\",e.im=K+m+\"/U/\"+k+\"/\"+a+\"8UkvFSC1cLTy1Sr35HLi5\"+w,e.cl=function(G,A,U){ return K+m+\"/\"+k+\"/\"+G+\"f\"+A+\"/\"+a+\"8UkvFSC1cL5HTGc\"+w },e.extra=\"\",e.ins=function(){ S.style.setProperty(\"position\",\"fixed\"),S.style.setProperty(\"margin-left\",\"10px\"),b() },e.ifr=!1,e.fb=!1,e.ifrBlock=!1,e.mkStyleDyn=U;break;case\"superbanner\":e.st=\"wAfc4l9hqhVY\",e.ss=\"cursor:pointer; max-width:970px; max-height:300px;\",e.sd=\"\",e.sm=\"\",e.im=K+m+\"/U/\"+k+\"/\"+a+\"8UkvFXI1eXhQbV385HLr6\"+w,e.cl=function(G,A,U){ return K+m+\"/\"+k+\"/\"+G+\"f\"+A+\"/\"+a+\"8UkvFXI1eX5HhGd\"+w },e.extra=\"\",e.ins=\"\",e.ifr=!1,e.fb=!1,e.ifrBlock=!1,e.mkStyleDyn=U;break;case\"rectangle1\":e.st=\"WesWCKe6g0nW\",e.ss=\"cursor:pointer; max-width:300px; max-height:250px;\",e.sd=\"\",e.sm=\"\",e.im=K+m+\"/U/\"+k+\"/\"+a+\"8UkvFWD1e3EPLr8f5HLc2\"+w,e.cl=function(G,A,U){ return K+m+\"/\"+k+\"/\"+G+\"f\"+A+\"/\"+a+\"8UkvFWD1e35HEGp\"+w },e.extra=\"\",e.ins=\"\",e.ifr=!1,e.fb=!1,e.ifrBlock=!1,e.mkStyleDyn=U;break;case\"rectangle2\":e.st=\"ryKKGCoKQf4Y\",e.ss=\"cursor:pointer; max-width:300px; max-height:250px;\",e.sd=\"\",e.sm=\"\",e.im=K+m+\"/U/\"+k+\"/\"+a+\"8UkvFYV20XHeWzYf5HLU3\"+w,e.cl=function(G,A,U){ return K+m+\"/\"+k+\"/\"+G+\"f\"+A+\"/\"+a+\"8UkvFYV20X5HHGy\"+w },e.extra=\"\",e.ins=\"\",e.ifr=!1,e.fb=!1,e.ifrBlock=!1,e.mkStyleDyn=U }if(void 0!==e)if(e.mkStyleDyn&&e.mkStyleDyn(V.profile||{ }),e=V.postProcessUnit(e),e.wp){ e.wp(),V.callback() }else{ var F=C(p,\"style\");F.type=\"text/css\",\"M\"===f&&e.m?e.ss+=e.sm:e.ss+=e.sd,F.innerHTML=\"#\"+e.st+\"{ \"+e.ss+\" }\",g(A(p,\"head\")[0],F),S.id=e.st;var n=C(p,\"img\");n.onload=function(){ e.bs&&(n.style.cssText+=\"width:\"+this.width+\"px;height:\"+this.height+\"px;max-width:\"+this.width+\"px;max-height:\"+this.height+\"px;\");g(S,n),I(e.ins)?e.ins():b(),I(e.extra)&&e.extra(),I(e.onLoaded)&&e.onLoaded(n),V.callback() },n.onerror=function(A){ \"function\"==typeof y&&y(G),V.callback() };n.src=e.im,n.onclick=function(G){ G.preventDefault(),G.stopPropagation();var A=s(G),U=e.cl(A.x,A.y,G);X(U) },e.remove=function(){ B([R,S,F]) } } } },V.crt=V.createAdTag,V.join=function(){ var G=arguments,A=\"\",U=\"\",g=G[0];if(!g)return A;var C,V,o=G[G.length-1],R=\"/\"===g.charAt(0),l=\"/\"===o.charAt(o.length-1),S=0===J(g,\"//\");for(C=0;C<G.length;C+=1)V=G[C],A+=V+\"/\";var B=A.split(\"://\");2===B.length&&(U=B[0]+\":\",A=B[1]);var b=A.split(\"/\"),e=[];for(C=0;C<b.length;C+=1)(V=b[C])&&e.push(V);return e=e.join(\"/\"),U.length>1||S?e=U+\"//\"+e:R&&(e=\"/\"+e),l&&(e+=\"/\"),e },V.cbtimeout=null,V.cbiter=function(){ var A;V.cb.length>0&&(A=V.cb.shift(),I(A)&&A(),V.cbtimeout=G.setTimeout(V.cbiter,1)) },V.callback=function(){ V.cbtimeout&&G.clearTimeout(V.cbtimeout),V.cbtimeout=G.setTimeout(V.cbiter,2e3) } }function o(){ if(!F()&&(!G[_]||L&&G[_]!=L)){ var U=A(p,\"body\")[0],J=C(p,\"img\");e()&&g(U,J),J.src=K+\"image/images/bg_ad/ZWyS-b1mZJXOlD5.gif\",J.onerror=function(){ l(),B(this) },J.onload=function(){ this.width<3&&(l(),B(this)) } } }function R(){ d=!0,setTimeout(function(){ d=!1 },2e3) }function l(){ if(!d&&G[_]!==L){ R(),G[_]=L,a=T(9,9,E+t+H);var U=C(p,\"script\"),J=A(p,\"body\")[0];/* @preserve Opt-out cookie link */\\nU.src=\"https://www.tisoomi-services.com/cookie\",U.onload=S,U.onerror=S,g(J,U) } }function S(){ var A=n(\"_TStfc\");(\"\"===A||A.length>32)&&(A=A.substr(32)||Date.now()%1e10+j.floor(35*j.random()).toString(36)+\"5\",N(\"_TStfc\",A,2592e3,\"/\")),!G.userOptOut&&G.ti_id?k=G.ti_id+A:(k=A,z=!0),M(),B(this),i.srch() }function B(G){ (P(G)?G:[G]).forEach(function(G){ G&&G.parentNode&&G.parentNode.removeChild(G) }) }function b(A){ function U(){ C||(C=!0,A()) }function g(){ if(!C&&p.body)try{ p.documentElement.doScroll(\"left\"),U() }catch(G){ setTimeout(g,0) } }var C=!1;\"complete\"===p.readyState?setTimeout(U,0):p.addEventListener?p.addEventListener(\"DOMContentLoaded\",U,!1):p.attachEvent&&(p.documentElement.doScroll&&G==G.top&&g(),p.attachEvent(\"onreadystatechange\",function(){ \"complete\"===p.readyState&&U() })),G.addEventListener?G.addEventListener(\"load\",U,!1):G.attachEvent&&G.attachEvent(\"onload\",U) }function e(){ return/^((?!chrome).)*safari/i.test(navigator.userAgent) }function F(){ return/msie|trident|edge/i.test(navigator.userAgent) }function n(G){ for(var A=p.cookie.split(\";\"),U=\"\",g=0;g<A.length;g+=1){ var C=A[g].trim();0===J(C,G+\"=\")&&(U=C.replace(G+\"=\",\"\")) }return U }function N(G,A,U,g){ void 0===U&&(U=2592e3);for(var C=Date.now(),V=p.domain,o=V.split(\".\"),R=\"_gd\"+C,l=2;l<=o.length&&-1===J(p.cookie,R+\"=\"+R);l+=1)V=o.slice(-l).join(\".\"),p.cookie=R+\"=\"+R+\";domain=\"+V+\";\";var S=new Date(0);p.cookie=R+\"=;expires=\"+S.toUTCString()+\";domain=\"+V+\";\",S.setTime(C+1e3*U),p.cookie=G+\"=\"+A+\"; expires=\"+S.toUTCString()+\";\"+(V?\"domain=\"+V+\";\":\"\")+\"path=\"+(g||\"/\") }function M(){ var G=[\"Phone\",\"Pod\",\"Pad\",\"Android\",\"BlackBerry\",\"PlayBook\",\"Kindle\",\"Mobi\",\"Mini\"];f=\"D\";for(var A=0;A<G.length;A+=1)if(J(navigator.userAgent,G[A])>-1)return void(f=\"M\") }function s(G){ var A=G.target,U=A.getBoundingClientRect(),g=G.clientX-U.left,C=G.clientY-U.top;return g*=(A.naturalWidth||A.clientWidth)/U.width,C*=(A.naturalHeight||A.clientHeight)/U.height,{ x:j.floor(g),y:j.floor(C) } }function T(G,A,U){ for(var g=\"\",C=G+j.floor(j.random()*(A-G));C;)g+=U[j.floor(j.random()*U.length)],C-=1;return g }function P(G){ return Array.isArray?Array.isArray(G):\"[object Array]\"===Object.prototype.toString.call(G) }function I(G){ return\"function\"==typeof G }function x(){ return!1 }function y(G){ v||(J(u,G)>-1&&(r+=1,h[G]=1),(r===u.length||x())&&Z&&(v=!0,i.crt(Z,p.body))) }function W(G,A){ if(null!=A)for(var U,g=Object.getOwnPropertyNames(A),C=0;C<g.length;C+=1)U=g[C],Object.prototype.hasOwnProperty.call(A,U)&&(G[U]=A[U]);return G }function Y(G,A,U,g){ return function(){ var C=G^G<<11>>>0;return G=A,A=U,U=g,(g=(g^g>>>19^C^C>>>8)>>>0)/j.p32 } }function D(){ var G=new Uint32Array(1);return function(){ return crypto.getRandomValues(G),G[0]/j.p32 } }function q(A){ var U=function(G){ var A=[G(),G()];return A=A.filter(function(G){ return\"number\"==typeof G&&G>=0&&G<=1 }),2===A.length&&A[0]!==A[1] };if(I(A)&&U(A))return A;var g=\"Uint32Array\"in G,C=G.crypto||G.msCrypto,J=C&&I(C.getRandomValues);if(g&&J){ var V=D();if(U(V))return V }var o=Date.now();return Y(541*o,1223*o,1987*o,2741*o) }function X(G){ E.slice(1);G&&p.location.assign(G) }var p=G.document,Q=G.Math,K=G.xOrJs9s8x||\"/\",m=\"image\",w=\".gif\",f=\"U\",a=\"\",k=\"\",z=!1,d=!1,E=\"0123456789\",t=\"BCDEFGHIJKLMNOPQRSTUVWXYZ\",H=\"bcdefghijklmnoqrstuvxyz\",Z=\"\",u=[],r=0,v=!1,h={ },i={ },L=\"UhDlPqe\",_=\"_tskbonixuvi\",c={ };c.p32=4294967296;var j=W(c,Q);j.random=q(j.random),V(i),U(i),b(o),i.t=\"20190316020355\" }(window);</script>\\n<style>\\n        @font-face {\\n            font-family: 'OSL';\\n            font-style: normal;\\n            font-weight: normal;\\n            src: local('Open Sans Cond Light'), local('OpenSans-CondensedLight'),\\n            url(https://tmsi.akamaized.net/fonts/OpenSans-CondensedLight.woff) format('woff');\\n        }\\n        @font-face {\\n            font-family: 'OSB';\\n            font-style: normal;\\n            font-weight: normal;\\n            src: local('Open Sans Cond Light'), local('OpenSans-CondensedLight'),\\n            url(https://tmsi.akamaized.net/fonts/OpenSans-CondensedLight.woff) format('woff');\\n        }\\n        @font-face {\\n            font-family: 'Source Sans Pro';\\n            font-style: normal;\\n            font-weight: normal;\\n            src: local('Source Sans Pro'), local('SourceSansPro-Regular'),\\n            url(https://tmsi.akamaized.net/fonts/SourceSansPro-Regular.woff) format('woff');\\n        }\\n        @font-face {\\n            font-family: 'Source Sans Pro';\\n            font-style: normal;\\n            font-weight: bold;\\n            src: local('Source Sans Pro Bold'), local('SourceSansPro-Bold'),\\n            url(https://tmsi.akamaized.net/fonts/SourceSansPro-Bold.woff) format('woff');\\n        }\\n        @font-face {\\n            font-family: 'Oswald';\\n            font-style: normal;\\n            font-weight: lighter;\\n            src: url(https://tmsi.akamaized.net/fonts/oswald_light.woff) format('woff');\\n        }\\n        @font-face {\\n            font-family: 'Oswald';\\n            font-style: normal;\\n            font-weight: normal;\\n            src: url(https://tmsi.akamaized.net/fonts/oswald_regular.woff) format('woff');\\n        }\\n        @font-face {\\n            font-family: 'Oswald';\\n            font-style: normal;\\n            font-weight: bold;\\n            src: url(https://tmsi.akamaized.net/fonts/oswald_bold.woff) format('woff');\\n        }\\n        @font-face {\\n            font-family: \"socicon\";\\n            src: url(\"https://tmsi.akamaized.net/fonts/socicon.eot\");\\n            src: url(\"https://tmsi.akamaized.net/fonts/socicon.eot?#iefix\") format(\"embedded-opentype\"),\\n            url(\"https://tmsi.akamaized.net/fonts/socicon.woff\") format(\"woff\"),\\n            url(\"https://tmsi.akamaized.net/fonts/socicon.ttf\") format(\"truetype\"),\\n            url(\"https://tmsi.akamaized.net/fonts/socicon.svg#socicon\") format(\"svg\");\\n            font-weight: normal;\\n            font-style: normal;\\n        }\\n    </style>\\n</link></link></link></meta></meta></head>\\n<body class=\"\" itemscope=\"\" itemtype=\"http://schema.org/WebPage\" style=\"overflow-y: scroll;\" x-ms-format-detection=\"none\">\\n<script type=\"text/javascript\">utag_data = {\\nguest : \"1\",\\ncontroller : \"statistik\",\\naction : \"transferrekorde\",\\ncg1 : \"statistik\",\\ncg2 : \"global\",\\ncg3 : \"transfers\",\\ncg4 : \"transferrekorde\",\\n};</script>\\n<script>utag_data.tmAdblock=(typeof(adet) == \"boolean\")?\"0\":\"1\";</script>\\n<!-- Loading script asynchronously -->\\n<script type=\"text/javascript\">\\r\\n    (function(a,b,c,d){\\r\\n    a='//tags.tiqcdn.com/utag/axelspringer/transfermarkt-transfermarkt.de/prod/utag.js';\\r\\n    b=document;c='script';d=b.createElement(c);d.src=a;d.type='text/java'+c;d.async=true;\\r\\n    a=b.getElementsByTagName(c)[0];a.parentNode.insertBefore(d,a);\\r\\n    })();\\r\\n</script><!-- Tealium activated --><!-- GTM Base -->\\n<noscript><iframe height=\"0\" src=\"//www.googletagmanager.com/ns.html?id=GTM-N688MF8\" style=\"display:none;visibility:hidden\" width=\"0\"></iframe></noscript>\\n<div id=\"andereSprache\" style=\"display:none;\">\\n<div class=\"row\">\\n<div class=\"large-12 columns\">\\n<a href=\"#\" id=\"linkNewSite\"></a>\\n</div>\\n</div>\\n<a href=\"#\" id=\"hierbleiben\" title=\"\"></a>\\n</div>\\n<script type=\"text/javascript\">\\r\\n\\tvar lp = parseInt(getCookie(\"_tmlpu\")) || 0;\\r\\n\\tif (lp < 5) {\\r\\n\\t\\t$.getJSON('/site/ajaxlaenderpopup', null, function (data) {\\r\\n\\t\\t\\tif (! $.isEmptyObject(data)) {\\r\\n\\t\\t\\t\\t$('a#linkNewSite').attr('href', data.linkNewSite).append(data.text);\\r\\n\\t\\t\\t\\t$('a#hierbleiben').attr('title', data.hierbleiben);\\r\\n\\t\\t\\t\\t$('div#andereSprache').show();\\r\\n\\t\\t\\t}\\r\\n\\t\\t});\\r\\n\\t}\\r\\n\\t$('a#hierbleiben').click(function() {\\r\\n\\t\\tvar d = new Date();\\r\\n\\t\\td.setTime(d.getTime() + (2 * 30 * 24 * 60 * 60 * 1000));\\r\\n\\t\\tvar expires = \"expires=\" + d.toUTCString();\\r\\n\\t\\tdocument.cookie = \"_tmlpu\" + \"=\" + \"5\" + \"; \" + expires + \"; path=/\";\\r\\n\\t\\t$('#andereSprache').hide();\\r\\n\\t});\\r\\n</script><div style=\"height: 0;overflow:hidden;\"><svg xmlns=\"http://www.w3.org/2000/svg\"><defs><radialgradient cx=\"20.0428\" cy=\"483.0563\" gradienttransform=\"matrix(1.0037 0 0 1.0037 -0.7255 0)\" gradientunits=\"userSpaceOnUse\" id=\"instagram-SVGID_1_\" r=\"598.3858\"> <stop offset=\"0\" style=\"stop-color:#FCCC63\"></stop> <stop offset=\"8.107393e-02\" style=\"stop-color:#FBB655\"></stop> <stop offset=\"0.1346\" style=\"stop-color:#FBAD50\"></stop> <stop offset=\"0.3169\" style=\"stop-color:#E95950\"></stop> <stop offset=\"0.418\" style=\"stop-color:#DC515D\"></stop> <stop offset=\"0.5045\" style=\"stop-color:#CD486B\"></stop> <stop offset=\"0.6606\" style=\"stop-color:#BC2A8D\"></stop> <stop offset=\"0.7451\" style=\"stop-color:#A631A0\"></stop> <stop offset=\"0.8706\" style=\"stop-color:#8A3AB9\"></stop> <stop offset=\"1\" style=\"stop-color:#4C68D7\"></stop> </radialgradient></defs><symbol id=\"icon-Elfmeter\" viewbox=\"0 0 97.3 91.9\"><title>Elfmeter</title> <path d=\"M70.3,62.4c0,11.5-9.3,20.8-20.8,20.8c-11.5,0-20.8-9.3-20.8-20.8c0-11.5,9.3-20.8,20.8-20.8\\n\\tC61,41.6,70.3,50.9,70.3,62.4\" fill=\"#FFFFFF\"></path> <path d=\"M44,60.7l2.1,6.5h6.8l2.1-6.5l-5.5-4L44,60.7z M49.5,45.2c-9.5,0-17.3,7.7-17.3,17.3\\n\\tc0,9.5,7.7,17.3,17.3,17.3c9.5,0,17.3-7.7,17.3-17.3C66.8,52.9,59,45.2,49.5,45.2 M55.5,70.7l-2,6.1c-1.3,0.4-2.6,0.6-4,0.6\\n\\tc-1.4,0-2.8-0.2-4-0.6l-2-6.1l-6.5,0c-1.5-2.2-2.4-4.8-2.5-7.7l5.2-3.8l-2-6.1c1.7-2.1,3.9-3.8,6.5-4.7l5.2,3.8l5.2-3.8\\n\\tc2.6,1,4.8,2.6,6.5,4.7l-2,6.1l5.2,3.8c-0.1,2.8-1,5.5-2.5,7.7H55.5z\" fill=\"#0E3654\"></path> <polygon fill=\"#1B3251\" points=\"12.5,8.9 12.5,57.5 21.2,57.5 21.2,17.3 77.6,17.3 77.6,57.5 86.5,57.5 86.5,8.9 \"></polygon> </symbol><symbol id=\"icon-Facebook-Blau\" viewbox=\"0 0 128 128\"><title>Facebook-Blau</title> <g> <rect fill=\"#3A5A99\" height=\"128\" id=\"Facebook-Blau-facebook-back\" width=\"128\"></rect> <path d=\"M95.9,28.2H32.1c-2.2,0-4,1.8-4,4v63.8c0,2.2,1.8,4,4,4h34.3V72.1h-9.3V61.3h9.3v-8\\r\\n\\t\\tC66.4,44,72.1,39,80.4,39c4,0,7.4,0.3,8.3,0.4v9.7l-5.7,0c-4.5,0-5.4,2.1-5.4,5.3v6.9h10.7l-1.4,10.8h-9.3v27.8h18.3\\r\\n\\t\\tc2.2,0,4-1.8,4-4V32.1C99.8,29.9,98.1,28.2,95.9,28.2z\" fill=\"#FFFFFF\" id=\"Facebook-Blau-facebook-facebook\"></path> </g> </symbol><symbol id=\"icon-Facebook-Messenger-Blau\" viewbox=\"0 0 128 128\"><title>Facebook-Messenger-Blau</title> <rect fill=\"#0084FF\" height=\"128\" id=\"Facebook-Messenger-Blau-facebook-back\" width=\"128\" y=\"0\"></rect> <path d=\"M63.7,13.2c-27.9,0-50.5,21.1-50.5,47c0,14.8,7.3,28,18.8,36.6v17.9l17.2-9.5c4.6,1.3,9.5,2,14.5,2\\n\\tc27.9,0,50.5-21.1,50.5-47S91.6,13.2,63.7,13.2z M68.7,76.5L55.8,62.7L30.7,76.5L58.3,47l13.2,13.8L96.3,47L68.7,76.5z\" fill=\"#FFFFFF\"></path> </symbol><symbol id=\"icon-Facebook-Messenger-Weiss\" viewbox=\"0 0 128 128\"><title>Facebook-Messenger-Weiss</title> <style type=\"text/css\"> .st0{fill:#FFFFFF;} .st1{fill:#0084FF;} </style> <rect class=\"st0\" height=\"128\" id=\"Facebook-Messenger-Weiss-facebook-back\" width=\"128\" y=\"0\"></rect> <path class=\"st1\" d=\"M63.7,13.2c-27.9,0-50.5,21.1-50.5,47c0,14.8,7.3,28,18.8,36.6v17.9l17.2-9.5c4.6,1.3,9.5,2,14.5,2\\n\\tc27.9,0,50.5-21.1,50.5-47S91.6,13.2,63.7,13.2z M68.7,76.5L55.8,62.7L30.7,76.5L58.3,47l13.2,13.8L96.3,47L68.7,76.5z\"></path> </symbol><symbol id=\"icon-Groundhopping\" viewbox=\"0 0 185 126\"><title>Groundhopping</title> <g> <g> <path d=\"M171,23.6c-3.8-3.1-8.1-5.7-12.3-7.8c-10.7-5.3-22.3-8.6-34.1-10.5L123,4.9c-2.9-0.5-5.8-0.8-8.6-1.2\\n\\t\\t\\tC98.3,2,81.9,2.1,65.9,4.3c-1.5,0.2-3,0.4-4.4,0.7l-1.6,0.3c-13.3,2.3-26.6,6.1-38.3,12.9c-2.7,1.6-5.5,3.5-8.1,5.6l-1.6,1.4\\n\\t\\t\\tc-5.6,5.1-10,11.7-9.7,19.4c0.4,8.9,5.6,15.9,12.3,21.2v12.7c-2.5-2.1-4.4-4.3-5.7-6.4c-0.7-1.1-1.2-2.2-1.6-3.2\\n\\t\\t\\tc-0.4-1-0.6-1.8-0.8-2.6c-0.2-0.7-0.3-1.3-0.3-1.7c-0.1-0.4-0.1-0.6-0.1-0.6s0,0.2,0,0.6c0,0.4-0.1,1,0,1.7\\n\\t\\t\\tc0.1,1.5,0.3,3.8,1.5,6.4C8,74.1,8.8,75.6,9.7,77c1,1.5,2.1,2.9,3.5,4.4c0.4,0.4,0.9,0.9,1.3,1.3v11.6c-2.5-2.1-4.4-4.3-5.7-6.4\\n\\t\\t\\tc-0.7-1.1-1.2-2.2-1.6-3.2c-0.4-1-0.6-1.8-0.8-2.6c-0.2-0.7-0.3-1.3-0.3-1.7C6.1,80.2,6.1,80,6.1,80s0,0.2,0,0.6\\n\\t\\t\\tc0,0.4-0.1,1,0,1.7c0.1,1.5,0.3,3.8,1.5,6.4C8,90,8.8,91.4,9.7,92.9c1,1.5,2.1,2.9,3.5,4.4c0.4,0.4,0.9,0.9,1.3,1.3l0.3,0.3\\n\\t\\t\\tc2.5,2.3,5.4,4.6,8.8,6.7c2.1,1.3,4.3,2.5,6.7,3.7c2.4,1.2,4.9,2.2,7.5,3.3c5.2,2,10.8,3.8,16.7,5.1c3,0.7,6,1.3,9.1,1.8\\n\\t\\t\\tc0.2,0,0.3,0,0.5,0.1l0.9,2.9l1.9-0.6l1.9-0.6l-6.6-21.9c20.3-5.1,40-5.1,60.3,0l-6.6,21.9l1.9,0.6l1.9,0.6l0.9-2.9\\n\\t\\t\\tc0.2,0,0.3,0,0.5-0.1c3.1-0.5,6.1-1.1,9.1-1.8c5.9-1.4,11.5-3.1,16.7-5.1c2.6-1,5.1-2.1,7.5-3.3c2.4-1.2,4.6-2.4,6.7-3.7\\n\\t\\t\\tc3.4-2.1,6.3-4.4,8.8-6.7l0.3-0.3c0.5-0.4,0.9-0.9,1.3-1.3c2.8-2.9,4.7-5.9,5.8-8.6c1.1-2.7,1.4-4.9,1.5-6.4c0-0.8,0-1.3,0-1.7\\n\\t\\t\\tc0-0.4,0-0.6,0-0.6s0,0.2-0.1,0.6c0,0.4-0.1,0.9-0.3,1.7c-0.2,0.7-0.4,1.6-0.8,2.6c-0.4,1-0.9,2.1-1.6,3.2\\n\\t\\t\\tc-0.7,1.1-1.6,2.3-2.7,3.5c-0.9,1-1.9,1.9-3,2.9V82.7c0.5-0.4,0.9-0.9,1.3-1.3c2.8-2.9,4.7-5.9,5.8-8.6c1.1-2.7,1.4-4.9,1.5-6.4\\n\\t\\t\\tc0-0.8,0-1.3,0-1.7c0-0.4,0-0.6,0-0.6s0,0.2-0.1,0.6c0,0.4-0.1,0.9-0.3,1.7c-0.2,0.7-0.4,1.6-0.8,2.6c-0.4,1-0.9,2.1-1.6,3.2\\n\\t\\t\\tc-0.7,1.1-1.6,2.3-2.7,3.5c-0.9,1-1.9,1.9-3,2.9V65.9c6.8-5.3,12-12.4,12.5-21.4c0-7.9-4.2-14.4-9.8-19.6L171,23.6z M125.4,13.1\\n\\t\\t\\tc7.6,1.4,15.1,3.5,22.3,6.3c6.4,2.5,14.3,6.1,19.9,11.4l-30.5,19c-6-4.7-15.8-8.3-27.4-10.1L125.4,13.1z M102.4,10.4\\n\\t\\t\\tc6.1,0.3,12.1,0.9,18.2,1.9L104.7,39c-4-0.4-8.2-0.7-12.4-0.7c-4.3,0-8.5,0.2-12.4,0.7L63.9,12.3C76.6,10.3,89.6,9.7,102.4,10.4\\n\\t\\t\\tL102.4,10.4z M22.6,26.5c10.9-7.2,23.9-11,36.6-13.4l15.8,26.5c-11.6,1.8-21.3,5.5-27.4,10.1L17,30.8\\n\\t\\t\\tC18.7,29.2,20.6,27.8,22.6,26.5L22.6,26.5z M36.1,105.7c-3.6-1.2-7-2.6-10.1-4.1c-2.1-1-4-2.1-5.8-3.1c-0.4-0.2-0.7-0.5-1.1-0.7\\n\\t\\t\\tV86.6c1.4,1.1,3,2.1,4.6,3.2c2.1,1.3,4.3,2.5,6.7,3.7c1.8,0.9,3.7,1.7,5.7,2.6V105.7z M36.1,89.8c-3.6-1.2-7-2.6-10.1-4.1\\n\\t\\t\\tc-2.1-1-4-2.1-5.8-3.1c-0.4-0.2-0.7-0.5-1.1-0.7V69c1.6,1,3.2,2,4.8,2.8c3.9,2.1,8,3.9,12.2,5.4V89.8z M32.1,67.2\\n\\t\\t\\tc-6.3-2.9-12.7-6.5-17.4-11.8c-2.2-2.6-5.5-7.3-4.8-11.1c0.3-1.8,0.8-4.9,2-7.2c0.6-1,1.2-2,1.9-2.9L44.1,53\\n\\t\\t\\tc-2.1,2.5-3.3,5.2-3.3,8c0,4.4,2.9,8.6,7.9,12.1C43,71.5,37.4,69.6,32.1,67.2L32.1,67.2z M56.1,110.8c-5.4-1-10.6-2.2-15.4-3.7\\n\\t\\t\\tv-9.4c4.4,1.6,9.1,3,14,4.1c1.5,0.4,3,0.7,4.5,1l2.7,8.9C59.8,111.4,57.9,111.1,56.1,110.8L56.1,110.8z M143.9,107.1\\n\\t\\t\\tc-4.9,1.4-10,2.7-15.4,3.7c-1.9,0.3-3.8,0.6-5.7,0.9l2.7-8.9c1.5-0.3,3-0.6,4.5-1c4.9-1.1,9.6-2.5,14-4.1V107.1z M143.9,91.3\\n\\t\\t\\tc-4.9,1.4-10,2.7-15.4,3.7c-1.7,0.3-3.3,0.6-5,0.8c-20.9-5.3-41.4-5.3-62.3,0c-1.7-0.3-3.4-0.5-5-0.8c-5.4-1-10.6-2.2-15.4-3.7\\n\\t\\t\\tV78.8c9.2,3,18.8,4.8,28.3,5.9c15.7,1.9,31.7,1.9,47.4,0c9.3-1.2,18.6-3,27.6-5.8V91.3z M165.4,97.7c-0.4,0.2-0.7,0.5-1.1,0.7\\n\\t\\t\\tc-1.8,1.1-3.7,2.2-5.8,3.1c-3.1,1.5-6.5,2.9-10.1,4.1V96c2-0.8,3.9-1.7,5.7-2.6c2.4-1.2,4.6-2.4,6.7-3.7c1.6-1,3.2-2.1,4.6-3.2\\n\\t\\t\\tV97.7z M165.4,81.9c-0.4,0.2-0.7,0.5-1.1,0.7c-1.8,1.1-3.7,2.2-5.8,3.1c-3.1,1.5-6.5,2.9-10.1,4.1V77.3c3.8-1.4,7.6-3,11.2-4.9\\n\\t\\t\\tc2-1,3.9-2.1,5.8-3.3V81.9z M174.4,44.3c-0.1,6.9-6.2,13.4-12.3,17.5c-7.9,5.3-16.9,8.8-26.2,11.2c4.9-3.5,7.7-7.6,7.7-11.9\\n\\t\\t\\tc0-2.8-1.2-5.5-3.3-8l30.2-18.7C172.7,37.1,174.2,40.5,174.4,44.3L174.4,44.3z M174.4,44.3\" fill=\"#1B3251\"></path> </g> </g> </symbol><symbol id=\"icon-Laender\" viewbox=\"0 0 339.3 332.1\"><title>Laender</title> <g> <path d=\"M294.4,82.2l-4.5,1.5l-24.2,2.1L259,96.7l-5-1.6l-19.2-17.3l-2.8-9l-3.7-9.6l-12.1-10.8l-14.3-2.8l-0.3,6.5\\n\\t\\tl14,13.6l6.8,8.1l-7.7,4l-6.3-1.8l-9.4-3.9l0.3-7.5l-12.3-5L183,77.2L170.6,80l1.2,9.9L188,93l2.8-15.8l13.3,1.9l6.2,3.6h10\\n\\t\\tl6.8,13.6l18,18.3l-1.3,7.1l-14.5-1.9l-25.2,12.7L186,154.3l-2.4,9.6h-6.5l-12.1-5.6l-11.8,5.6l2.9,12.4l5.1-5.9l9-0.3l-0.7,11.2\\n\\t\\tl7.4,2.2l7.5,8.3l12.1-3.4l13.9,2.2l16.1,4.3l8.1,0.9l13.6,15.5l26.3,15.5l-17,32.5l-18,8.4l-6.8,18.6l-26,17.4l-2.8,10\\n\\t\\tc66.5-16,116-75.8,116-147.2C320.1,135.4,310.6,106.3,294.4,82.2L294.4,82.2z M294.4,82.2\" fill=\"#1B3251\"></path> <path d=\"M186,245.8l-11-20.4l10.1-21.1l-10.1-3.1l-11.4-11.4l-25.2-5.6l-8.4-17.5V177h-3.7l-21.7-29.5v-24.2\\n\\t\\tL88.7,97.4L63.4,102h-17l-8.6-5.7l10.9-8.6l-10.9,2.5C24.7,112.6,17,138.7,17,166.6c0,83.7,67.8,151.6,151.5,151.6\\n\\t\\tc6.5,0,12.8-0.6,19-1.3l-1.6-18.4c0,0,7-27.3,7-28.2C192.9,269.3,186,245.8,186,245.8L186,245.8z M186,245.8\" fill=\"#1B3251\"></path> <path d=\"M73.3,63.9l26.9-3.7l12.4-6.8l14,4.1l22.3-1.3l7.6-12l11.2,1.8l27-2.5l7.4-8.2l10.6-7l14.8,2.2l5.5-0.8\\n\\t\\tC213.5,20.3,191.7,15,168.5,15c-47,0-89.1,21.4-116.8,55.1h0L73.3,63.9z M175,30.1l15.5-8.5l9.9,5.8L186,38.2l-13.7,1.4l-6.2-4.1\\n\\t\\tL175,30.1z M129.1,31.3l6.8,2.9l9-2.9l4.8,8.5l-20.6,5.4l-9.9-5.8C119.2,39.4,128.9,33.1,129.1,31.3L129.1,31.3z M129.1,31.3\" fill=\"#1B3251\"></path> </g> </symbol><symbol id=\"icon-Platzverweis\" viewbox=\"0 0 97.3 91.9\"><title>Platzverweis</title> <rect fill=\"#8F1A29\" height=\"64.3\" width=\"46.7\" x=\"25.5\" y=\"13.5\"></rect> </symbol><symbol id=\"icon-Spiele\" viewbox=\"0 0 48.5 60\"><title>Spiele</title> <rect fill=\"#1B3251\" height=\"43.2\" transform=\"matrix(-1.836970e-16 1 -1 -1.836970e-16 54.25 5.75)\" width=\"54.8\" x=\"-3.2\" y=\"8.4\"></rect> <path d=\"M43.2,5h-38v50h38V5z M30.4,30.9c-0.5,2.8-2.9,5-5.8,5c-2.9,0-5.4-2.2-5.8-5H30.4z M31.3,7v6.1H17.2V7H31.3z\\n\\t M18.8,29c0.5-2.8,2.9-5,5.8-5c2.9,0,5.4,2.2,5.8,5H18.8z M32.1,29c-0.5-3.8-3.6-6.7-7.5-6.7s-7.1,2.9-7.5,6.7H7.3V7h8v6.1V15h1.9\\n\\th14.1h1.9v-1.9V7h8.1v22H32.1z M7.3,30.9h9.8c0.5,3.8,3.6,6.7,7.5,6.7s7.1-2.9,7.5-6.7h9.2v22h-8.1v-6v-1.9h-1.9H17.2h-1.9v1.9v6h-8\\n\\tV30.9z M31.3,53H17.2v-6h14.1V53z\" fill=\"#FFFFFF\"></path> </symbol><symbol id=\"icon-Spieler\" viewbox=\"0 0 426 432\"><title>Spieler</title> <path d=\"M384.6,354.1c-32.1-16.5-65.5-30.2-99.2-43.1c-2.5-0.9-5.5-2.8-6.5-5.1c-2.8-6.1-4.6-12.6-6.7-18.9\\n\\tc-1.2-4-2.3-7.9-6.8-9.9c-1.1-0.5-2.3-2.9-2.2-4.3c0.2-14.8-3.3-30.4,7.7-43.3c0.4-0.4,0.5-0.9,0.7-1.5c5.9-12.9,7-27.7,15.2-39.8\\n\\tc0.2-0.3,0.3-0.6,0.3-1c0.9-9.2,1.9-18.3,2.7-27.6c0.1-1.1-0.9-3.2-1.9-3.5c-4.5-1.7-4.3-5.3-4.3-9c0.1-18,0-36,0-53.9\\n\\tc0-10.4-3.1-19.7-11-26.8c-9-8.1-18.2-16-27.5-23.8c-4.5-3.8-4.8-6.6-0.6-10.8c1.8-1.8,4.2-3.1,6.4-4.7c-0.5-0.6-0.9-1.4-1.4-2.1\\n\\tc-2.8,0-5.6-0.4-8.4,0.1c-10.2,1.7-20.4,3.1-30.5,5.4C191.7,35.2,173,41.2,157.5,54c-10.7,8.7-19.1,18.9-20.2,33.4\\n\\tc-0.6,7.5-0.5,15.2-0.5,22.7c-0.1,12.3,0.1,24.6-0.2,37c0,2-1.2,5.3-2.5,5.8c-5.1,1.6-5.1,4.8-4.5,8.9c0.4,2.8,0.1,5.9,0.7,8.7\\n\\tc1.7,7.7,3.5,15.4,5.8,23c1.7,5.6,4.9,11,5.8,16.7c1.8,11.5,6.1,21.5,13.8,30.2c1.3,1.4,2.2,3.8,2.2,5.7c-0.6,8.9-1.5,17.7-2.7,26.5\\n\\tc-0.2,1.7-2,4.3-3.5,4.5c-5.8,1.2-6.8,5.8-8.2,10.3c-1.9,6.1-3.8,12.1-6.2,18c-0.7,1.8-2.5,3.7-4.3,4.5\\n\\tc-10.5,4.5-21.1,8.7-31.6,13.1c-11.2,4.7-22.4,9.2-33.4,14.4c-11.3,5.4-22.2,11.5-33.2,17.4c-6.5,3.5-12.6,7.3-17.7,12.1v19.4h384.5\\n\\tv-20.2C396.6,361.5,391,357.4,384.6,354.1L384.6,354.1z M384.6,354.1\" fill=\"#1A3151\"></path> </symbol><symbol id=\"icon-Tore\" viewbox=\"0 0 97.3 91.9\"><title>Tore</title> <path d=\"M86.9,47.2c0,21.7-17.6,39.2-39.2,39.2C26,86.4,8.5,68.9,8.5,47.2C8.5,25.6,26,8,47.7,8\\n\\tC69.3,8,86.9,25.6,86.9,47.2\" fill=\"#FFFFFF\"></path> <path d=\"M37.3,44l4,12.2h12.8L58,44l-10.3-7.5L37.3,44z M47.7,14.7c-17.9,0-32.5,14.6-32.5,32.5\\n\\tc0,17.9,14.6,32.5,32.5,32.5c17.9,0,32.5-14.5,32.5-32.5C80.2,29.3,65.6,14.7,47.7,14.7 M59,62.8l-3.8,11.6c-2.4,0.7-5,1.1-7.6,1.1\\n\\tc-2.6,0-5.2-0.4-7.6-1.1l-3.8-11.6l-12.2,0c-2.8-4.2-4.4-9.1-4.7-14.5l9.8-7.1l-3.8-11.6c3.2-4,7.4-7.1,12.3-8.9l9.8,7.1l9.8-7.1\\n\\tc4.9,1.8,9.1,4.9,12.3,8.9l-3.8,11.6l9.8,7.1c-0.2,5.3-1.9,10.3-4.7,14.5H59z\" fill=\"#0E3654\"></path> </symbol><symbol id=\"icon-Torschuetzen\" viewbox=\"0 0 196 208\"><title>Torschuetzen</title> <path d=\"M24.7,98.7c-1-1-2.1-1.5-2.5-1.2l-5.8,5.9c-0.4,0.4,0.1,1.5,1.1,2.5l4.3,4.3l-1.2,6.4l6.4-1.2l3.1,3.1\\n\\tl-1.2,6.4l6.4-1.2l34.5,34.5l-1.2,6.4l6.3-1.2l4.2,4.2L78,174l6.4-1.2l2.7,2.7l-1.2,6.4l6.4-1.2l2.2,2.2c1,1,2.1,1.5,2.5,1.1\\n\\tl5.9-5.9c0.4-0.4-0.1-1.5-1.1-2.5L24.7,98.7z M24.7,98.7\" fill=\"#0E3654\"></path> <path d=\"M82.7,150.2L82.7,150.2l24.1,24.1c0,0,14.3-1.3,7-13.3c0,0-27.4-34.1-23.2-66.1c0,0,0.5-8.4-5-1.2L115.6,11\\n\\tH83L61.8,67.1c-0.4-0.6-0.9-1.1-1.6-1.5c-1.8-0.9-4.9-0.9-10.1,4l-24,24l32.6,32.6 M73.5,141\" fill=\"#0E3654\"></path> <path d=\"M166.7,171.8c-5.5,3.8-11,7.9-17.6,10.6c-6.6,2.7-13.6,4.6-20.7,5.8c-7.1,1.4-14.5,2-21.9,2.2l-0.1,0.9\\n\\tc7.4,1.3,14.9,1.5,22.4,1.4c7.5-0.4,15.1-1.4,22.6-3.5c7.4-2.1,15.2-4.7,21.1-10.5c5.8-5.6,10-13.3,10.2-21.1l-0.8-0.3\\n\\tC176.9,163.2,172.2,167.9,166.7,171.8L166.7,171.8z M166.7,171.8\" fill=\"#0E3654\"></path> <path d=\"M181.6,124.3c0,21.7-17.6,39.2-39.2,39.2c-21.7,0-39.2-17.6-39.2-39.2c0-21.7,17.6-39.2,39.2-39.2\\n\\tC164,85.1,181.6,102.7,181.6,124.3\" fill=\"#FFFFFF\"></path> <path d=\"M132,121.1l4,12.2h12.8l3.9-12.2l-10.3-7.5L132,121.1z M142.4,91.8c-17.9,0-32.5,14.6-32.5,32.5\\n\\tc0,17.9,14.6,32.5,32.5,32.5c17.9,0,32.5-14.5,32.5-32.5C174.9,106.4,160.3,91.8,142.4,91.8 M153.7,140l-3.8,11.6\\n\\tc-2.4,0.7-5,1.1-7.6,1.1c-2.6,0-5.2-0.4-7.6-1.1L131,140l-12.2,0c-2.8-4.2-4.4-9.1-4.7-14.5l9.8-7.1l-3.8-11.6\\n\\tc3.2-4,7.4-7.1,12.3-8.9l9.8,7.1l9.8-7.1c4.9,1.8,9.1,4.9,12.3,8.9l-3.8,11.6l9.8,7.1c-0.2,5.3-1.9,10.3-4.7,14.5H153.7z\" fill=\"#0E3654\"></path> </symbol><symbol id=\"icon-Trainer\" viewbox=\"0 0 50.2 50.3\"><title>Trainer</title> <style type=\"text/css\"> .st0{fill:#1A3151;} .st1{fill:#00ADED;} .st2{fill:#FFFFFF;} </style> <circle class=\"st0\" cx=\"25.1\" cy=\"25.2\" r=\"24.7\"></circle> <path class=\"st1\" d=\"M46.6-1.5\" id=\"Trainer-Pfad_1303\"></path> <path class=\"st2\" d=\"M24,42.4c-3.6-5,0.3-5.2,0.9-5.2l0,0c0.7,0,4.5,0.2,0.9,5.2l1.4,4.1c4.7-0.5,9.1-2.5,12.5-5.7\\n\\tc-2.2-0.9-4.3-1.8-6.6-2.7c-0.3-0.1-0.6-0.3-0.7-0.6c-0.3-0.7-0.5-1.4-0.8-2.1c-0.1-0.5-0.4-0.9-0.8-1.1c-0.2-0.1-0.2-0.3-0.2-0.5\\n\\tc0-1.7-0.4-3.4,0.9-4.9c0-0.1,0.1-0.1,0.1-0.2c0.4-1.5,1-3,1.7-4.5v-0.1c0.1-1,0.2-2.1,0.3-3.1c0-0.1-0.1-0.4-0.2-0.4\\n\\tc-0.5-0.2-0.5-0.6-0.5-1v-6.1c0.1-1.1-0.4-2.3-1.3-3c-1-0.9-2-1.8-3.1-2.7C28,7.4,28,7,28.4,6.6c0.2-0.2,0.5-0.4,0.7-0.5\\n\\tC29,6,29,5.9,28.9,5.9c-0.3,0-0.6,0-0.9,0c-1.2,0.2-2.3,0.3-3.4,0.6c-2.2,0.4-4.2,1.3-6,2.6c-1.3,0.9-2.1,2.3-2.3,3.8\\n\\tc-0.1,0.9-0.1,1.7-0.1,2.6c0,1.4,0,2.8,0,4.2c0,0.2-0.1,0.6-0.3,0.6c-0.6,0.2-0.6,0.5-0.5,1c0.1,0.3,0,0.7,0.1,1\\n\\tc0.2,0.9,0.4,1.7,0.6,2.6c0.3,0.6,0.5,1.2,0.6,1.9c0.2,1.3,0.7,2.5,1.6,3.4c0.2,0.2,0.2,0.4,0.2,0.6c-0.1,1-0.2,2-0.3,3\\n\\tc-0.1,0.2-0.2,0.4-0.4,0.5c-0.7,0.2-0.8,0.6-0.9,1.2c-0.2,0.7-0.4,1.4-0.7,2c-0.1,0.2-0.3,0.4-0.5,0.5c-1.2,0.5-2.4,1-3.6,1.5\\n\\tc-0.8,0.3-1.6,0.7-2.5,1c3.4,3.3,7.8,5.4,12.5,6L24,42.4z\" id=\"Trainer-Pfad_1310\"></path> </symbol><symbol id=\"icon-Twitter-Blau\" viewbox=\"0 0 128 128\"><title>Twitter-Blau</title> <g> <rect fill=\"#55ACEE\" height=\"128\" id=\"Twitter-Blau-twitter-back\" width=\"128\"></rect> <path d=\"M99.8,41.8c-2.6,1.2-5.5,2-8.4,2.3c3-1.8,5.4-4.7,6.5-8.1c-2.8,1.7-6,2.9-9.3,3.6\\r\\n\\t\\tc-2.7-2.9-6.5-4.6-10.7-4.6c-8.1,0-14.7,6.6-14.7,14.7c0,1.2,0.1,2.3,0.4,3.4c-12.2-0.6-23.1-6.5-30.3-15.4c-1.3,2.2-2,4.7-2,7.4\\r\\n\\t\\tc0,5.1,2.6,9.6,6.5,12.2c-2.4-0.1-4.7-0.7-6.7-1.8c0,0.1,0,0.1,0,0.2c0,7.1,5.1,13.1,11.8,14.4c-1.2,0.3-2.5,0.5-3.9,0.5\\r\\n\\t\\tc-0.9,0-1.9-0.1-2.8-0.3c1.9,5.8,7.3,10.1,13.7,10.2c-5,3.9-11.4,6.3-18.3,6.3c-1.2,0-2.4-0.1-3.5-0.2c6.5,4.2,14.2,6.6,22.5,6.6\\r\\n\\t\\tc27,0,41.8-22.4,41.8-41.8c0-0.6,0-1.3,0-1.9C95.4,47.3,97.9,44.7,99.8,41.8z\" fill=\"#FFFFFF\" id=\"Twitter-Blau-twitter-twitter\"></path> </g> </symbol><symbol id=\"icon-Vereine\" viewbox=\"0 0 434 479\"><title>Vereine</title> <path d=\"M380.2,59.8C357.4,46.1,300.8,17,217,17C133.2,17,76.6,46.1,53.8,59.8c-10,6-18.1,15.6-18.1,29v167.1\\n\\tc0,95.7,110.4,165.3,161.4,188.7c13.6,6.2,16.6,6.2,19.8,6.2c3.2,0,6.3,0.1,19.8-6.2c51.1-23.4,161.4-93,161.4-188.7V88.8\\n\\tC398.3,75.5,390.2,65.8,380.2,59.8z\" fill=\"#1A3151\"></path> <path d=\"M324.7,206.7c0,59.5-48.2,107.7-107.7,107.7c-59.5,0-107.7-48.2-107.7-107.7C109.3,147.2,157.6,99,217,99\\n\\tC276.5,99,324.7,147.2,324.7,206.7z\" fill=\"#1A3151\"></path> <path d=\"M182.4,196l13.2,40.7h42.8l13.2-40.7L217,170.9L182.4,196z M217,97.9c-60.1,0-108.8,48.7-108.8,108.8\\n\\tc0,60.1,48.7,108.8,108.8,108.8c60.1,0,108.8-48.7,108.8-108.8C325.8,146.6,277.1,97.9,217,97.9z M255.1,259l-12.6,38.8\\n\\tc-8.1,2.3-16.6,3.5-25.4,3.5c-8.8,0-17.3-1.3-25.5-3.5L179,259l-40.8,0c-9.3-14-14.9-30.6-15.6-48.4l32.9-23.9l-12.6-38.8\\n\\tc10.6-13.4,24.8-23.8,41.2-29.9L217,142L250,118c16.3,6.1,30.5,16.5,41.2,29.9l-12.6,38.8l32.9,23.9c-0.7,17.9-6.3,34.5-15.6,48.4\\n\\tH255.1z\" fill=\"#FFFFFF\"></path> <path d=\"M712.6,69.7c4.9,0,5.3,0,9.6,0V61c0-37.2-33.6-35.1-45.3-29.8l0.3-2.1c-7.5,0-59.2,0-66.4,0\\n\\tc1.4,10.6,12.1,88.7,13.4,98.4c13.8,0,25.7,0,39.6,0c1.4-10.4,0.8-6.1,1.7-12.6c4.8,9,14.1,13.5,27.7,13.5c11,0,29.5-4.3,29.5-33.2\\n\\tC722.8,83.1,718.7,75.9,712.6,69.7z\" fill=\"#FFFFFF\"></path> <path d=\"M692.4,64.1c-8.4-6.7-4.7-11.4-1-11.4c1,0,2,0.3,2.7,1c1.6,1.6,1.2,3,1.3,7.3h18.2c0-15.8-5.9-24-22.2-24\\n\\tc-13.7,0-21.2,7-21.2,21.3c0,20,26.2,23.4,26.2,39.7c0,2.9-1.3,5.5-4.3,5.5c-5.2,0-4.3-8.3-4.3-15.1h-17.7c0,17.1,0,31.2,23.1,31.2\\n\\tc15.4,0,20.9-9.1,20.9-24.6C714.1,79.6,706.2,75.3,692.4,64.1z\" fill=\"#1A3151\"></path> <polygon fill=\"#1A3151\" points=\"620.8,37.7 631.8,118.7 656.3,118.7 667.3,37.7 649.2,37.7 643.9,91.4 638.9,37.7 \"></polygon> </symbol><symbol id=\"icon-Wettbewerbe\" viewbox=\"0 0 225 225\"><title>Wettbewerbe</title> <g> <path d=\"M187.8,25.1h-28.4v-7.8c0-2.3-1.9-4.1-4.1-4.1H69.3c-2.3,0-4.1,1.9-4.1,4.1v7.8H36.8\\n\\t\\tc-2.3,0-4.1,1.8-4.1,4.1v2.3c0,35.2,17.8,63.7,40.5,65.1c6,8.9,14.9,15.6,25.2,18.7v47.1H82.7c-2.3,0-4.1,1.9-4.1,4.1v6.7h-9.7\\n\\t\\tc-2.3,0-4.1,1.9-4.1,4.1V209c0,2.3,1.8,4.1,4.1,4.1h86.7c2.3,0,4.1-1.8,4.1-4.1v-31.5c0-2.3-1.9-4.1-4.1-4.1H146v-6.7\\n\\t\\tc0-2.3-1.8-4.1-4.1-4.1h-15.6v-47.1c10.2-3.2,19.1-9.8,25.2-18.7c22.8-1.4,40.5-29.9,40.5-65.1v-2.3\\n\\t\\tC191.9,26.9,190.1,25.1,187.8,25.1L187.8,25.1z M65.2,38v32.4c0,3.7,0.4,7.4,1.3,11C55.6,75.3,47.3,58,45.8,38H65.2z M158,81.4\\n\\t\\tc0.9-3.7,1.3-7.4,1.3-11V38h19.3C177.2,58,168.9,75.3,158,81.4L158,81.4z M158,81.4\" fill=\"#1B3251\"></path> </g> </symbol><symbol id=\"icon-WhatsApp-gruen\" viewbox=\"0 0 128 128\"><title>WhatsApp-gruen</title> <g> <rect fill=\"#25D366\" height=\"128\" id=\"WhatsApp-gruen-whatsapp-back\" width=\"128\"></rect> <g id=\"WhatsApp-gruen-whatsapp-whatsapp\"> <path d=\"M28.2,100l5.1-18.5c-3.1-5.4-4.8-11.6-4.8-17.8C28.5,44,44.5,28,64.1,28c9.5,0,18.5,3.7,25.2,10.5\\r\\n\\t\\t\\tc6.7,6.7,10.4,15.7,10.4,25.2c0,19.7-16,35.7-35.7,35.7c0,0,0,0,0,0h0c-6,0-11.8-1.5-17.1-4.3L28.2,100z M48,88.6l1.1,0.6\\r\\n\\t\\t\\tc4.6,2.7,9.8,4.1,15.1,4.1h0c16.3,0,29.7-13.3,29.7-29.7c0-7.9-3.1-15.4-8.7-21c-5.6-5.6-13-8.7-21-8.7\\r\\n\\t\\t\\tc-16.4,0-29.7,13.3-29.7,29.7c0,5.6,1.6,11.1,4.5,15.8l0.7,1.1l-3,10.9L48,88.6z\" fill=\"#FFFFFF\"></path> <path d=\"M82.1,72.2c-0.2-0.4-0.8-0.6-1.7-1c-0.9-0.4-5.3-2.6-6.1-2.9c-0.8-0.3-1.4-0.4-2,0.4\\r\\n\\t\\t\\tc-0.6,0.9-2.3,2.9-2.8,3.5c-0.5,0.6-1,0.7-1.9,0.2S63.8,71,60.4,68c-2.7-2.4-4.4-5.3-5-6.2c-0.5-0.9-0.1-1.4,0.4-1.8\\r\\n\\t\\t\\tc0.4-0.4,0.9-1,1.3-1.6c0.4-0.5,0.6-0.9,0.9-1.5c0.3-0.6,0.1-1.1-0.1-1.6c-0.2-0.4-2-4.8-2.8-6.6c-0.7-1.7-1.5-1.5-2-1.5\\r\\n\\t\\t\\tc-0.5,0-1.1,0-1.7,0c-0.6,0-1.6,0.2-2.4,1.1c-0.8,0.9-3.1,3-3.1,7.4c0,4.4,3.2,8.6,3.6,9.2c0.4,0.6,6.3,9.6,15.2,13.5\\r\\n\\t\\t\\tc2.1,0.9,3.8,1.5,5.1,1.9c2.1,0.7,4.1,0.6,5.6,0.4c1.7-0.3,5.3-2.2,6-4.2C82.4,74.3,82.4,72.6,82.1,72.2z\" fill=\"#FFFFFF\"></path> </g> </g> </symbol><symbol id=\"icon-alles_gelesen\" viewbox=\"0 0 376 290\"><title>alles_gelesen</title> <g> <g> <path d=\"M14.7,158.6c-2.7-2.7-4-6.9-4-9.6c0-2.7,1.3-6.8,4-9.5l19.1-19.1c5.5-5.5,13.6-5.5,19.1,0l1.3,1.4\\n\\t\\t\\tl74.8,80.2c2.7,2.7,6.8,2.7,9.5,0L320.7,13h1.4c5.5-5.4,13.6-5.4,19.1,0l19,19.1c5.4,5.5,5.4,13.6,0,19.1L142.6,276.9\\n\\t\\t\\tc-2.7,2.7-5.5,4-9.6,4c-4,0-6.8-1.3-9.5-4L17.4,162.7L14.7,158.6z M14.7,158.6\" fill=\"#FFFFFF\"></path> </g> </g> </symbol><symbol id=\"icon-bc-land\" viewbox=\"0 0 40 40\"><title>bc-land</title> <path clip-rule=\"evenodd\" d=\"M25.8,12.3c-0.2-0.1-0.5,0-0.7,0.1c-0.5,0.4-1,0.8-2.1,1\\n\\tc-1.2,0.2-1.8,0-2.5-0.2c-0.8-0.2-1.7-0.5-3.2-0.2c-1.1,0.2-1.7,0.6-2.3,0.9c-0.2-0.2-0.5-0.4-0.8-0.3c-0.4,0.1-0.7,0.5-0.6,0.9\\n\\tl2.7,13.9c0.1,0.4,0.5,0.7,0.9,0.6c0.4-0.1,0.7-0.5,0.6-0.9l-1.2-5.9c0.5-0.4,1.1-0.8,2.2-1c1.2-0.2,1.8,0,2.5,0.2\\n\\tc0.8,0.2,1.7,0.5,3.2,0.2c1.4-0.3,2.1-0.8,2.7-1.3c0.2-0.2,0.3-0.4,0.3-0.7l-1.3-6.7C26.3,12.6,26.1,12.4,25.8,12.3z\" fill=\"#FFFFFF\" fill-rule=\"evenodd\"></path> </symbol><symbol id=\"icon-bc-spieler\" viewbox=\"0 0 40 40\"><title>bc-spieler</title> <path d=\"M28.2,27.8c-1.5-0.8-3.1-1.4-4.6-2c-0.1,0-0.3-0.1-0.3-0.2c-0.1-0.3-0.2-0.6-0.3-0.9\\n\\tc-0.1-0.2-0.1-0.4-0.3-0.5c-0.1,0-0.1-0.1-0.1-0.2c0-0.7-0.2-1.4,0.4-2c0,0,0,0,0-0.1c0.3-0.6,0.3-1.3,0.7-1.9c0,0,0,0,0,0\\n\\tc0-0.4,0.1-0.9,0.1-1.3c0-0.1,0-0.1-0.1-0.2c-0.2-0.1-0.2-0.2-0.2-0.4c0-0.8,0-1.7,0-2.5c0-0.5-0.1-0.9-0.5-1.3\\n\\tc-0.4-0.4-0.9-0.7-1.3-1.1c-0.2-0.2-0.2-0.3,0-0.5c0.1-0.1,0.2-0.1,0.3-0.2c0,0,0-0.1-0.1-0.1c-0.1,0-0.3,0-0.4,0\\n\\tc-0.5,0.1-1,0.1-1.4,0.3c-0.9,0.2-1.8,0.5-2.5,1.1c-0.5,0.4-0.9,0.9-0.9,1.6c0,0.4,0,0.7,0,1.1c0,0.6,0,1.2,0,1.7\\n\\tc0,0.1-0.1,0.3-0.1,0.3c-0.2,0.1-0.2,0.2-0.2,0.4c0,0.1,0,0.3,0,0.4c0.1,0.4,0.2,0.7,0.3,1.1c0.1,0.3,0.2,0.5,0.3,0.8\\n\\tc0.1,0.5,0.3,1,0.6,1.4c0.1,0.1,0.1,0.2,0.1,0.3c0,0.4-0.1,0.8-0.1,1.2c0,0.1-0.1,0.2-0.2,0.2c-0.3,0.1-0.3,0.3-0.4,0.5\\n\\tc-0.1,0.3-0.2,0.6-0.3,0.8c0,0.1-0.1,0.2-0.2,0.2c-0.5,0.2-1,0.4-1.5,0.6c-0.5,0.2-1.1,0.4-1.6,0.7c-0.5,0.3-1,0.5-1.6,0.8\\n\\tc-0.3,0.2-0.6,0.3-0.8,0.6v0.9h18v-0.9C28.8,28.1,28.5,27.9,28.2,27.8L28.2,27.8z M28.2,27.8\" fill=\"#FFFFFF\"></path> </symbol><symbol id=\"icon-bc-verein\" viewbox=\"0 0 40 40\"><title>bc-verein</title> <g> <path d=\"M29.3,13.8L24,12.4c-0.3-0.1-0.6-0.1-0.9-0.1c0,0,0,0,0,0h0c-0.2,1-2.2,2.5-3.3,2.5c-1.1,0-3-1.5-3.3-2.5h0\\n\\t\\tc0,0,0,0,0,0c-0.3,0-0.6,0-0.9,0.1l-5.3,1.3c-0.4,0.1-0.6,0.5-0.5,0.8l0.6,2.3c0.1,0.4,0.5,0.6,0.8,0.5l1.7-0.4\\n\\t\\tc0.4-0.1,0.7,0.1,0.7,0.5V28c0,0.4,0.3,0.7,0.7,0.7h11.2c0.4,0,0.7-0.3,0.7-0.7V17.4c0-0.4,0.3-0.6,0.7-0.5l1.7,0.4\\n\\t\\tc0.4,0.1,0.7-0.1,0.8-0.5l0.6-2.3C29.9,14.2,29.7,13.8,29.3,13.8L29.3,13.8z M21.5,22.3\" fill=\"#FFFFFF\"></path> </g> </symbol><symbol id=\"icon-bc-wettbewerb\" viewbox=\"0 0 40 40\"><title>bc-wettbewerb</title> <g> <path d=\"M26.3,12.7h-2.5V12c0-0.2-0.2-0.4-0.4-0.4h-7.6c-0.2,0-0.4,0.2-0.4,0.4v0.7h-2.5c-0.2,0-0.4,0.2-0.4,0.4\\n\\t\\tv0.2c0,3.1,1.6,5.6,3.6,5.7c0.5,0.8,1.3,1.4,2.2,1.6v4.1h-1.4c-0.2,0-0.4,0.2-0.4,0.4v0.6h-0.8c-0.2,0-0.4,0.2-0.4,0.4v2.8\\n\\t\\tc0,0.2,0.2,0.4,0.4,0.4h7.6c0.2,0,0.4-0.2,0.4-0.4v-2.8c0-0.2-0.2-0.4-0.4-0.4h-0.8v-0.6c0-0.2-0.2-0.4-0.4-0.4h-1.4v-4.1\\n\\t\\tc0.9-0.3,1.7-0.9,2.2-1.6c2-0.1,3.6-2.6,3.6-5.7v-0.2C26.7,12.9,26.5,12.7,26.3,12.7L26.3,12.7z M15.6,13.9v2.8c0,0.3,0,0.6,0.1,1\\n\\t\\tc-1-0.5-1.7-2.1-1.8-3.8H15.6z M23.7,17.7c0.1-0.3,0.1-0.6,0.1-1v-2.8h1.7C25.4,15.6,24.7,17.1,23.7,17.7L23.7,17.7z M23.7,17.7\" fill=\"#FFFFFF\"></path> </g> </symbol><symbol id=\"icon-facebook\" viewbox=\"0 0 455.73 455.73\"><title>facebook</title> <path d=\"M0,0v455.73h242.704V279.691h-59.33v-71.864h59.33v-60.353c0-43.893,35.582-79.475,79.475-79.475\\r\\n\\th62.025v64.622h-44.382c-13.947,0-25.254,11.307-25.254,25.254v49.953h68.521l-9.47,71.864h-59.051V455.73H455.73V0H0z\" style=\"fill:#3A559F;\"></path> </symbol><symbol id=\"icon-fanticker\" viewbox=\"0 0 214.3 151.5\"><title>fanticker</title> <path clip-rule=\"evenodd\" d=\"M105.3,48.8c12,0,21.7,9.7,21.7,21.7c0,12-9.7,21.7-21.7,21.7\\n\\tc-12,0-21.7-9.7-21.7-21.7C83.6,58.5,93.3,48.8,105.3,48.8\" fill=\"#1B3251\" fill-rule=\"evenodd\"></path> <path clip-rule=\"evenodd\" d=\"M141.8,40.2l-14.1,16.1c2.6,4.1,4.1,8.9,4.1,14.1\\n\\tc0,14.6-11.9,26.5-26.5,26.5c-14.6,0-26.5-11.9-26.5-26.5c0-4.9,1.3-9.4,3.6-13.3L68.8,39.8c-7.9-10-24.1-15.2-15,10.6l19.9,56.8\\n\\tl-1.5,20.7h62.6l-2.7-21.6l25.2-58.4C165.5,29.1,154.6,25.7,141.8,40.2\" fill=\"#1B3251\" fill-rule=\"evenodd\"></path> <path clip-rule=\"evenodd\" d=\"M163.5,32.6l6.3,29.6l-0.6,1.2l-1.2,2.4l-0.7,1.3l-1.2,2.4\\n\\tl-0.9,1.7l-1.2,2.4l-1.1,2.2l-1.2,2.4l-0.8,1.6l-10.5-36.7H62.6L52.1,79.9l-0.9-1.7l-1.2-2.4L49,73.5l-1.2-2.4l-0.9-1.7L45.7,67\\n\\tL45,65.6l-1.2-2.4l-0.5-1l6.1-29.7c0.8-3.9,4.6-7,8.7-7h95.5C160.4,25.5,162.1,26,163.5,32.6\" fill=\"#24ABE3\" fill-rule=\"evenodd\"></path> </symbol><symbol id=\"icon-fanticker_white\" viewbox=\"0 0 214.3 151.5\"><title>fanticker_white</title> <path d=\"M105.3,48.8c12,0,21.7,9.7,21.7,21.7s-9.7,21.7-21.7,21.7s-21.7-9.7-21.7-21.7\\n\\tC83.6,58.5,93.3,48.8,105.3,48.8\" fill=\"#FFFFFF\"></path> <path d=\"M141.8,40.2l-14.1,16.1c2.6,4.1,4.1,8.9,4.1,14.1c0,14.6-11.9,26.5-26.5,26.5S78.8,85,78.8,70.4\\n\\tc0-4.9,1.3-9.4,3.6-13.3L68.8,39.8c-7.9-10-24.1-15.2-15,10.6l19.9,56.8l-1.5,20.7h62.6l-2.7-21.6l25.2-58.4\\n\\tC165.5,29.1,154.6,25.7,141.8,40.2\" fill=\"#FFFFFF\"></path> <path d=\"M163.5,32.6l6.3,29.6l-0.6,1.2l-1.2,2.4l-0.7,1.3l-1.2,2.4l-0.9,1.7l-1.2,2.4l-1.1,2.2l-1.2,2.4l-0.8,1.6\\n\\tl-10.5-36.7H62.6L52.1,79.9l-0.9-1.7L50,75.8l-1-2.3l-1.2-2.4l-0.9-1.7L45.7,67L45,65.6l-1.2-2.4l-0.5-1l6.1-29.7\\n\\tc0.8-3.9,4.6-7,8.7-7h95.5C160.4,25.5,162.1,26,163.5,32.6\" fill=\"#FFFFFF\"></path> </symbol><symbol id=\"icon-favoriten\" viewbox=\"0 0 841.9 595.3\"><title>favoriten</title> <g> <g> <path d=\"M399.1,29c3.9-7.8,11.7-12.7,20.4-12.7c8.7,0,16.7,4.9,20.5,12.7l73.4,148.9c3.4,6.7,9.8,11.4,17.2,12.5\\n\\t\\t\\tl164.3,23.9c8.6,1.2,15.7,7.3,18.4,15.5c2.7,8.3,0.4,17.3-5.8,23.4L588.8,369.1c-5.4,5.2-7.8,12.8-6.6,20.2l28,163.7\\n\\t\\t\\tc1.5,8.6-2.1,17.2-9.1,22.4c-7,5.1-16.3,5.8-24.1,1.7l-146.9-77.3c-6.7-3.5-14.6-3.5-21.3,0l-147,77.2c-7.7,4.1-17,3.4-24.1-1.7\\n\\t\\t\\tc-7-5.2-10.5-13.8-9.1-22.4l28-163.7c1.3-7.4-1.2-15-6.5-20.2L131.4,253.2c-6.2-6.1-8.5-15.2-5.8-23.4c2.7-8.3,9.8-14.3,18.5-15.5\\n\\t\\t\\tl164.3-23.9c7.4-1.1,13.9-5.8,17.2-12.5L399.1,29z M399.1,29\" fill=\"#1B3251\"></path> </g> </g> </symbol><symbol id=\"icon-google+\" viewbox=\"0 0 455.73 455.73\"><title>google+</title> <path d=\"M0,0v455.73h455.73V0H0z M265.67,247.037c-7.793,51.194-45.961,80.543-95.376,80.543\\r\\n\\tc-55.531,0-100.552-45.021-100.552-100.552c0-55.517,45.021-100.538,100.552-100.538c26.862,0,50.399,9.586,67.531,26.226\\r\\n\\tl-28.857,28.857c-9.773-9.846-23.147-15.094-38.674-15.094c-32.688,0-59.189,27.874-59.189,60.548\\r\\n\\tc0,32.703,26.501,59.768,59.189,59.768c27.397,0,48.144-13.243,54.129-39.758h-54.129v-40.38h95.131\\r\\n\\tc1.142,6.506,1.72,13.315,1.72,20.37C267.144,234.025,266.638,240.69,265.67,247.037z M386.419,234.517h-35.233v35.218H326.16\\r\\n\\tv-35.218h-35.233v-25.041h35.233v-35.233h25.026v35.233h35.233V234.517z\" style=\"fill:#DD4B39;\"></path> </symbol><symbol id=\"icon-home\" viewbox=\"0 0 40 40\"><title>home</title> <g> <path d=\"M31,22.1l-11-8.6l-11,8.6v-3.5l11-8.6l11,8.6V22.1z M28.2,21.8v8.3h-5.5v-5.5h-5.5v5.5h-5.5v-8.3l8.3-6.2\\n\\t\\tL28.2,21.8z M28.2,21.8\" fill=\"#1B3251\"></path> </g> </symbol><symbol id=\"icon-instagram\" viewbox=\"0 0 455.7 455.7\"><title>instagram</title> <rect fill=\"url(#instagram-SVGID_1_)\" height=\"455.7\" width=\"455.7\" x=\"0\" y=\"0\"></rect> <g> <g> <path d=\"M302.3,400.7H153.4c-54.3,0-98.4-44.1-98.4-98.4V153.4C55,99.1,99.1,55,153.4,55h148.9\\n\\t\\t\\tc54.3,0,98.4,44.1,98.4,98.4v148.9C400.7,356.6,356.6,400.7,302.3,400.7z M153.4,84.6c-37.9,0-68.8,30.8-68.8,68.8v148.9\\n\\t\\t\\tc0,37.9,30.8,68.8,68.8,68.8h148.9c37.9,0,68.8-30.8,68.8-68.8V153.4c0-37.9-30.8-68.8-68.8-68.8H153.4z\" fill=\"#FFFFFF\"></path> </g> <g> <path d=\"M227.9,316.4c-48.8,0-88.5-39.7-88.5-88.5c0-48.8,39.7-88.5,88.5-88.5c48.8,0,88.5,39.7,88.5,88.5\\n\\t\\t\\tC316.4,276.7,276.7,316.4,227.9,316.4z M227.9,169c-32.5,0-58.9,26.4-58.9,58.9s26.4,58.9,58.9,58.9c32.5,0,58.9-26.4,58.9-58.9\\n\\t\\t\\tS260.3,169,227.9,169z\" fill=\"#FFFFFF\"></path> </g> <g> <circle cx=\"320.2\" cy=\"134.3\" fill=\"#FFFFFF\" r=\"21.3\"></circle> </g> </g> </symbol><symbol id=\"icon-kalender_blue\" viewbox=\"0 0 129.2 124.1\"><title>kalender_blue</title> <style type=\"text/css\"> .st0{fill:#1A3151;} </style> <path class=\"st0\" d=\"M20.3,20.7v-15c0-2.1,1.7-3.8,3.8-3.8s3.8,1.7,3.8,3.8v15c0,2.1-1.7,3.8-3.8,3.8C22,24.4,20.3,22.8,20.3,20.7\\r\\n\\tL20.3,20.7z\"></path> <path class=\"st0\" d=\"M84.1,24.4c2.1,0,3.8-1.7,3.8-3.8v-15c0-2.1-1.7-3.8-3.8-3.8c-2.1,0-3.8,1.7-3.8,3.8v15\\r\\n\\tC80.3,22.8,82,24.4,84.1,24.4L84.1,24.4z\"></path> <path class=\"st0\" d=\"M95.3,61.9c-16.6,0-30,13.4-30,30s13.4,30,30,30s30-13.4,30-30C125.3,75.4,111.9,61.9,95.3,61.9z M95.3,117.7\\r\\n\\tc-14.2,0-25.8-11.6-25.8-25.8s11.6-25.8,25.8-25.8s25.8,11.6,25.8,25.8C121.1,106.2,109.5,117.7,95.3,117.7z\"></path> <rect class=\"st0\" height=\"15\" width=\"15\" x=\"20.3\" y=\"46.9\"></rect> <rect class=\"st0\" height=\"15\" width=\"15\" x=\"20.3\" y=\"69.4\"></rect> <rect class=\"st0\" height=\"15\" width=\"15\" x=\"42.8\" y=\"46.9\"></rect> <rect class=\"st0\" height=\"15\" width=\"15\" x=\"42.8\" y=\"69.4\"></rect> <path class=\"st0\" d=\"M12.8,91.2V39.4h82.5v15h7.5V25.2c0-4.6-3.6-8.2-8.1-8.2h-3.1v3.8c0,4.1-3.4,7.5-7.5,7.5s-7.5-3.4-7.5-7.5V17\\r\\n\\th-45v3.8c0,4.1-3.4,7.5-7.5,7.5s-7.5-3.4-7.5-7.5V17h-3.1c-4.5,0-8.1,3.7-8.1,8.2v66c0,4.5,3.6,8.2,8.1,8.2h44.4v-7.5H13.4\\r\\n\\tC13.1,91.9,12.8,91.6,12.8,91.2L12.8,91.2z\"></path> <rect class=\"st0\" height=\"15\" width=\"15\" x=\"65.3\" y=\"46.9\"></rect> <path class=\"st0\" d=\"M106.6,91.9\"></path> <path class=\"st0\" d=\"M88.5,89.9l2.6,8h8.4l2.6-8L95.3,85L88.5,89.9z M95.3,70.6C83.5,70.6,74,80.2,74,91.9\\r\\n\\tc0,11.8,9.5,21.3,21.3,21.3s21.3-9.5,21.3-21.3C116.6,80.2,107.1,70.6,95.3,70.6z M102.7,102.2l-2.5,7.6c-1.6,0.4-3.2,0.7-5,0.7\\r\\n\\tc-1.7,0-3.4-0.3-5-0.7l-2.5-7.6h-8c-1.8-2.7-2.9-6-3.1-9.5L83,88l-2.5-7.6c2.1-2.6,4.9-4.7,8.1-5.8l6.4,4.7l6.4-4.7\\r\\n\\tc3.2,1.2,6,3.2,8.1,5.8L107,88l6.4,4.7c-0.1,3.5-1.2,6.7-3.1,9.5H102.7z\"></path> </symbol><symbol id=\"icon-kommentare_beitraege_sprechblase\" viewbox=\"0 0 55 50\"><title>kommentare_beitraege_sprechblase</title> <path d=\"M5.8,3.4C3.8,3.4,2.1,5,2.1,7v27.1c0,2,1.6,3.6,3.7,3.6h6v6.4c0,2.2,1.5,3.2,2.8,3.2c0.7,0,1.5-0.3,2.2-0.8\\n\\tl8.6-8.8h23.1c2,0,3.7-1.6,3.7-3.6V7c0-1-0.4-1.9-1.1-2.6c-0.7-0.7-1.6-1.1-2.6-1.1H5.8L5.8,3.4z\" fill=\"#1B3251\"></path> <path d=\"M45.7,9.5\" fill=\"#1F76A4\"></path> </symbol><symbol id=\"icon-linkedin\" viewbox=\"0 0 455.731 455.731\"><title>linkedin</title> <g> <rect height=\"455.731\" style=\"fill:#0084B1;\" width=\"455.731\" x=\"0\" y=\"0\"></rect> <g> <path d=\"M107.255,69.215c20.873,0.017,38.088,17.257,38.043,38.234c-0.05,21.965-18.278,38.52-38.3,38.043\\r\\n\\t\\t\\tc-20.308,0.411-38.155-16.551-38.151-38.188C68.847,86.319,86.129,69.199,107.255,69.215z\" style=\"fill:#FFFFFF;\"></path> <path d=\"M129.431,386.471H84.71c-5.804,0-10.509-4.705-10.509-10.509V185.18\\r\\n\\t\\t\\tc0-5.804,4.705-10.509,10.509-10.509h44.721c5.804,0,10.509,4.705,10.509,10.509v190.783\\r\\n\\t\\t\\tC139.939,381.766,135.235,386.471,129.431,386.471z\" style=\"fill:#FFFFFF;\"></path> <path d=\"M386.884,241.682c0-39.996-32.423-72.42-72.42-72.42h-11.47c-21.882,0-41.214,10.918-52.842,27.606\\r\\n\\t\\t\\tc-1.268,1.819-2.442,3.708-3.52,5.658c-0.373-0.056-0.594-0.085-0.599-0.075v-23.418c0-2.409-1.953-4.363-4.363-4.363h-55.795\\r\\n\\t\\t\\tc-2.409,0-4.363,1.953-4.363,4.363V382.11c0,2.409,1.952,4.362,4.361,4.363l57.011,0.014c2.41,0.001,4.364-1.953,4.364-4.363\\r\\n\\t\\t\\tV264.801c0-20.28,16.175-37.119,36.454-37.348c10.352-0.117,19.737,4.031,26.501,10.799c6.675,6.671,10.802,15.895,10.802,26.079\\r\\n\\t\\t\\tv117.808c0,2.409,1.953,4.362,4.361,4.363l57.152,0.014c2.41,0.001,4.364-1.953,4.364-4.363V241.682z\" style=\"fill:#FFFFFF;\"></path> </g> </g> </symbol><symbol id=\"icon-liveticker_white\" viewbox=\"0 0 129.2 124.1\"><title>liveticker_white</title> <path d=\"M20.3,20.7v-15c0-2.1,1.7-3.8,3.8-3.8c2.1,0,3.8,1.7,3.8,3.8v15c0,2.1-1.7,3.8-3.8,3.8\\n\\tC22,24.4,20.3,22.8,20.3,20.7L20.3,20.7z\" fill=\"#FFFFFF\"></path> <path d=\"M84.1,24.4c2.1,0,3.8-1.7,3.8-3.8v-15c0-2.1-1.7-3.8-3.8-3.8c-2.1,0-3.8,1.7-3.8,3.8v15\\n\\tC80.3,22.8,82,24.4,84.1,24.4L84.1,24.4z\" fill=\"#FFFFFF\"></path> <path d=\"M95.3,61.9c-16.6,0-30,13.4-30,30c0,16.6,13.4,30,30,30c16.6,0,30-13.4,30-30\\n\\tC125.3,75.4,111.9,61.9,95.3,61.9z M95.3,117.7c-14.2,0-25.8-11.6-25.8-25.8c0-14.2,11.6-25.8,25.8-25.8c14.2,0,25.8,11.6,25.8,25.8\\n\\tC121.1,106.2,109.5,117.7,95.3,117.7z\" fill=\"#FFFFFF\"></path> <rect fill=\"#FFFFFF\" height=\"15\" width=\"15\" x=\"20.3\" y=\"46.9\"></rect> <rect fill=\"#FFFFFF\" height=\"15\" width=\"15\" x=\"20.3\" y=\"69.4\"></rect> <rect fill=\"#FFFFFF\" height=\"15\" width=\"15\" x=\"42.8\" y=\"46.9\"></rect> <rect fill=\"#FFFFFF\" height=\"15\" width=\"15\" x=\"42.8\" y=\"69.4\"></rect> <path d=\"M12.8,91.2V39.4h82.5v15h7.5V25.2c0-4.6-3.6-8.2-8.1-8.2h-3.1v3.8c0,4.1-3.4,7.5-7.5,7.5\\n\\tc-4.1,0-7.5-3.4-7.5-7.5v-3.8h-45v3.8c0,4.1-3.4,7.5-7.5,7.5s-7.5-3.4-7.5-7.5v-3.8h-3.1c-4.5,0-8.1,3.7-8.1,8.2v66\\n\\tc0,4.5,3.6,8.2,8.1,8.2h44.4v-7.5H13.4C13.1,91.9,12.8,91.6,12.8,91.2L12.8,91.2z\" fill=\"#FFFFFF\"></path> <rect fill=\"#FFFFFF\" height=\"15\" width=\"15\" x=\"65.3\" y=\"46.9\"></rect> <path d=\"M106.6,91.9\" fill=\"#1B3251\"></path> <path d=\"M88.5,89.9l2.6,8h8.4l2.6-8l-6.8-4.9L88.5,89.9z M95.3,70.6C83.5,70.6,74,80.2,74,91.9\\n\\tc0,11.8,9.5,21.3,21.3,21.3c11.8,0,21.3-9.5,21.3-21.3C116.6,80.2,107.1,70.6,95.3,70.6z M102.7,102.2l-2.5,7.6\\n\\tc-1.6,0.4-3.2,0.7-5,0.7c-1.7,0-3.4-0.3-5-0.7l-2.5-7.6l-8,0c-1.8-2.7-2.9-6-3.1-9.5l6.4-4.7l-2.5-7.6c2.1-2.6,4.9-4.7,8.1-5.8\\n\\tl6.4,4.7l6.4-4.7c3.2,1.2,6,3.2,8.1,5.8l-2.5,7.6l6.4,4.7c-0.1,3.5-1.2,6.7-3.1,9.5H102.7z\" fill=\"#FFFFFF\"></path> </symbol><symbol id=\"icon-mail-schwarz\" viewbox=\"0 0 128 128\"><title>mail-schwarz</title> <g display=\"none\" id=\"mail-schwarz-Twitter\"> <g display=\"inline\"> <rect fill=\"#55ACEE\" height=\"128\" id=\"mail-schwarz-twitter-back\" width=\"128\"></rect> <path d=\"M99.8,41.8c-2.6,1.2-5.5,2-8.4,2.3c3-1.8,5.4-4.7,6.5-8.1c-2.8,1.7-6,2.9-9.3,3.6\\r\\n\\t\\t\\tc-2.7-2.9-6.5-4.6-10.7-4.6c-8.1,0-14.7,6.6-14.7,14.7c0,1.2,0.1,2.3,0.4,3.4c-12.2-0.6-23.1-6.5-30.3-15.4c-1.3,2.2-2,4.7-2,7.4\\r\\n\\t\\t\\tc0,5.1,2.6,9.6,6.5,12.2c-2.4-0.1-4.7-0.7-6.7-1.8c0,0.1,0,0.1,0,0.2c0,7.1,5.1,13.1,11.8,14.4c-1.2,0.3-2.5,0.5-3.9,0.5\\r\\n\\t\\t\\tc-0.9,0-1.9-0.1-2.8-0.3c1.9,5.8,7.3,10.1,13.7,10.2c-5,3.9-11.4,6.3-18.3,6.3c-1.2,0-2.4-0.1-3.5-0.2c6.5,4.2,14.2,6.6,22.5,6.6\\r\\n\\t\\t\\tc27,0,41.8-22.4,41.8-41.8c0-0.6,0-1.3,0-1.9C95.4,47.3,97.9,44.7,99.8,41.8z\" fill=\"#FFFFFF\" id=\"mail-schwarz-twitter-twitter\"></path> </g> </g> <g id=\"mail-schwarz-Ebene_2\"> <rect height=\"129.8\" width=\"131.5\" x=\"-1.3\"></rect> <g> <path d=\"M102.8,83.4c0,1.9-0.5,3.4-1.5,4.9L76.6,60.6l24.3-21.4c1,1.5,1.5,3.4,1.5,5.3v38.8H102.8z M64,65.9\\r\\n\\t\\t\\tl34-29.6c-1.5-1-2.9-1.5-4.9-1.5H34.9c-1.5,0-3.4,0.5-4.9,1.5L64,65.9z M73.2,64l-7.8,6.8c-0.5,0.5-1,0.5-1.5,0.5\\r\\n\\t\\t\\tc-0.5,0-1,0-1.5-0.5L54.8,64L30,91.7c1.5,1,3.4,1.5,5.3,1.5h58.3c1.9,0,3.4-0.5,5.3-1.5L73.2,64z M26.6,39.7\\r\\n\\t\\t\\tc-1,1.5-1.5,3.4-1.5,5.3v38.8c0,1.9,0.5,3.4,1.5,4.9l24.8-27.7L26.6,39.7z\" fill=\"#FFFFFF\"></path> </g> </g> </symbol><symbol id=\"icon-notification\" viewbox=\"0 0 841.9 595.3\"><title>notification</title> <g> <path d=\"M575.8,262.5c0-74.1-50.2-133.9-119.5-150.5V95.1c0-19.1-16.8-35.8-36-35.8c-19,0-35.8,16.7-35.8,35.8v16.8\\n\\t\\tC315.2,128.6,265,188.3,265,262.5v131.4l-47.7,47.9v23.9h406.2v-23.9l-47.7-47.9V262.5z M420.3,537.3h9.6\\n\\t\\tc16.8-2.3,28.7-14.3,33.5-28.7c2.4-4.8,4.8-11.9,4.8-19.2h-95.6C372.6,515.8,394.1,537.3,420.3,537.3L420.3,537.3z M420.3,537.3\" fill=\"#1B3251\"></path> </g> </symbol><symbol id=\"icon-offizielle-homepage\" viewbox=\"0 0 455.7 455.7\"><title>offizielle-homepage</title> <rect fill=\"#1D75A3\" height=\"455.7\" width=\"455.7\" x=\"0\" y=\"0\"></rect> <path d=\"M113.1,241.8l1.8,10l0.2,0.1l2.2-10.1l14.6-46.2h10l14.6,46.2l2.3,11h0.2l2.3-11l11.7-46.2h12.3l-21,72.3\\n\\th-10L140,223.3l-3.1-12.9h-0.2l-3,12.9l-14,44.6h-10.1l-21-72.3h12.4L113.1,241.8z M113.1,241.8\" fill=\"#1E76A4\"></path> <path d=\"M216.7,241.8l1.8,10l0.2,0.1l2.2-10.1l14.6-46.2h10l14.6,46.2l2.3,11h0.2l2.3-11l11.7-46.2h12.3l-21,72.3\\n\\th-10l-14.3-44.6l-3.1-12.9h-0.2l-3,12.9l-14,44.6h-10.1l-21-72.3h12.4L216.7,241.8z M216.7,241.8\" fill=\"#1E76A4\"></path> <path d=\"M320.3,241.8l1.8,10l0.2,0.1l2.2-10.1l14.6-46.2h10l14.6,46.2l2.3,11h0.2l2.3-11l11.7-46.2h12.3l-21,72.3\\n\\th-10l-14.3-44.6l-3.1-12.9h-0.2l-3,12.9l-14,44.6h-10.1l-21-72.3h12.4L320.3,241.8z M320.3,241.8\" fill=\"#1E76A4\"></path> <g> <path d=\"M395.8,286.4c6.4-18.3,9.9-38,9.9-58.5c0-20.5-3.5-40.2-9.9-58.5c-0.2-0.5-0.3-1.1-0.6-1.6\\n\\t\\tC370.5,99.2,304.8,50,227.8,50S85.2,99.2,60.5,167.7c-0.2,0.5-0.4,1.1-0.6,1.6c-6.4,18.3-9.9,38-9.9,58.5c0,20.5,3.5,40.2,9.9,58.5\\n\\t\\tc0.2,0.5,0.3,1.1,0.6,1.6c24.7,68.6,90.4,117.7,167.4,117.7S370.5,356.5,395.2,288C395.5,287.4,395.6,286.9,395.8,286.4\\n\\t\\tL395.8,286.4z M227.8,380.2c-6.8,0-17.7-12.3-26.8-39.6c-4.4-13.2-7.9-28.4-10.5-44.9h74.6c-2.6,16.5-6.1,31.7-10.5,44.9\\n\\t\\tC245.5,367.9,234.6,380.2,227.8,380.2L227.8,380.2z M187.4,270.1c-1.2-13.6-1.9-27.8-1.9-42.3c0-14.5,0.6-28.7,1.9-42.3h80.8\\n\\t\\tc1.2,13.6,1.9,27.8,1.9,42.3c0,14.5-0.6,28.7-1.9,42.3H187.4z M75.5,227.8c0-14.7,2.1-28.9,6-42.3h80.4\\n\\t\\tc-1.2,13.9-1.8,28.1-1.8,42.3c0,14.2,0.6,28.4,1.8,42.3H81.5C77.6,256.7,75.5,242.5,75.5,227.8L75.5,227.8z M227.8,75.5\\n\\t\\tc6.8,0,17.7,12.3,26.8,39.6c4.4,13.2,7.9,28.4,10.5,44.9h-74.6c2.6-16.5,6.1-31.7,10.5-44.9C210.2,87.8,221.1,75.5,227.8,75.5\\n\\t\\tL227.8,75.5z M293.8,185.6h80.4c3.9,13.4,6,27.6,6,42.3c0,14.7-2.1,28.9-6,42.3h-80.4c1.2-13.9,1.8-28.1,1.8-42.3\\n\\t\\tC295.6,213.7,295,199.4,293.8,185.6L293.8,185.6z M364.3,160.1h-73.4c-4.5-31.3-12.3-59.3-23.2-79.3\\n\\t\\tC310,92.3,345,121.5,364.3,160.1L364.3,160.1z M188,80.8c-10.9,20-18.7,48-23.2,79.3H91.4C110.7,121.5,145.7,92.3,188,80.8\\n\\t\\tL188,80.8z M91.4,295.6h73.4c4.5,31.3,12.3,59.3,23.2,79.3C145.7,363.4,110.7,334.2,91.4,295.6L91.4,295.6z M267.7,374.9\\n\\t\\tc10.9-20,18.7-48,23.2-79.3h73.4C345,334.2,310,363.4,267.7,374.9L267.7,374.9z M267.7,374.9\" fill=\"#FFFFFF\"></path> </g> </symbol><symbol id=\"icon-passwort\" viewbox=\"0 0 841.9 595.3\"><title>passwort</title> <g> <path d=\"M494,212.1c16.5,7,31.7,16.1,45.5,27.3v-78.9c0-65.6-53.4-118.9-118.9-118.9h-1.8\\n\\t\\tc-65.5,0-118.9,53.4-118.9,118.9v78.9c13.8-11.2,29-20.3,45.5-27.3c4.4-1.9,9-3.6,13.5-5.1v-46.5c0-33.1,26.9-59.9,59.9-59.9h1.8\\n\\t\\tc33.1,0,59.9,26.9,59.9,59.9V207C485.1,208.5,489.6,210.2,494,212.1L494,212.1z M494,212.1\" fill=\"#1B3251\"></path> <path d=\"M252.4,388c0,92.4,74.9,167.3,167.3,167.3c92.4,0,167.3-74.8,167.3-167.3c0-45.4-18.1-86.6-47.5-116.8\\n\\t\\tc-16.5-16.9-36.6-30.4-59-39.2c-18.8-7.4-39.4-11.4-60.8-11.4c-21.4,0-42,4-60.8,11.4c-22.4,8.7-42.5,22.2-59,39.2\\n\\t\\tC270.5,301.4,252.4,342.6,252.4,388L252.4,388z M376.6,354.2c0.6-22.8,19.2-41.4,42-42c24.3-0.6,44.2,18.9,44.2,43.1\\n\\t\\tc0,2.5-0.2,5-0.7,7.4c-2.1,12.2-9.4,22.7-19.5,29.1c-4.2,2.7-6.3,7.6-5.3,12.4l12.8,60.7c0.8,3.7-2,7.1-5.8,7.1H395\\n\\t\\tc-3.8,0-6.6-3.4-5.8-7.1l12.8-60.7c1-4.8-1.1-9.8-5.3-12.5c-10.2-6.4-17.4-16.8-19.5-29.1C376.8,359.9,376.6,357.1,376.6,354.2\\n\\t\\tL376.6,354.2z M376.6,354.2\" fill=\"#1B3251\"></path> </g> </symbol><symbol id=\"icon-pinterest\" viewbox=\"0 0 455.731 455.731\"><title>pinterest</title> <g> <rect height=\"455.731\" style=\"fill:#C9353D;\" width=\"455.731\" x=\"0\" y=\"0\"></rect> <path d=\"M160.601,382C86.223,350.919,37.807,262.343,68.598,172.382\\r\\n\\t\\tC99.057,83.391,197.589,36.788,286.309,69.734c88.972,33.04,132.978,131.213,98.486,219.22\\r\\n\\t\\tc-35.709,91.112-131.442,123.348-203.22,100.617c5.366-13.253,11.472-26.33,15.945-39.943c4.492-13.672,7.356-27.878,10.725-41.037\\r\\n\\t\\tc2.9,2.44,5.814,5.027,8.866,7.439c15.861,12.535,33.805,13.752,52.605,9.232c19.977-4.803,35.764-16.13,47.455-32.78\\r\\n\\t\\tc19.773-28.16,26.751-60.019,21.972-93.546c-4.942-34.668-25.469-59.756-57.65-72.389c-48.487-19.034-94.453-12.626-134.269,22.259\\r\\n\\t\\tc-30.622,26.83-40.916,72.314-26.187,107.724c5.105,12.274,13.173,21.907,25.379,27.695c6.186,2.933,8.812,1.737,10.602-4.724\\r\\n\\t\\tc0.133-0.481,0.295-0.955,0.471-1.422c3.428-9.04,2.628-16.472-3.473-25.199c-11.118-15.906-9.135-34.319-3.771-51.961\\r\\n\\t\\tc10.172-33.455,40.062-55.777,75.116-56.101c9.39-0.087,19.056,0.718,28.15,2.937c27.049,6.599,44.514,27.518,46.264,55.253\\r\\n\\t\\tc1.404,22.242-2.072,43.849-11.742,64.159c-4.788,10.055-11.107,18.996-20.512,25.325c-8.835,5.945-18.496,8.341-28.979,5.602\\r\\n\\t\\tc-14.443-3.774-22.642-16.95-18.989-31.407c3.786-14.985,8.685-29.69,12.399-44.69c1.57-6.344,2.395-13.234,1.751-19.696\\r\\n\\t\\tc-1.757-17.601-18.387-25.809-33.933-17.216c-10.889,6.019-16.132,16.079-18.564,27.719c-2.505,11.992-1.292,23.811,2.61,35.439\\r\\n\\t\\tc0.784,2.337,0.9,5.224,0.347,7.634c-7.063,30.799-14.617,61.49-21.306,92.369c-1.952,9.011-1.59,18.527-2.239,27.815\\r\\n\\t\\tC160.495,377.839,160.601,379.635,160.601,382z\" style=\"fill:#FFFFFF;\"></path> </g> </symbol><symbol id=\"icon-rss\" viewbox=\"0 0 384 382\"><title>rss</title> <rect fill=\"#F78422\" height=\"364.6\" width=\"364.6\" x=\"9\" y=\"9\"></rect> <path d=\"M246,136.3C196.6,86.9,130.8,59.7,60.8,59.7v51.5c56.2,0,109,21.9,148.7,61.5\\n\\tc39.7,39.7,61.5,92.5,61.5,148.7h51.5C322.6,251.5,295.4,185.7,246,136.3L246,136.3z M246,136.3\" fill=\"#FFFFFF\"></path> <path d=\"M60.3,146.8v51.5c67.9,0,123.2,55.2,123.2,123.2h51.5C234.9,225.2,156.6,146.8,60.3,146.8L60.3,146.8z\\n\\t M60.3,146.8\" fill=\"#FFFFFF\"></path> <path d=\"M133.7,286c0,20.4-16.5,36.9-36.9,36.9S60,306.4,60,286s16.5-36.9,36.9-36.9S133.7,265.6,133.7,286\\n\\tL133.7,286z M133.7,286\" fill=\"#FFFFFF\"></path> </symbol><symbol id=\"icon-schliessen\" viewbox=\"0 0 270 276\"><title>schliessen</title> <g> <path d=\"M168.1,141.4c-2.1-2.1-2.1-5.3,0-7.4l79.3-79.3c2.1-2.1,3.2-5.3,3.2-7.4c0-2.1-1-5.3-3.2-7.4l-14.8-14.8\\n\\t\\tc-2.1-2.1-5.3-3.1-7.4-3.1c-3.2,0-5.3,1-7.4,3.1l-79.3,79.3c-2.1,2.1-5.3,2.1-7.4,0L51.8,25.1C49.7,23,46.5,22,44.4,22\\n\\t\\tc-2.1,0-5.3,1-7.4,3.1L22.1,40C20,42.1,19,45.3,19,47.4c0,2.1,1,5.3,3.1,7.4l79.3,79.3c2.1,2.1,2.1,5.3,0,7.4l-79.3,79.3\\n\\t\\tc-2.1,2.1-3.1,5.3-3.1,7.4c0,2.1,1,5.3,3.1,7.4L37,250.4c2.1,2.1,5.3,3.2,7.4,3.2c2.1,0,5.3-1,7.4-3.2l79.3-79.3\\n\\t\\tc2.1-2.1,5.3-2.1,7.4,0l79.3,79.3c2.1,2.1,5.3,3.2,7.4,3.2c2.1,0,5.3-1,7.4-3.2l14.8-14.8c2.1-2.1,3.2-5.3,3.2-7.4\\n\\t\\tc0-2.1-1-5.3-3.2-7.4L168.1,141.4z M168.1,141.4\" fill=\"#FFFFFF\"></path> </g> </symbol><symbol id=\"icon-share-blauaufweiss\" viewbox=\"0 0 128 128\"><title>share-blauaufweiss</title> <g display=\"none\" id=\"share-blauaufweiss-Twitter\"> <g display=\"inline\"> <rect fill=\"#55ACEE\" height=\"128\" id=\"share-blauaufweiss-twitter-back\" width=\"128\"></rect> <path d=\"M99.8,41.8c-2.6,1.2-5.5,2-8.4,2.3c3-1.8,5.4-4.7,6.5-8.1c-2.8,1.7-6,2.9-9.3,3.6\\r\\n\\t\\t\\tc-2.7-2.9-6.5-4.6-10.7-4.6c-8.1,0-14.7,6.6-14.7,14.7c0,1.2,0.1,2.3,0.4,3.4c-12.2-0.6-23.1-6.5-30.3-15.4c-1.3,2.2-2,4.7-2,7.4\\r\\n\\t\\t\\tc0,5.1,2.6,9.6,6.5,12.2c-2.4-0.1-4.7-0.7-6.7-1.8c0,0.1,0,0.1,0,0.2c0,7.1,5.1,13.1,11.8,14.4c-1.2,0.3-2.5,0.5-3.9,0.5\\r\\n\\t\\t\\tc-0.9,0-1.9-0.1-2.8-0.3c1.9,5.8,7.3,10.1,13.7,10.2c-5,3.9-11.4,6.3-18.3,6.3c-1.2,0-2.4-0.1-3.5-0.2c6.5,4.2,14.2,6.6,22.5,6.6\\r\\n\\t\\t\\tc27,0,41.8-22.4,41.8-41.8c0-0.6,0-1.3,0-1.9C95.4,47.3,97.9,44.7,99.8,41.8z\" fill=\"#FFFFFF\" id=\"share-blauaufweiss-twitter-twitter\"></path> </g> </g> <g id=\"share-blauaufweiss-Ebene_2\"> <rect display=\"none\" height=\"129.8\" width=\"131.5\" x=\"-1.3\"></rect> <g display=\"none\"> <path d=\"M102.8,83.4c0,1.9-0.5,3.4-1.5,4.9L76.6,60.6l24.3-21.4c1,1.5,1.5,3.4,1.5,5.3v38.8\\r\\n\\t\\t\\tH102.8z M64,65.9l34-29.6c-1.5-1-2.9-1.5-4.9-1.5H34.9c-1.5,0-3.4,0.5-4.9,1.5L64,65.9z M73.2,64l-7.8,6.8c-0.5,0.5-1,0.5-1.5,0.5\\r\\n\\t\\t\\tc-0.5,0-1,0-1.5-0.5L54.8,64L30,91.7c1.5,1,3.4,1.5,5.3,1.5h58.3c1.9,0,3.4-0.5,5.3-1.5L73.2,64z M26.6,39.7\\r\\n\\t\\t\\tc-1,1.5-1.5,3.4-1.5,5.3v38.8c0,1.9,0.5,3.4,1.5,4.9l24.8-27.7L26.6,39.7z\" display=\"inline\" fill=\"#FFFFFF\"></path> </g> <g> <g> <path d=\"M81.6,76.9c-1.9,0-3.8,0.6-5.2,1.7L56.1,66.3c0.1-0.5,0.1-0.9,0.1-1.4s-0.1-0.9-0.1-1.4l20.2-12.4\\r\\n\\t\\t\\t\\tc1.5,1.1,3.3,1.7,5.2,1.7c4.9,0,8.9-4,8.9-8.9s-4-8.9-8.9-8.9s-8.9,4-8.9,8.9c0,0.5,0.1,0.9,0.1,1.4L52.6,57.8\\r\\n\\t\\t\\t\\tc-1.5-1.1-3.3-1.7-5.2-1.7c-4.9,0-8.8,3.9-8.8,8.9c0,4.9,4,8.9,8.9,8.9c2,0,3.8-0.6,5.2-1.7l20.2,12.4c-0.1,0.5-0.1,0.9-0.1,1.4\\r\\n\\t\\t\\t\\tc0,4.9,4,8.9,8.9,8.9c4.9,0,8.9-4,8.9-8.9C90.4,80.9,86.5,76.9,81.6,76.9L81.6,76.9z\" fill=\"#1A3151\"></path> </g> </g> </g> </symbol><symbol id=\"icon-share-weissaufblau\" viewbox=\"0 0 128 128\"><title>share-weissaufblau</title> <g display=\"none\" id=\"share-weissaufblau-Twitter\"> <g display=\"inline\"> <rect fill=\"#55ACEE\" height=\"128\" id=\"share-weissaufblau-twitter-back\" width=\"128\"></rect> <path d=\"M99.8,41.8c-2.6,1.2-5.5,2-8.4,2.3c3-1.8,5.4-4.7,6.5-8.1c-2.8,1.7-6,2.9-9.3,3.6\\r\\n\\t\\t\\tc-2.7-2.9-6.5-4.6-10.7-4.6c-8.1,0-14.7,6.6-14.7,14.7c0,1.2,0.1,2.3,0.4,3.4c-12.2-0.6-23.1-6.5-30.3-15.4c-1.3,2.2-2,4.7-2,7.4\\r\\n\\t\\t\\tc0,5.1,2.6,9.6,6.5,12.2c-2.4-0.1-4.7-0.7-6.7-1.8c0,0.1,0,0.1,0,0.2c0,7.1,5.1,13.1,11.8,14.4c-1.2,0.3-2.5,0.5-3.9,0.5\\r\\n\\t\\t\\tc-0.9,0-1.9-0.1-2.8-0.3c1.9,5.8,7.3,10.1,13.7,10.2c-5,3.9-11.4,6.3-18.3,6.3c-1.2,0-2.4-0.1-3.5-0.2c6.5,4.2,14.2,6.6,22.5,6.6\\r\\n\\t\\t\\tc27,0,41.8-22.4,41.8-41.8c0-0.6,0-1.3,0-1.9C95.4,47.3,97.9,44.7,99.8,41.8z\" fill=\"#FFFFFF\" id=\"share-weissaufblau-twitter-twitter\"></path> </g> </g> <g id=\"share-weissaufblau-Ebene_2\"> <rect fill=\"#1A3151\" height=\"129.8\" width=\"131.5\" x=\"-1.3\"></rect> <g display=\"none\"> <path d=\"M102.8,83.4c0,1.9-0.5,3.4-1.5,4.9L76.6,60.6l24.3-21.4c1,1.5,1.5,3.4,1.5,5.3v38.8\\r\\n\\t\\t\\tH102.8z M64,65.9l34-29.6c-1.5-1-2.9-1.5-4.9-1.5H34.9c-1.5,0-3.4,0.5-4.9,1.5L64,65.9z M73.2,64l-7.8,6.8c-0.5,0.5-1,0.5-1.5,0.5\\r\\n\\t\\t\\tc-0.5,0-1,0-1.5-0.5L54.8,64L30,91.7c1.5,1,3.4,1.5,5.3,1.5h58.3c1.9,0,3.4-0.5,5.3-1.5L73.2,64z M26.6,39.7\\r\\n\\t\\t\\tc-1,1.5-1.5,3.4-1.5,5.3v38.8c0,1.9,0.5,3.4,1.5,4.9l24.8-27.7L26.6,39.7z\" display=\"inline\" fill=\"#FFFFFF\"></path> </g> <g> <g> <path d=\"M81.6,76.9c-1.9,0-3.8,0.6-5.2,1.7L56.1,66.3c0.1-0.5,0.1-0.9,0.1-1.4s-0.1-0.9-0.1-1.4l20.2-12.4\\r\\n\\t\\t\\t\\tc1.5,1.1,3.3,1.7,5.2,1.7c4.9,0,8.9-4,8.9-8.9s-4-8.9-8.9-8.9s-8.9,4-8.9,8.9c0,0.5,0.1,0.9,0.1,1.4L52.6,57.8\\r\\n\\t\\t\\t\\tc-1.5-1.1-3.3-1.7-5.2-1.7c-4.9,0-8.8,3.9-8.8,8.9c0,4.9,4,8.9,8.9,8.9c2,0,3.8-0.6,5.2-1.7l20.2,12.4c-0.1,0.5-0.1,0.9-0.1,1.4\\r\\n\\t\\t\\t\\tc0,4.9,4,8.9,8.9,8.9c4.9,0,8.9-4,8.9-8.9C90.4,80.9,86.5,76.9,81.6,76.9L81.6,76.9z\" fill=\"#FFFFFF\"></path> </g> </g> </g> </symbol><symbol id=\"icon-snapchat\" viewbox=\"0 0 455.7 455.7\"><title>snapchat</title> <rect fill=\"#FFEA00\" height=\"455.7\" width=\"455.7\"></rect> <g id=\"snapchat-snapchat-snapchat\"> <path d=\"M230,386.2c-0.9,0-1.7,0-2.6-0.1l0,0\\n\\t\\tc-0.5,0-1.1,0.1-1.7,0.1c-20,0-32.8-9.1-45.2-17.8c-8.6-6.1-16.7-11.8-26.2-13.4c-4.6-0.8-9.3-1.2-13.7-1.2\\n\\t\\tc-8.1,0-14.4,1.2-19.1,2.2c-2.8,0.6-5.2,1-7.1,1c-1.9,0-4-0.4-4.9-3.5c-0.8-2.7-1.4-5.3-1.9-7.8c-1.4-6.5-2.4-10.5-5.1-10.9\\n\\t\\tc-31.7-4.9-40.8-11.6-42.8-16.3c-0.3-0.7-0.5-1.4-0.5-2c-0.1-1.8,1.2-3.4,3-3.7c48.7-8,70.6-57.8,71.5-60c0-0.1,0.1-0.1,0.1-0.2\\n\\t\\tc3-6,3.6-11.3,1.7-15.6c-3.3-7.9-14.3-11.3-21.5-13.6c-1.8-0.6-3.4-1.1-4.8-1.6c-14.4-5.7-15.6-11.5-15-14.5\\n\\t\\tc1-5.1,7.8-8.6,13.2-8.6c1.5,0,2.8,0.3,3.9,0.8c6.5,3,12.3,4.6,17.4,4.6c7,0,10-2.9,10.4-3.3c-0.2-3.3-0.4-6.7-0.6-10.3\\n\\t\\tc-1.5-23-3.3-51.7,4-68c21.8-49,68.2-52.8,81.9-52.8c0.4,0,6-0.1,6-0.1l0.8,0c13.7,0,60.1,3.8,82,52.8c7.3,16.4,5.5,45,4,68l-0.1,1\\n\\t\\tc-0.2,3.2-0.4,6.3-0.6,9.3c0.3,0.4,3.1,3,9.5,3.3h0c4.8-0.2,10.3-1.7,16.4-4.5c1.8-0.8,3.7-1,5.1-1c2,0,4.1,0.4,5.8,1.1l0.1,0\\n\\t\\tc4.9,1.7,8.1,5.2,8.2,8.8c0.1,3.4-2.5,8.5-15.2,13.4c-1.3,0.5-3,1-4.8,1.6c-7.2,2.3-18.1,5.8-21.5,13.6c-1.8,4.3-1.2,9.5,1.7,15.6\\n\\t\\tc0,0.1,0.1,0.1,0.1,0.2c0.9,2.1,22.7,51.9,71.5,59.9c1.8,0.3,3.1,1.9,3,3.7c0,0.7-0.2,1.4-0.5,2c-2,4.7-11.1,11.4-42.8,16.3\\n\\t\\tc-2.6,0.4-3.6,3.8-5.1,10.9c-0.6,2.6-1.1,5.1-1.9,7.8c-0.7,2.3-2.1,3.4-4.5,3.4h-0.4c-1.7,0-4.1-0.3-7.1-0.9c-5.4-1.1-11.4-2-19-2\\n\\t\\tc-4.5,0-9.1,0.4-13.8,1.2c-9.5,1.6-17.6,7.3-26.1,13.3C262.8,377.2,250,386.2,230,386.2z\" fill=\"#FFFFFF\" stroke=\"#333333\" stroke-miterlimit=\"10\" stroke-width=\"2\"></path> </g> </symbol><symbol id=\"icon-suche-grau\" viewbox=\"0 0 218 226\"><title>suche-grau</title> <g> <g> <path clip-rule=\"evenodd\" d=\"M203.3,184.7l-43.5-43.5c-0.2-0.2-0.5-0.4-0.7-0.6\\n\\t\\t\\tc8.6-13,13.6-28.5,13.6-45.2c0-45.5-36.9-82.3-82.3-82.3S8,49.9,8,95.3c0,45.5,36.9,82.3,82.3,82.3c16.7,0,32.3-5,45.2-13.6\\n\\t\\t\\tc0.2,0.2,0.4,0.5,0.6,0.7l43.5,43.5c6.5,6.5,17.1,6.5,23.7,0C209.9,201.8,209.9,191.2,203.3,184.7L203.3,184.7z M90.3,149.1\\n\\t\\t\\tc-29.7,0-53.8-24.1-53.8-53.8c0-29.7,24.1-53.8,53.8-53.8s53.8,24.1,53.8,53.8C144.1,125,120,149.1,90.3,149.1L90.3,149.1z\\n\\t\\t\\t M90.3,149.1\" fill=\"#C9C9C9\" fill-rule=\"evenodd\"></path> </g> </g> </symbol><symbol id=\"icon-suche\" viewbox=\"0 0 218 226\"><title>suche</title> <g> <g> <path clip-rule=\"evenodd\" d=\"M203.3,184.7l-43.5-43.5c-0.2-0.2-0.5-0.4-0.7-0.6\\n\\t\\t\\tc8.6-13,13.6-28.5,13.6-45.2c0-45.5-36.9-82.3-82.3-82.3S8,49.9,8,95.3c0,45.5,36.9,82.3,82.3,82.3c16.7,0,32.3-5,45.2-13.6\\n\\t\\t\\tc0.2,0.2,0.4,0.5,0.6,0.7l43.5,43.5c6.5,6.5,17.1,6.5,23.7,0C209.9,201.8,209.9,191.2,203.3,184.7L203.3,184.7z M90.3,149.1\\n\\t\\t\\tc-29.7,0-53.8-24.1-53.8-53.8c0-29.7,24.1-53.8,53.8-53.8s53.8,24.1,53.8,53.8C144.1,125,120,149.1,90.3,149.1L90.3,149.1z\\n\\t\\t\\t M90.3,149.1\" fill=\"#FFFFFF\" fill-rule=\"evenodd\"></path> </g> </g> </symbol><symbol id=\"icon-thread_erstellen\" viewbox=\"0 0 160 139\"><title>thread_erstellen</title> <g> <path d=\"M23.9,21.9h93.4v39.2h11.9V10H12v102.2h58.6v-11.9H23.9V21.9z M23.9,21.9\" fill=\"#FFFFFF\"></path> <path d=\"M151.4,97.3h-22.1V75.2h-11.9v22.1H95.2v11.9h22.1v22.1h11.9v-22.1h22.1V97.3z M151.4,97.3\" fill=\"#FFFFFF\"></path> <rect fill=\"#FFFFFF\" height=\"11.9\" width=\"50.8\" x=\"40.5\" y=\"40.1\"></rect> <rect fill=\"#FFFFFF\" height=\"11.9\" width=\"38.8\" x=\"40.5\" y=\"64.2\"></rect> </g> </symbol><symbol id=\"icon-twitter\" viewbox=\"0 0 455.731 455.731\"><title>twitter</title> <g> <rect height=\"455.731\" style=\"fill:#50ABF1;\" width=\"455.731\" x=\"0\" y=\"0\"></rect> <path d=\"M60.377,337.822c30.33,19.236,66.308,30.368,104.875,30.368c108.349,0,196.18-87.841,196.18-196.18\\r\\n\\t\\tc0-2.705-0.057-5.39-0.161-8.067c3.919-3.084,28.157-22.511,34.098-35c0,0-19.683,8.18-38.947,10.107\\r\\n\\t\\tc-0.038,0-0.085,0.009-0.123,0.009c0,0,0.038-0.019,0.104-0.066c1.775-1.186,26.591-18.079,29.951-38.207\\r\\n\\t\\tc0,0-13.922,7.431-33.415,13.932c-3.227,1.072-6.605,2.126-10.088,3.103c-12.565-13.41-30.425-21.78-50.25-21.78\\r\\n\\t\\tc-38.027,0-68.841,30.805-68.841,68.803c0,5.362,0.617,10.581,1.784,15.592c-5.314-0.218-86.237-4.755-141.289-71.423\\r\\n\\t\\tc0,0-32.902,44.917,19.607,91.105c0,0-15.962-0.636-29.733-8.864c0,0-5.058,54.416,54.407,68.329c0,0-11.701,4.432-30.368,1.272\\r\\n\\t\\tc0,0,10.439,43.968,63.271,48.077c0,0-41.777,37.74-101.081,28.885L60.377,337.822z\" style=\"fill:#FFFFFF;\"></path> </g> </symbol><symbol id=\"icon-vimeo\" viewbox=\"0 0 455.731 455.731\"><title>vimeo</title> <g> <rect height=\"455.731\" style=\"fill:#1AB7EA;\" width=\"455.731\" x=\"0\" y=\"0\"></rect> <path d=\"M49.642,157.084l17.626,22.474c0,0,22.033-17.186,29.965-17.186c4.927,0,15.423,5.729,22.033,25.558\\r\\n\\t\\tc6.61,19.83,34.441,122.62,36.134,127.351c7.607,21.26,17.626,60.811,48.473,66.54s70.065-25.558,91.657-48.473\\r\\n\\t\\tc21.592-22.914,106.64-120.741,110.165-179.349c3.26-54.191-14.517-66.765-22.474-71.828c-14.542-9.254-38.778-12.338-61.692-4.407\\r\\n\\t\\ts-57.726,33.931-66.98,80.2c0,0,31.287-11.457,42.744-0.441s8.373,35.253-1.322,53.32s-37.015,59.93-47.151,61.252\\r\\n\\t\\tc-10.135,1.322-18.067-18.508-19.389-23.796c-1.322-5.288-18.067-77.997-24.236-120.3s-33.049-49.354-45.829-49.354\\r\\n\\t\\tC146.587,78.646,124.554,88.341,49.642,157.084z\" style=\"fill:#FFFFFF;\"></path> </g> </symbol><symbol id=\"icon-whatsapp\" viewbox=\"0 0 455.731 455.731\"><title>whatsapp</title> <g> <rect height=\"455.731\" style=\"fill:#1BD741;\" width=\"455.731\" x=\"0\" y=\"0\"></rect> <g> <path d=\"M68.494,387.41l22.323-79.284c-14.355-24.387-21.913-52.134-21.913-80.638\\r\\n\\t\\t\\tc0-87.765,71.402-159.167,159.167-159.167s159.166,71.402,159.166,159.167c0,87.765-71.401,159.167-159.166,159.167\\r\\n\\t\\t\\tc-27.347,0-54.125-7-77.814-20.292L68.494,387.41z M154.437,337.406l4.872,2.975c20.654,12.609,44.432,19.274,68.762,19.274\\r\\n\\t\\t\\tc72.877,0,132.166-59.29,132.166-132.167S300.948,95.321,228.071,95.321S95.904,154.611,95.904,227.488\\r\\n\\t\\t\\tc0,25.393,7.217,50.052,20.869,71.311l3.281,5.109l-12.855,45.658L154.437,337.406z\" style=\"fill:#FFFFFF;\"></path> <path d=\"M183.359,153.407l-10.328-0.563c-3.244-0.177-6.426,0.907-8.878,3.037\\r\\n\\t\\t\\tc-5.007,4.348-13.013,12.754-15.472,23.708c-3.667,16.333,2,36.333,16.667,56.333c14.667,20,42,52,90.333,65.667\\r\\n\\t\\t\\tc15.575,4.404,27.827,1.435,37.28-4.612c7.487-4.789,12.648-12.476,14.508-21.166l1.649-7.702c0.524-2.448-0.719-4.932-2.993-5.98\\r\\n\\t\\t\\tl-34.905-16.089c-2.266-1.044-4.953-0.384-6.477,1.591l-13.703,17.764c-1.035,1.342-2.807,1.874-4.407,1.312\\r\\n\\t\\t\\tc-9.384-3.298-40.818-16.463-58.066-49.687c-0.748-1.441-0.562-3.19,0.499-4.419l13.096-15.15\\r\\n\\t\\t\\tc1.338-1.547,1.676-3.722,0.872-5.602l-15.046-35.201C187.187,154.774,185.392,153.518,183.359,153.407z\" style=\"fill:#FFFFFF;\"></path> </g> </g> </symbol><symbol id=\"icon-xing\" viewbox=\"0 0 455.731 455.731\"><title>xing</title> <g> <rect height=\"455.731\" style=\"fill:#00605E;\" width=\"455.731\" x=\"0\" y=\"0\"></rect> <g> <polygon points=\"161.915,124.199 89.249,124.199 129.915,200.199 74.582,291.532 147.249,291.532 \\r\\n\\t\\t\\t202.582,200.199 \\t\\t\" style=\"fill:#FFFFFF;\"></polygon> <polygon points=\"304.582,66.199 381.149,66.199 268.482,264.199 342.382,389.532 265.916,389.532 \\r\\n\\t\\t\\t191.916,264.199 \\t\\t\" style=\"fill:#FFFFFF;\"></polygon> </g> </g> </symbol><symbol id=\"icon-youtube\" viewbox=\"0 0 455.7 455.7\"><title>youtube</title> <rect fill=\"#E52D27\" height=\"455.7\" width=\"455.7\"></rect> <path d=\"M404.1,298.4c0,27.7-22.7,50.3-50.3,50.3H102c-27.7,0-50.3-22.7-50.3-50.3v-141\\n\\tc0-27.7,22.7-50.3,50.3-50.3h251.7c27.7,0,50.3,22.7,50.3,50.3V298.4z M191.5,271.1l95.2-49.3l-95.2-49.7V271.1z\" fill=\"#FFFFFF\" id=\"youtube-youtube-youtube\"></path> </symbol></svg></div><div class=\"hide-for-smal\" id=\"werbung_superbanner\" style=\"min-height:90px; margin-bottom: 10px;\">\\n</div>\\n<div class=\"navibalken hide-for-small\" id=\"navibalken\"></div>\\n<div id=\"main\">\\n<div class=\"row\" id=\"logobereich\">\\n<div class=\"large-12 columns\" id=\"header\">\\n<div class=\"naviback hide-for-small hide-for-print\"></div>\\n<div class=\"werbung-skyscraper-container hide-for-small\">\\n<script type=\"text/javascript\">//OrJs9s8(\"skyscraper\")</script>\\n<div class=\"werbung werbung-skyscraper\">\\n<!-- DFPV2 -->\\n<div id=\"Skyscraper\">\\n<script>\\n\\t\\tgoogletag.cmd.push(function() { googletag.display('Skyscraper'); });\\n\\t</script>\\n</div>\\n</div>\\n<span class=\"OrJs9s8_end\"></span>\\n</div>\\n<div class=\"row\" style=\"margin: 0;\">\\n<div class=\"large-3 columns\">\\n<a class=\"hide-for-small\" href=\"/\" id=\"logo-home\" name=\"Logo\"><span class=\"hide-for-small icon-logo\" title=\"Transfermarkt\"></span></a>\\n<div id=\"domain\">\\n<img alt=\"transfermarkt.co.uk\" class=\"flaggenrahmen\" src=\"https://tmssl.akamaized.net//images/flagge/verysmall/189.png?lm=1520611569\" title=\"transfermarkt.co.uk\"/> </div>\\n</div>\\n<div class=\"large-3 columns flexCenter\" id=\"header-social-icons\">\\n<a href=\"https://www.facebook.com/transfermarkt.co.uk\" name=\"SocMedia\" target=\"_blank\"><span class=\"icon-facebook\">\\xa0</span></a>|\\r\\n                <a href=\"http://twitter.com/TMuk_news\" name=\"SocMedia\" target=\"_blank\"><span class=\"icon-twitter\">\\xa0</span></a>|\\r\\n                <a href=\"http://instagram.com/transfermarkt_official\" name=\"SocMedia\" target=\"_blank\"><span class=\"icon-instagram_grau\">\\xa0</span></a>|\\r\\n                <a href=\"/intern/rssguide\" name=\"SocMedia\" target=\"_blank\"><span class=\"icon-rss_feed_grau\">\\xa0</span></a>\\n</div>\\n<div class=\"large-6 columns \" id=\"schnellsuche-platz\">\\n<form action=\"/schnellsuche/ergebnis/schnellsuche\" class=\"noclose\" id=\"schnellsuche\" name=\"schnellsuche\">\\n<input \"=\"\" autocorrect=\"off\" class=\"header-suche\" name=\"query\" onclick=\"\" placeholder=\"Search\" spellcheck=\"false\" type=\"text\" value=\"\"/>\\n<input alt=\"Search\" class=\"header-suche-abschicken\" src=\"/images/suche-grau.svg\" type=\"image\"/>\\n</form>\\n<a class=\"header-suche-detailsuche\" href=\"/detailsuche/spielerdetail/suche\" id=\"detailsuche-head\" title=\"Advanced player search\">\\n<span class=\"icon-detailsuche\"></span>\\n</a>\\n</div>\\n<div class=\"noclose\" id=\"domains\">\\n<div class=\"flex-box domains-wrapper\">\\n<a class=\" flex-box\" href=\"http://www.transfermarkt.de/transfers/transferrekorde/statistik/top/saison_id/2000/plus/0/galerie/0\" name=\"Land\" onclick=\"ga('send','event','domains','click','');\\n\">\\n<span class=\"icon-40\"></span>\\n<span>DE</span>\\n</a>\\n<a class=\" flex-box\" href=\"http://www.transfermarkt.at/transfers/transferrekorde/statistik/top/saison_id/2000/plus/0/galerie/0\" name=\"Land\" onclick=\"ga('send','event','domains','click','');\\n\">\\n<span class=\"icon-127\"></span>\\n<span>AT</span>\\n</a>\\n<a class=\" flex-box\" href=\"http://www.transfermarkt.ch/transfers/transferrekorde/statistik/top/saison_id/2000/plus/0/galerie/0\" name=\"Land\" onclick=\"ga('send','event','domains','click','');\\n\">\\n<span class=\"icon-148\"></span>\\n<span>CH</span>\\n</a>\\n<a class=\" flex-box\" href=\"http://www.transfermarkt.com.tr/transfers/transferrekorde/statistik/top/saison_id/2000/plus/0/galerie/0\" name=\"Land\" onclick=\"ga('send','event','domains','click','');\\n\">\\n<span class=\"icon-174\"></span>\\n<span>COM.TR</span>\\n</a>\\n<a class=\" flex-box\" href=\"http://www.transfermarkt.it/transfers/transferrekorde/statistik/top/saison_id/2000/plus/0/galerie/0\" name=\"Land\" onclick=\"ga('send','event','domains','click','');\\n\">\\n<span class=\"icon-75\"></span>\\n<span>IT</span>\\n</a>\\n<a class=\" flex-box\" href=\"http://www.transfermarkt.pl/transfers/transferrekorde/statistik/top/saison_id/2000/plus/0/galerie/0\" name=\"Land\" onclick=\"ga('send','event','domains','click','');\\n\">\\n<span class=\"icon-135\"></span>\\n<span>PL</span>\\n</a>\\n<a class=\"aktiv flex-box\" href=\"http://www.transfermarkt.co.uk/transfers/transferrekorde/statistik/top/saison_id/2000/plus/0/galerie/0\" name=\"Land\" onclick=\"ga('send','event','domains','click','');\\n\">\\n<span class=\"icon-189\"></span>\\n<span>CO.UK</span>\\n</a>\\n<a class=\" flex-box\" href=\"http://www.transfermarkt.es/transfers/transferrekorde/statistik/top/saison_id/2000/plus/0/galerie/0\" name=\"Land\" onclick=\"ga('send','event','domains','click','');\\n\">\\n<span class=\"icon-157\"></span>\\n<span>ES</span>\\n</a>\\n<a class=\" flex-box\" href=\"http://www.transfermarkt.nl/transfers/transferrekorde/statistik/top/saison_id/2000/plus/0/galerie/0\" name=\"Land\" onclick=\"ga('send','event','domains','click','');\\n\">\\n<span class=\"icon-122\"></span>\\n<span>NL</span>\\n</a>\\n<a class=\" flex-box\" href=\"http://www.transfermarkt.pt/transfers/transferrekorde/statistik/top/saison_id/2000/plus/0/galerie/0\" name=\"Land\" onclick=\"ga('send','event','domains','click','');\\n\">\\n<span class=\"icon-136\"></span>\\n<span>PT</span>\\n</a>\\n<a class=\" flex-box\" href=\"http://www.transfermarkt.ru/transfers/transferrekorde/statistik/top/saison_id/2000/plus/0/galerie/0\" name=\"Land\" onclick=\"ga('send','event','domains','click','');\\n\">\\n<span class=\"icon-141\"></span>\\n<span>RU</span>\\n</a>\\n<a class=\" flex-box\" href=\"http://www.transfermarkt.fr/transfers/transferrekorde/statistik/top/saison_id/2000/plus/0/galerie/0\" name=\"Land\" onclick=\"ga('send','event','domains','click','');\\n\">\\n<span class=\"icon-50\"></span>\\n<span>FR</span>\\n</a>\\n<a class=\" flex-box\" href=\"http://www.transfermarkt.com/transfers/transferrekorde/statistik/top/saison_id/2000/plus/0/galerie/0\" name=\"Land\" onclick=\"ga('send','event','domains','click','');\\n\">\\n<span class=\"icon-com_flagge\"></span>\\n<span>COM</span>\\n</a>\\n<a class=\"flex-box\" href=\"http://www.transfermarkt.tv\" name=\"Land\" onclick=\"ga('send','event','domains','click','');\\n\">\\n<span class=\"icon-tv_flagge\"></span>\\n<span>TV</span>\\n</a>\\n</div>\\n</div>\\n</div>\\n</div>\\n</div>\\n<div class=\"row hide-on-print navihalter \">\\n<div class=\"page_wrapper\">\\n<div class=\"large-12 columns megamenu_container megamenu_dark_bar megamenu_dark\">\\n<a class=\"sticky-logo hide-for-small\" href=\"/\" name=\"Logo-Menu\">\\n<span class=\"tm_svg\" title=\"Transfermarkt\"></span>\\n</a>\\n<!-- Begin Menu Container -->\\n<ul class=\"megamenu \" id=\"mainmenue\" itemscope=\"itemscope\" itemtype=\"http://www.schema.org/SiteNavigationElement\"><!-- Begin Mega Menu -->\\n<li id=\"mobile_hauptmenu_button\">\\n<ul id=\"hauptmenuepunkte\">\\n<li class=\" megamenu_drop_list\" id=\"naviid_news\">\\n<a class=\"megamenu_drop\" name=\"TopNavi\" onclick=\"ga('send','event','News','click','menu');\\n\">\\n\\t\\t\\t\\tNews            </a>\\n<div class=\"dropdown_fullwidth\">\\n<div class=\"col_12 menue_main_col\">\\n<img src=\"/images/bx_loader.gif\"/>\\n</div>\\n<div class=\"col_3 menue_right_col hide-for-small\">\\n</div>\\n</div>\\n</li>\\n<li class=\"aktiv megamenu_drop_list\" id=\"naviid_transfers\">\\n<a class=\"megamenu_drop\" name=\"TopNavi\" onclick=\"ga('send','event','Transfers &amp; Rumours','click','menu');\\n\">\\n\\t\\t\\t\\tTransfers &amp; Rumours            </a>\\n<div class=\"dropdown_fullwidth\">\\n<div class=\"col_12 menue_main_col\">\\n<img src=\"/images/bx_loader.gif\"/>\\n</div>\\n<div class=\"col_3 menue_right_col hide-for-small\">\\n</div>\\n</div>\\n</li>\\n<li class=\" megamenu_drop_list\" id=\"naviid_marktwerte\">\\n<a class=\"megamenu_drop\" name=\"TopNavi\" onclick=\"ga('send','event','Market Values','click','menu');\\n\">\\n\\t\\t\\t\\tMarket Values            </a>\\n<div class=\"dropdown_fullwidth\">\\n<div class=\"col_12 menue_main_col\">\\n<img src=\"/images/bx_loader.gif\"/>\\n</div>\\n<div class=\"col_3 menue_right_col hide-for-small\">\\n</div>\\n</div>\\n</li>\\n<li class=\" megamenu_drop_list\" id=\"naviid_wettbewerbe\">\\n<a class=\"megamenu_drop\" name=\"TopNavi\" onclick=\"ga('send','event','Competitions','click','menu');\\n\">\\n\\t\\t\\t\\tCompetitions            </a>\\n<div class=\"dropdown_fullwidth\">\\n<div class=\"col_12 menue_main_col\">\\n<img src=\"/images/bx_loader.gif\"/>\\n</div>\\n<div class=\"col_3 menue_right_col hide-for-small\">\\n</div>\\n</div>\\n</li>\\n<li class=\" megamenu_drop_list\" id=\"naviid_foren\">\\n<a class=\"megamenu_drop\" name=\"TopNavi\" onclick=\"ga('send','event','Forums','click','menu');\\n\">\\n\\t\\t\\t\\tForums            </a>\\n<div class=\"dropdown_fullwidth\">\\n<div class=\"col_12 menue_main_col\">\\n<img src=\"/images/bx_loader.gif\"/>\\n</div>\\n<div class=\"col_3 menue_right_col hide-for-small\">\\n</div>\\n</div>\\n</li>\\n<li class=\" megamenu_drop_list\" id=\"naviid_meintm\">\\n<a class=\"megamenu_drop\" name=\"TopNavi\" onclick=\"ga('send','event','My TM','click','menu');\\n\">\\n\\t\\t\\t\\tMy TM            </a>\\n<div class=\"dropdown_fullwidth\">\\n<div class=\"col_12 menue_main_col\">\\n<img src=\"/images/bx_loader.gif\"/>\\n</div>\\n<div class=\"col_3 menue_right_col hide-for-small\">\\n</div>\\n</div>\\n</li>\\n<li class=\"\" id=\"naviid_live\">\\n<a class=\"live-navilink\" href=\"/ticker/index/live\" name=\"TopNavi\" onclick=\"ga('send','event','Live','click','menu');\\n\">Live            </a>\\n</li>\\n</ul>\\n</li>\\n</ul>\\n<a class=\"show-for-small icon-logo\" href=\"/\" id=\"logo_klein\" name=\"Logo-Menu-Klein\">\\n</a>\\n<form action=\"/schnellsuche/ergebnis/schnellsuche\" class=\"noclose sticky-suche\" id=\"schnellsuche-sticky\" name=\"schnellsuche\">\\n<input class=\"header-suche\" name=\"query\" onclick=\"\" placeholder=\"Search\" type=\"text\"/>\\n<input alt=\"Search\" class=\"header-suche-abschicken\" src=\"https://tmssl.akamaized.net//images/suchicon.png\" type=\"image\"/>\\n</form>\\n<a class=\"header-suche-detailsuche\" href=\"/detailsuche/spielerdetail/suche\" id=\"detailsuche-head\" title=\"Advanced player search\">\\n<span class=\"icon-detailsuche\"></span>\\n</a>\\n<a href=\"#\" id=\"arrow-up-xy\" name=\"ToTop-Menu\" onclick=\"\">\\n<i class=\"fi-arrow-up\"></i>\\n</a>\\n<div id=\"userprofil-box\">\\n<div class=\"userbox ub-abgemeldet\" id=\"login\">\\n<a>\\n<span onclick=\"ga('send','event','anmeldebox','click','');\\n\"><i class=\"fi-torso\"></i></span>\\n<span class=\"anmelden\">Log In</span>\\n</a>\\n</div>\\n</div>\\n</div>\\n</div>\\n</div>\\n<div class=\"row popuphalter\">\\n<div class=\"small-12\" id=\"loginbox\"></div>\\n<div id=\"registerbox\"></div>\\n<div id=\"passwortVergessenBox\"></div>\\n<div class=\"noclose toggle-div\" id=\"notificationsbox\"></div>\\n<div class=\"noclose toggle-div\" id=\"pnbox\"></div>\\n<div class=\"noclose toggle-div\" id=\"profilbox\">\\n<a href=\"/profil/index\" style=\"line-height: 30px; display: inline-block; padding-left: 27px; background: url(/images/bc-spieler.png) left center no-repeat;\">\\r\\n\\t\\t\\t\\tProfile\\t\\t\\t</a><br/>\\n<a href=\"/profil/einstellungen\" id=\"einstellungen\" style=\"line-height: 30px; display: inline-block; padding-left: 27px; background: url(/images/options.png) 3px center no-repeat;\">\\r\\n\\t\\t\\t\\tSettings\\t\\t\\t</a><br/>\\n<a href=\"/profil/logout\" style=\"line-height: 30px; display: inline-block; padding-left: 27px; background: url(/images/logout.png) 3px center no-repeat;\">\\r\\n\\t\\t\\t\\tLog Out\\t\\t\\t</a>\\n</div>\\n<div class=\"noclose toggle-div\" id=\"vereinbox\"><img alt=\"\" src=\"/images/bx_loader.gif\"/></div>\\n</div>\\n<script>\\n            function googleEvent(string) {\\n                //_gaq.push(['_trackEvent', string, 'click', 'menu']);\\n                ga('send', 'event', string, 'click', 'menu');\\n            }\\n        </script>\\n<div class=\"row hide-for-small\">\\n<div class=\"large-12 columns\" id=\"breadcrumb\" itemscope=\"\" itemtype=\"https://schema.org/BreadcrumbList\">\\n<div class=\"breadcrumb-box\">\\n<div class=\"breadcrumb\">\\n<a class=\"breadcrumb_home_button hide-for-small\" href=\"/\" onclick=\"ga('send','event','breadcrumb_home_button','click','');\\n\">\\n<div class=\"container\">\\n<img alt=\"Home\" src=\"https://tmsi.akamaized.net/breadcrumb/home.svg\"/> </div>\\n</a>\\n<form action=\"/en/jumplist/breadcrumb/site\" class=\"breadcrumb-form breadcrumb-land\" method=\"post\"><div class=\"breadcrumb-select alternative-select chzn-land\" itemprop=\"itemListElement\">\\n<div class=\"container\">\\n<img alt=\"Country\" src=\"https://tmsi.akamaized.net/breadcrumb/bc-land.svg\"/> </div>\\n<select class=\"chzn-select\" data-placeholder=\"Country\" id=\"land_select_breadcrumb\" name=\"land_select_breadcrumb\" tabindex=\"0\">\\n<option selected=\"selected\" value=\"189\">England</option>\\n</select></div>\\n<div class=\"breadcrumb-text\">\\n<input class=\"breadcrumb-button \" type=\"submit\" value=\"\">\\n</input></div>\\n</form>\\n<form action=\"/en/jumplist/breadcrumb/site\" class=\"breadcrumb-form breadcrumb-wettbewerb\" method=\"post\"><div class=\"breadcrumb-select alternative-select chzn-wettbewerb\" itemprop=\"itemListElement\">\\n<div class=\"container\">\\n<img alt=\"Competition\" src=\"https://tmsi.akamaized.net/breadcrumb/bc-wettbewerb.svg\"/> </div>\\n<select class=\"chzn-select\" data-placeholder=\"Competition\" id=\"wettbewerb_select_breadcrumb\" name=\"wettbewerb_select_breadcrumb\" tabindex=\"0\">\\n<option selected=\"selected\" value=\"\"></option>\\n<option value=\"GB1\">Premier League</option>\\n<option value=\"GB2\">Championship</option>\\n<option value=\"GB3\">League One</option>\\n<option value=\"GB4\">League Two</option>\\n<option value=\"CNAT\">National League</option>\\n<option value=\"GB21\">Premier League 2</option>\\n<option value=\"GB18\">U18 Premier League</option>\\n<option value=\"GBFL\">EFL Trophy</option>\\n<option value=\"FAC\">FA Cup</option>\\n<option value=\"CGB\">EFL Cup</option>\\n<option value=\"GBCS\">Community Shield</option>\\n<option value=\"FAYC\">FA Youth Cup</option>\\n</select></div>\\n<div class=\"breadcrumb-text\">\\n<input name=\"wettbewerb_site\" type=\"hidden\" value=\"\">\\n<input class=\"breadcrumb-button disabled\" disabled=\"\" type=\"submit\" value=\"\">\\n</input></input></div>\\n</form>\\n<form action=\"/en/jumplist/breadcrumb/site\" class=\"breadcrumb-form breadcrumb-verein disabled\" method=\"post\"><div class=\"breadcrumb-select alternative-select chzn-verein\" itemprop=\"itemListElement\">\\n<div class=\"container\">\\n<img alt=\"Club\" src=\"https://tmsi.akamaized.net/breadcrumb/bc-verein.svg\"/> </div>\\n<select class=\"chzn-select\" data-placeholder=\"Club\" id=\"verein_select_breadcrumb\" name=\"verein_select_breadcrumb\" tabindex=\"0\">\\n</select></div>\\n<div class=\"breadcrumb-text\">\\n<input name=\"verein_site\" type=\"hidden\" value=\"\">\\n<input class=\"breadcrumb-button disabled\" disabled=\"\" type=\"submit\" value=\"\">\\n</input></input></div>\\n</form>\\n<form action=\"/en/jumplist/breadcrumb/site\" class=\"breadcrumb-form breadcrumb-spieler disabled\" method=\"post\"><div class=\"breadcrumb-select alternative-select chzn-spieler\" itemprop=\"itemListElement\">\\n<div class=\"container\">\\n<img alt=\"Player\" src=\"https://tmsi.akamaized.net/breadcrumb/bc-spieler.svg\"/> </div>\\n<select class=\"chzn-select\" data-placeholder=\"Player\" id=\"spieler_select_breadcrumb\" name=\"spieler_select_breadcrumb\" tabindex=\"0\">\\n</select></div>\\n<div class=\"breadcrumb-text\">\\n<input name=\"spieler_site\" type=\"hidden\" value=\"\">\\n<input class=\"breadcrumb-button disabled\" disabled=\"\" type=\"submit\" value=\"\">\\n</input></input></div>\\n</form>\\n<script type=\"text/javascript\">\\r\\n\\t$(document).ready(function () {\\r\\n\\t\\tvar laenderGeladen=false;\\r\\n\\t\\t$(\"#land_select_breadcrumb_chzn\").on('click', function (event) {\\r\\n\\t\\t\\tif (laenderGeladen===false) {\\r\\n\\t\\t\\t\\t$.getJSON(\"/site/dropDownLaender\", function (data) {\\r\\n\\t\\t\\t\\t\\tjQuery(\"#land_select_breadcrumb\").html(data);\\r\\n\\t\\t\\t\\t\\tjQuery(\"#land_select_breadcrumb\").trigger(\"liszt:updated\");\\r\\n\\t\\t\\t\\t\\tlaenderGeladen=true;\\r\\n\\t\\t\\t\\t});\\r\\n\\t\\t\\t}\\r\\n\\t\\t});\\r\\n\\t});\\r\\n</script>\\n</div>\\n</div>\\n</div>\\n</div>\\n<div style=\"text-align:right\"></div>\\n<div class=\"werbung werbung-billboard\">\\n<!-- DFPV2 -->\\n<div id=\"Billboard\">\\n<script>\\n\\t\\tgoogletag.cmd.push(function() { googletag.display('Billboard'); });\\n\\t</script>\\n</div>\\n</div>\\n<div id=\"modalHolder\"></div>\\n<div class=\"row\">\\n<div class=\"large-8 columns\">\\n<div class=\"box\">\\n<div class=\"table-header\">\\n<h2>Transfer Records</h2>\\n<a class=\"button dropdown toggler statistik-toggler dnu hide-for-small\" data-toggle=\"statistik-infoblock\"></a>\\n<div class=\"header-social\">\\n<div class=\"teilen-desktop-link\" name=\"teilen-desktop\" onclick=\"ga('send','event','teilen-desktop','click','teilen');\\n\"><ul><li><a class=\"MailToLink\" href=\"mailto:?to=&amp;subject=Transfer Records&amp;body=https%3A%2F%2Fwww.transfermarkt.co.uk%2Ftransfers%2Ftransferrekorde%2Fstatistik%2Ftop%2Fplus%2F0%2Fgalerie%2F0%3Fsaison_id%3D2000\" name=\"teilen-mail-desktop\" onclick=\"ga('send','event','teilen-mail-desktop','click','teilen');\\n\"><img alt=\"Mail\" src=\"https://tmsi.akamaized.net/icons/mail-schwarz.svg\"/></a></li><li><a class=\"TwitterLink\" href=\"https://twitter.com/share?url=https%3A%2F%2Fwww.transfermarkt.co.uk%2Ftransfers%2Ftransferrekorde%2Fstatistik%2Ftop%2Fplus%2F0%2Fgalerie%2F0%3Fsaison_id%3D2000&amp;text=Transfer Records\" name=\"teilen-twitter-desktop\" onclick=\"ga('send','event','teilen-twitter-desktop','click','teilen');\\n\" target=\"_blank\"><img alt=\"Twitter\" src=\"https://tmsi.akamaized.net/icons/Twitter-Blau.svg\"/></a></li><li><a class=\"FacebookLink\" href=\"http://www.facebook.com/share.php?u=https%3A%2F%2Fwww.transfermarkt.co.uk%2Ftransfers%2Ftransferrekorde%2Fstatistik%2Ftop%2Fplus%2F0%2Fgalerie%2F0%3Fsaison_id%3D2000\" name=\"teilen-facebook-desktop\" onclick=\"ga('send','event','teilen-facebook-desktop','click','teilen');\\n\" target=\"_blank\"><img alt=\"Facebook\" src=\"https://tmsi.akamaized.net/icons/Facebook-Blau.svg\"/></a></li></ul></div> </div>\\n</div>\\n<div id=\"statistik-infoblock\">\\n<p class=\"info-content\">\\n\\t\\t\\t\\t\\tThis statistic shows the highest transfer fees paid in an international comparison. \\n\\t\\t\\t\\t</p>\\n<div class=\"content\">\\n<form action=\"/transfers/transferrekorde/statistik/top/plus/0/galerie/0\" method=\"get\"> <div class=\"row\">\\n<div class=\"large-12 columns\">\\n<table class=\"auflistung\">\\n<tbody>\\n<tr>\\n<td>Season:</td>\\n<td>\\n<div class=\"inline-select\">\\n<select class=\"chzn-select\" data-placeholder=\"Filter by Season\" name=\"saison_id\" tabindex=\"0\">\\n<option value=\"alle\">All Seasons</option>\\n<option value=\"2023\">23/24</option>\\n<option value=\"2022\">22/23</option>\\n<option value=\"2021\">21/22</option>\\n<option value=\"2020\">20/21</option>\\n<option value=\"2019\">19/20</option>\\n<option value=\"2018\">18/19</option>\\n<option value=\"2017\">17/18</option>\\n<option value=\"2016\">16/17</option>\\n<option value=\"2015\">15/16</option>\\n<option value=\"2014\">14/15</option>\\n<option value=\"2013\">13/14</option>\\n<option value=\"2012\">12/13</option>\\n<option value=\"2011\">11/12</option>\\n<option value=\"2010\">10/11</option>\\n<option value=\"2009\">09/10</option>\\n<option value=\"2008\">08/09</option>\\n<option value=\"2007\">07/08</option>\\n<option value=\"2006\">06/07</option>\\n<option value=\"2005\">05/06</option>\\n<option value=\"2004\">04/05</option>\\n<option value=\"2003\">03/04</option>\\n<option value=\"2002\">02/03</option>\\n<option value=\"2001\">01/02</option>\\n<option selected=\"selected\" value=\"2000\">00/01</option>\\n<option value=\"1999\">99/00</option>\\n<option value=\"1998\">98/99</option>\\n<option value=\"1997\">97/98</option>\\n<option value=\"1996\">96/97</option>\\n<option value=\"1995\">95/96</option>\\n<option value=\"1994\">94/95</option>\\n<option value=\"1993\">93/94</option>\\n<option value=\"1992\">92/93</option>\\n<option value=\"1991\">91/92</option>\\n<option value=\"1990\">90/91</option>\\n<option value=\"1989\">89/90</option>\\n<option value=\"1988\">88/89</option>\\n<option value=\"1987\">87/88</option>\\n<option value=\"1986\">86/87</option>\\n<option value=\"1985\">85/86</option>\\n<option value=\"1984\">84/85</option>\\n<option value=\"1983\">83/84</option>\\n<option value=\"1982\">82/83</option>\\n<option value=\"1981\">81/82</option>\\n<option value=\"1980\">80/81</option>\\n<option value=\"1979\">79/80</option>\\n<option value=\"1978\">78/79</option>\\n<option value=\"1977\">77/78</option>\\n<option value=\"1976\">76/77</option>\\n<option value=\"1975\">75/76</option>\\n<option value=\"1974\">74/75</option>\\n<option value=\"1973\">73/74</option>\\n<option value=\"1972\">72/73</option>\\n<option value=\"1971\">71/72</option>\\n<option value=\"1970\">70/71</option>\\n<option value=\"1969\">69/70</option>\\n<option value=\"1968\">68/69</option>\\n<option value=\"1967\">67/68</option>\\n<option value=\"1966\">66/67</option>\\n<option value=\"1965\">65/66</option>\\n<option value=\"1964\">64/65</option>\\n<option value=\"1963\">63/64</option>\\n<option value=\"1962\">62/63</option>\\n<option value=\"1961\">61/62</option>\\n<option value=\"1960\">60/61</option>\\n<option value=\"1959\">59/60</option>\\n<option value=\"1958\">58/59</option>\\n<option value=\"1957\">57/58</option>\\n<option value=\"1956\">56/57</option>\\n<option value=\"1955\">55/56</option>\\n<option value=\"1954\">54/55</option>\\n<option value=\"1953\">53/54</option>\\n<option value=\"1952\">52/53</option>\\n<option value=\"1951\">51/52</option>\\n<option value=\"1950\">50/51</option>\\n<option value=\"1949\">49/50</option>\\n<option value=\"1948\">48/49</option>\\n<option value=\"1947\">47/48</option>\\n<option value=\"1946\">46/47</option>\\n<option value=\"1945\">45/46</option>\\n<option value=\"1944\">44/45</option>\\n<option value=\"1943\">43/44</option>\\n<option value=\"1942\">42/43</option>\\n<option value=\"1941\">41/42</option>\\n<option value=\"1940\">40/41</option>\\n<option value=\"1939\">39/40</option>\\n<option value=\"1938\">38/39</option>\\n<option value=\"1937\">37/38</option>\\n<option value=\"1936\">36/37</option>\\n<option value=\"1935\">35/36</option>\\n<option value=\"1934\">34/35</option>\\n<option value=\"1933\">33/34</option>\\n<option value=\"1932\">32/33</option>\\n<option value=\"1931\">31/32</option>\\n<option value=\"1930\">30/31</option>\\n<option value=\"1929\">1929/30</option>\\n<option value=\"1928\">1928/29</option>\\n<option value=\"1927\">1927/28</option>\\n<option value=\"1926\">1926/27</option>\\n<option value=\"1925\">1925/26</option>\\n<option value=\"1924\">1924/25</option>\\n<option value=\"1923\">1923/24</option>\\n<option value=\"1922\">1922/23</option>\\n<option value=\"1921\">1921/22</option>\\n<option value=\"1920\">1920/21</option>\\n<option value=\"1919\">1919/20</option>\\n<option value=\"1918\">1918/19</option>\\n<option value=\"1917\">1917/18</option>\\n<option value=\"1916\">1916/17</option>\\n<option value=\"1915\">1915/16</option>\\n<option value=\"1914\">1914/15</option>\\n<option value=\"1913\">1913/14</option>\\n<option value=\"1912\">1912/13</option>\\n<option value=\"1911\">1911/12</option>\\n<option value=\"1910\">1910/11</option>\\n<option value=\"1909\">1909/10</option>\\n<option value=\"1908\">1908/09</option>\\n<option value=\"1907\">1907/08</option>\\n<option value=\"1906\">1906/07</option>\\n<option value=\"1905\">1905/06</option>\\n<option value=\"1904\">1904/05</option>\\n<option value=\"1903\">1903/04</option>\\n<option value=\"1902\">1902/03</option>\\n<option value=\"1901\">1901/02</option>\\n<option value=\"1900\">1900/01</option>\\n<option value=\"1899\">1899/00</option>\\n<option value=\"1898\">1898/99</option>\\n<option value=\"1897\">1897/98</option>\\n<option value=\"1896\">1896/97</option>\\n<option value=\"1895\">1895/96</option>\\n<option value=\"1894\">1894/95</option>\\n<option value=\"1893\">1893/94</option>\\n<option value=\"1892\">1892/93</option>\\n<option value=\"1891\">1891/92</option>\\n<option value=\"1890\">1890/91</option>\\n<option value=\"1889\">1889/90</option>\\n<option value=\"1888\">1888/89</option>\\n<option value=\"1887\">1887/88</option>\\n<option value=\"1886\">1886/87</option>\\n<option value=\"1885\">1885/86</option>\\n<option value=\"1884\">1884/85</option>\\n<option value=\"1883\">1883/84</option>\\n<option value=\"1882\">1882/83</option>\\n<option value=\"1881\">1881/82</option>\\n<option value=\"1880\">1880/81</option>\\n<option value=\"1879\">1879/80</option>\\n<option value=\"1878\">1878/79</option>\\n<option value=\"1877\">1877/78</option>\\n<option value=\"1876\">1876/77</option>\\n<option value=\"1875\">1875/76</option>\\n<option value=\"1874\">1874/75</option>\\n<option value=\"1873\">1873/74</option>\\n<option value=\"1872\">1872/73</option>\\n<option value=\"1871\">1871/72</option>\\n<option value=\"1870\">1870/71</option>\\n</select>\\n</div>\\n</td>\\n</tr>\\n<tr>\\n<td>Citizenship:</td>\\n<td>\\n<div class=\"inline-select\">\\n<select class=\"chzn-select\" data-placeholder=\"Select citizenship\" name=\"land_id\" tabindex=\"0\">\\n<option value=\"\">All nationalities</option>\\n<option value=\"1\">Afghanistan</option>\\n<option value=\"3\">Albania</option>\\n<option value=\"4\">Algeria</option>\\n<option value=\"239\">American Samoa</option>\\n<option value=\"234\">American Virgin Islands</option>\\n<option value=\"5\">Andorra</option>\\n<option value=\"6\">Angola</option>\\n<option value=\"232\">Anguilla</option>\\n<option value=\"7\">Antigua and Barbuda</option>\\n<option value=\"9\">Argentina</option>\\n<option value=\"10\">Armenia</option>\\n<option value=\"233\">Aruba</option>\\n<option value=\"12\">Australia</option>\\n<option value=\"127\">Austria</option>\\n<option value=\"13\">Azerbaijan</option>\\n<option value=\"14\">Bahamas</option>\\n<option value=\"15\">Bahrain</option>\\n<option value=\"16\">Bangladesh</option>\\n<option value=\"17\">Barbados</option>\\n<option value=\"18\">Belarus</option>\\n<option value=\"19\">Belgium</option>\\n<option value=\"20\">Belize</option>\\n<option value=\"21\">Benin</option>\\n<option value=\"211\">Bermuda</option>\\n<option value=\"22\">Bhutan</option>\\n<option value=\"23\">Bolivia</option>\\n<option value=\"269\">Bonaire</option>\\n<option value=\"24\">Bosnia-Herzegovina</option>\\n<option value=\"25\">Botsuana</option>\\n<option value=\"26\">Brazil</option>\\n<option value=\"231\">British Virgin Islands</option>\\n<option value=\"27\">Brunei Darussalam</option>\\n<option value=\"28\">Bulgaria</option>\\n<option value=\"29\">Burkina Faso</option>\\n<option value=\"30\">Burundi</option>\\n<option value=\"79\">Cambodia</option>\\n<option value=\"31\">Cameroon</option>\\n<option value=\"80\">Canada</option>\\n<option value=\"32\">Cape Verde</option>\\n<option value=\"229\">Cayman-Inseln</option>\\n<option value=\"138\">Central African Republic</option>\\n<option value=\"171\">Chad</option>\\n<option value=\"33\">Chile</option>\\n<option value=\"34\">China</option>\\n<option value=\"164\">Chinese Taipei (Taiwan)</option>\\n<option value=\"248\">Christmas Island</option>\\n<option value=\"83\">Colombia</option>\\n<option value=\"35\">Comoros</option>\\n<option value=\"85\">Congo</option>\\n<option value=\"238\">Cookinseln</option>\\n<option value=\"36\">Costa Rica</option>\\n<option value=\"38\">Cote d'Ivoire</option>\\n<option value=\"37\">Croatia</option>\\n<option value=\"220\">CSSR</option>\\n<option value=\"88\">Cuba</option>\\n<option value=\"260\">Curacao</option>\\n<option value=\"188\">Cyprus</option>\\n<option value=\"172\">Czech Republic</option>\\n<option value=\"222\">DDR</option>\\n<option value=\"39\">Denmark</option>\\n<option value=\"41\">Djibouti</option>\\n<option value=\"42\">Dominica</option>\\n<option value=\"43\">Dominican Republic</option>\\n<option value=\"193\">DR Congo</option>\\n<option value=\"44\">Ecuador</option>\\n<option value=\"2\">Egypt</option>\\n<option value=\"45\">El Salvador</option>\\n<option value=\"189\">England</option>\\n<option value=\"8\">Equatorial Guinea</option>\\n<option value=\"46\">Eritrea</option>\\n<option value=\"47\">Estonia</option>\\n<option value=\"11\">Ethiopia</option>\\n<option value=\"250\">Falkland Islands</option>\\n<option value=\"208\">Faroe Island</option>\\n<option value=\"111\">Federated States of Micronesia</option>\\n<option value=\"48\">Fiji</option>\\n<option value=\"49\">Finland</option>\\n<option value=\"50\">France</option>\\n<option value=\"252\">French Guiana</option>\\n<option value=\"51\">Gabon</option>\\n<option value=\"53\">Georgia</option>\\n<option value=\"40\">Germany</option>\\n<option value=\"54\">Ghana</option>\\n<option value=\"266\">Gibraltar</option>\\n<option value=\"56\">Greece</option>\\n<option value=\"243\">Greenland</option>\\n<option value=\"55\">Grenada</option>\\n<option value=\"251\">Guadeloupe</option>\\n<option value=\"241\">Guam</option>\\n<option value=\"58\">Guatemala</option>\\n<option value=\"271\">Guernsey</option>\\n<option value=\"59\">Guinea</option>\\n<option value=\"60\">Guinea-Bissau</option>\\n<option value=\"61\">Guyana</option>\\n<option value=\"62\">Haiti</option>\\n<option value=\"66\">Honduras</option>\\n<option value=\"218\">Hongkong</option>\\n<option value=\"178\">Hungary</option>\\n<option value=\"73\">Iceland</option>\\n<option value=\"67\">India</option>\\n<option value=\"68\">Indonesia</option>\\n<option value=\"71\">Iran</option>\\n<option value=\"70\">Iraq</option>\\n<option value=\"72\">Ireland</option>\\n<option value=\"270\">Isle of Man</option>\\n<option value=\"74\">Israel</option>\\n<option value=\"75\">Italy</option>\\n<option value=\"76\">Jamaica</option>\\n<option value=\"77\">Japan</option>\\n<option value=\"272\">Jersey</option>\\n<option value=\"78\">Jordan</option>\\n<option value=\"223\">Jugoslawien (SFR)</option>\\n<option value=\"81\">Kazakhstan</option>\\n<option value=\"82\">Kenya</option>\\n<option value=\"246\">Kiribati</option>\\n<option value=\"86\">Korea, North</option>\\n<option value=\"87\">Korea, South</option>\\n<option value=\"244\">Kosovo</option>\\n<option value=\"89\">Kuwait</option>\\n<option value=\"90\">Kyrgyzstan</option>\\n<option value=\"91\">Laos</option>\\n<option value=\"92\">Latvia</option>\\n<option value=\"94\">Lebanon</option>\\n<option value=\"93\">Lesotho</option>\\n<option value=\"95\">Liberia</option>\\n<option value=\"96\">Libya</option>\\n<option value=\"97\">Liechtenstein</option>\\n<option value=\"98\">Lithuania</option>\\n<option value=\"99\">Luxembourg</option>\\n<option value=\"219\">Macao</option>\\n<option value=\"100\">Macedonia</option>\\n<option value=\"101\">Madagascar</option>\\n<option value=\"102\">Malawi</option>\\n<option value=\"103\">Malaysia</option>\\n<option value=\"104\">Maldives</option>\\n<option value=\"105\">Mali</option>\\n<option value=\"106\">Malta</option>\\n<option value=\"268\">Mariana Islands</option>\\n<option value=\"257\">Marshall Islands</option>\\n<option value=\"207\">Martinique</option>\\n<option value=\"108\">Mauritania</option>\\n<option value=\"109\">Mauritius</option>\\n<option value=\"110\">Mexico</option>\\n<option value=\"112\">Moldova</option>\\n<option value=\"113\">Monaco</option>\\n<option value=\"114\">Mongolia</option>\\n<option value=\"216\">Montenegro</option>\\n<option value=\"235\">Montserrat</option>\\n<option value=\"107\">Morocco</option>\\n<option value=\"115\">Mozambique</option>\\n<option value=\"116\">Myanmar</option>\\n<option value=\"117\">Namibia</option>\\n<option value=\"118\">Nauru</option>\\n<option value=\"119\">Nepal</option>\\n<option value=\"122\">Netherlands</option>\\n<option value=\"227\">Netherlands Antilles</option>\\n<option value=\"255\">Netherlands East India</option>\\n<option value=\"236\">Neukaledonien</option>\\n<option value=\"120\">New Zealand</option>\\n<option value=\"121\">Nicaragua</option>\\n<option value=\"123\">Niger</option>\\n<option value=\"124\">Nigeria</option>\\n<option value=\"261\">Niue</option>\\n<option value=\"192\">Northern Ireland</option>\\n<option value=\"125\">Norway</option>\\n<option value=\"126\">Oman</option>\\n<option value=\"242\">Osttimor</option>\\n<option value=\"128\">Pakistan</option>\\n<option value=\"240\">Pal\\xe4stina</option>\\n<option value=\"129\">Palau</option>\\n<option value=\"130\">Panama</option>\\n<option value=\"131\">Papua New Guinea</option>\\n<option value=\"132\">Paraguay</option>\\n<option value=\"259\">People's republic of the Congo</option>\\n<option value=\"133\">Peru</option>\\n<option value=\"134\">Philippines</option>\\n<option value=\"135\">Poland</option>\\n<option value=\"136\">Portugal</option>\\n<option value=\"228\">Puerto Rico</option>\\n<option value=\"137\">Qatar</option>\\n<option value=\"249\">R\\xe9union</option>\\n<option value=\"140\">Romania</option>\\n<option value=\"141\">Russia</option>\\n<option value=\"139\">Rwanda</option>\\n<option value=\"263\">Saarland</option>\\n<option value=\"267\">Saint-Martin</option>\\n<option value=\"143\">Samoa</option>\\n<option value=\"144\">San Marino</option>\\n<option value=\"145\">Sao Tome and Principe</option>\\n<option value=\"146\">Saudi Arabia</option>\\n<option value=\"190\">Scotland</option>\\n<option value=\"149\">Senegal</option>\\n<option value=\"215\">Serbia</option>\\n<option value=\"150\">Serbia and Montenegro</option>\\n<option value=\"151\">Seychelles</option>\\n<option value=\"152\">Sierra Leone</option>\\n<option value=\"153\">Singapore</option>\\n<option value=\"265\">Sint Maarten</option>\\n<option value=\"154\">Slovakia</option>\\n<option value=\"155\">Slovenia</option>\\n<option value=\"69\">Solomon Islands</option>\\n<option value=\"156\">Somalia</option>\\n<option value=\"159\">South Africa</option>\\n<option value=\"262\">Southern Sudan</option>\\n<option value=\"157\">Spain</option>\\n<option value=\"158\">Sri Lanka</option>\\n<option value=\"225\">St. Kitts &amp; Nevis</option>\\n<option value=\"230\">St. Lucia</option>\\n<option value=\"224\">St. Vincent &amp; Grenadinen</option>\\n<option value=\"160\">Sudan</option>\\n<option value=\"161\">Suriname</option>\\n<option value=\"162\">Swaziland</option>\\n<option value=\"147\">Sweden</option>\\n<option value=\"148\">Switzerland</option>\\n<option value=\"163\">Syria</option>\\n<option value=\"237\">Tahiti</option>\\n<option value=\"165\">Tajikistan</option>\\n<option value=\"166\">Tanzania</option>\\n<option value=\"167\">Thailand</option>\\n<option value=\"52\">The Gambia</option>\\n<option value=\"245\">Tibet</option>\\n<option value=\"168\">Togo</option>\\n<option value=\"169\">Tonga</option>\\n<option value=\"170\">Trinidad and Tobago</option>\\n<option value=\"173\">Tunisia</option>\\n<option value=\"174\">Turkey</option>\\n<option value=\"175\">Turkmenistan</option>\\n<option value=\"226\">Turks- and Caicosinseln</option>\\n<option value=\"247\">Tuvalu</option>\\n<option value=\"221\">UdSSR</option>\\n<option value=\"176\">Uganda</option>\\n<option value=\"177\">Ukraine</option>\\n<option value=\"183\">United Arab Emirates</option>\\n<option value=\"264\">United Kingdom</option>\\n<option value=\"184\">United States</option>\\n<option value=\"179\">Uruguay</option>\\n<option value=\"180\">Uzbekistan</option>\\n<option value=\"181\">Vanuatu</option>\\n<option value=\"256\">Vatican</option>\\n<option value=\"182\">Venezuela</option>\\n<option value=\"185\">Vietnam</option>\\n<option value=\"191\">Wales</option>\\n<option value=\"186\">Yemen</option>\\n<option value=\"258\">Yugoslavia (Republic)</option>\\n<option value=\"254\">Zaire</option>\\n<option value=\"142\">Zambia</option>\\n<option value=\"253\">Zanzibar</option>\\n<option value=\"187\">Zimbabwe</option>\\n</select>\\n</div>\\n</td>\\n</tr>\\n<tr>\\n<td>Position:</td>\\n<td>\\n<div class=\"inline-select\">\\n<select class=\"chzn-select\" data-placeholder=\"Select position\" name=\"ausrichtung\" tabindex=\"0\">\\n<option value=\"\">All positions</option>\\n<option selected=\"selected\" value=\"\"> </option>\\n<option value=\"Torwart\">Goalkeeper\\t\\t\\t\\t\\t\\t\\t\\t\\t\\t\\t\\t\\t\\t</option>\\n<option value=\"Abwehr\">Defenders\\t\\t\\t\\t\\t\\t\\t\\t\\t\\t\\t\\t\\t\\t</option>\\n<option value=\"Mittelfeld\">Midfielders\\t\\t\\t\\t\\t\\t\\t\\t\\t\\t\\t\\t\\t\\t</option>\\n<option value=\"Sturm\">Forwards\\t\\t\\t\\t\\t\\t\\t\\t\\t\\t\\t\\t\\t\\t</option>\\n</select>\\n</div>\\n</td>\\n</tr>\\n<tr>\\n<td>Detailed position:</td>\\n<td>\\n<div class=\"inline-select\">\\n<select class=\"chzn-select\" data-placeholder=\"Select detailed position\" name=\"spielerposition_id\" tabindex=\"0\">\\n<option value=\"\">All positions</option>\\n<option value=\"1\">Goalkeeper</option>\\n<option value=\"2\">Sweeper</option>\\n<option value=\"3\">Centre-Back</option>\\n<option value=\"4\">Left-Back</option>\\n<option value=\"5\">Right-Back</option>\\n<option value=\"6\">Defensive Midfield</option>\\n<option value=\"7\">Central Midfield</option>\\n<option value=\"8\">Right Midfield</option>\\n<option value=\"9\">Left Midfield</option>\\n<option value=\"10\">Attacking Midfield</option>\\n<option value=\"11\">Left Winger</option>\\n<option value=\"12\">Right Winger</option>\\n<option value=\"13\">Second Striker</option>\\n<option value=\"14\">Centre-Forward</option>\\n</select>\\n</div>\\n</td>\\n</tr>\\n<tr>\\n<td>Age:</td>\\n<td>\\n<div class=\"inline-select\">\\n<select class=\"chzn-select\" data-placeholder=\"Select age group\" name=\"altersklasse\" tabindex=\"0\">\\n<option value=\"\">All age groups</option>\\n<option selected=\"selected\" value=\"\">All age groups</option>\\n<option value=\"u15\">Under 15</option>\\n<option value=\"u16\">Under 16</option>\\n<option value=\"u17\">Under 17</option>\\n<option value=\"u18\">Under 18</option>\\n<option value=\"u19\">Under 19</option>\\n<option value=\"u20\">Under 20</option>\\n<option value=\"u21\">Under 21</option>\\n<option value=\"u23\">Under 23</option>\\n<option value=\"23-30\">23 - 30</option>\\n<option value=\"o30\">Over 30</option>\\n<option value=\"o32\">Over 32</option>\\n<option value=\"o34\">Over 34</option>\\n<option value=\"o35\">Over 35</option>\\n<option value=\"o36\">Over 36</option>\\n</select>\\n</div>\\n</td>\\n</tr>\\n<tr>\\n<td>Loans:</td>\\n<td>\\n<div class=\"inline-select\">\\n<select class=\"chzn-select\" data-placeholder=\"Choose loan\" name=\"leihe\" tabindex=\"0\">\\n<option value=\"\">All transfers</option>\\n<option value=\"true\">Loans only</option>\\n</select>\\n</div>\\n</td>\\n</tr>\\n<tr>\\n<td>Transfer period:</td>\\n<td>\\n<div class=\"inline-select\">\\n<select class=\"chzn-select\" data-placeholder=\"Transfer period\" name=\"w_s\" tabindex=\"0\">\\n<option value=\"\">Indifferent</option>\\n<option value=\"s\">Summer Transfers only</option>\\n<option value=\"w\">Winter transfers only</option>\\n</select>\\n</div>\\n</td>\\n</tr>\\n<tr>\\n<td>\\n\\t\\t\\t\\t\\t\\t\\t\\t\\t\\t\\t\\xa0\\n\\t\\t\\t\\t\\t\\t\\t\\t\\t\\t</td>\\n<td>\\n<input class=\"right button small\" type=\"submit\" value=\"Display selection\">\\n</input></td>\\n</tr>\\n</tbody>\\n</table>\\n</div>\\n</div>\\n</form>\\n</div>\\n</div>\\n<div class=\"kartei-button-bar\">\\n<a href=\"/transfers/transferrekorde/statistik?saison_id=2000&amp;land_id=0&amp;ausrichtung=&amp;spielerposition_id=&amp;altersklasse=&amp;leihe=&amp;w_s=\"><div class=\"kartei-button kartei-number-1 active-kartei\"><span class=\"kartei-button-body\">Compact</span></div></a><a href=\"/transfers/transferrekorde/statistik?saison_id=2000&amp;land_id=0&amp;ausrichtung=&amp;spielerposition_id=&amp;altersklasse=&amp;leihe=&amp;w_s=&amp;plus=1\"><div class=\"kartei-button second-kartei kartei-number-2\"><span class=\"kartei-button-body\">Detailed</span></div></a><a href=\"/transfers/transferrekorde/statistik?saison_id=2000&amp;land_id=0&amp;ausrichtung=&amp;spielerposition_id=&amp;altersklasse=&amp;leihe=&amp;w_s=&amp;galerie=1\"><div class=\"kartei-button second-kartei kartei-number-3\"><span class=\"kartei-button-body\">Gallery</span></div></a></div>\\n<div class=\"responsive-table\">\\n<div class=\"grid-view\" id=\"yw2\">\\n<div class=\"summary\"></div>\\n<table class=\"items\">\\n<thead>\\n<tr>\\n<th class=\"zentriert\" id=\"yw2_c0\"><a class=\"sort-link\" href=\"/transfers/transferrekorde/statistik/top/saison_id/2000/plus/0/galerie/0/sort/nummer\">#</a></th><th class=\"\" id=\"yw2_c1\">Player</th><th class=\"zentriert\" id=\"yw2_c2\">Season</th><th class=\"zentriert\" id=\"yw2_c3\">Nat.</th><th class=\"\" id=\"yw2_c4\">Joined</th><th class=\"rechts\" id=\"yw2_c5\"><a class=\"sort-link desc\" href=\"/transfers/transferrekorde/statistik/top/saison_id/2000/plus/0/galerie/0/sort/abloese\">Fee</a></th></tr>\\n</thead>\\n<tbody>\\n<tr class=\"odd\">\\n<td class=\"zentriert\">1</td><td class=\"\"><table class=\"inline-table\">\\n<tr>\\n<td rowspan=\"2\">\\n<img alt=\"Lu\\xeds Figo\" class=\"bilderrahmen-fixed\" src=\"https://tmssl.akamaized.net//bilder/spielerfotos/s_3446_123_2012_1.jpg?lm=0\" title=\"Lu\\xeds Figo\"/> </td>\\n<td class=\"hauptlink\">\\n<a class=\"spielprofil_tooltip\" href=\"/luis-figo/profil/spieler/3446\" id=\"3446\" title=\"Lu\\xeds Figo\">Lu\\xeds Figo</a> </td>\\n</tr>\\n<tr>\\n<td>Right Winger</td>\\n</tr>\\n</table>\\n</td><td class=\"zentriert\"><a href=\"/statistik/transferrekorde?saison_id=00%2F01&amp;plus=0\">00/01</a></td><td class=\"zentriert\"><img alt=\"Portugal\" class=\"flaggenrahmen\" src=\"https://tmssl.akamaized.net//images/flagge/verysmall/136.png?lm=1520611569\" title=\"Portugal\"/></td><td class=\"\"><table class=\"inline-table\">\\n<tr>\\n<td rowspan=\"2\">\\n<a class=\"vereinprofil_tooltip\" href=\"/real-madrid/startseite/verein/418\" id=\"418\"><img alt=\"Real Madrid\" class=\"tiny_wappen\" src=\"https://tmssl.akamaized.net//images/wappen/tiny/418.png?lm=1403089383\" title=\"\\xa0\"/></a> </td>\\n<td class=\"hauptlink\">\\n<a class=\"vereinprofil_tooltip\" href=\"/real-madrid/startseite/verein/418\" id=\"418\">Real Madrid</a> </td>\\n</tr>\\n<tr>\\n<td>\\n<img alt=\"Spain\" class=\"flaggenrahmen\" src=\"https://tmssl.akamaized.net//images/flagge/tiny/157.png?lm=1520611569\" title=\"Spain\"/> <a href=\"/primera-division/transfers/wettbewerb/ES1\" title=\"LaLiga\">LaLiga</a> </td>\\n</tr>\\n</table>\\n</td><td class=\"rechts hauptlink\"><a href=\"/jumplist/transfers/spieler/3446/transfer_id/5480\">\\xa354.00m</a></td></tr>\\n<tr class=\"even\">\\n<td class=\"zentriert\">2</td><td class=\"\"><table class=\"inline-table\">\\n<tr>\\n<td rowspan=\"2\">\\n<img alt=\"Hern\\xe1n Crespo\" class=\"bilderrahmen-fixed\" src=\"https://tmssl.akamaized.net//bilder/spielerfotos/s_3410_123_2014_02_25_1.jpg?lm=0\" title=\"Hern\\xe1n Crespo\"/> </td>\\n<td class=\"hauptlink\">\\n<a class=\"spielprofil_tooltip\" href=\"/hernan-crespo/profil/spieler/3410\" id=\"3410\" title=\"Hern\\xe1n Crespo\">Hern\\xe1n Crespo</a> </td>\\n</tr>\\n<tr>\\n<td>Centre-Forward</td>\\n</tr>\\n</table>\\n</td><td class=\"zentriert\"><a href=\"/statistik/transferrekorde?saison_id=00%2F01&amp;plus=0\">00/01</a></td><td class=\"zentriert\"><img alt=\"Argentina\" class=\"flaggenrahmen\" src=\"https://tmssl.akamaized.net//images/flagge/verysmall/9.png?lm=1520611569\" title=\"Argentina\"/><br/><img alt=\"Italy\" class=\"flaggenrahmen\" src=\"https://tmssl.akamaized.net//images/flagge/verysmall/75.png?lm=1520611569\" title=\"Italy\"/></td><td class=\"\"><table class=\"inline-table\">\\n<tr>\\n<td rowspan=\"2\">\\n<a class=\"vereinprofil_tooltip\" href=\"/lazio-rom/startseite/verein/398\" id=\"398\"><img alt=\"SS Lazio\" class=\"tiny_wappen\" src=\"https://tmssl.akamaized.net//images/wappen/tiny/398.png?lm=1539362329\" title=\"\\xa0\"/></a> </td>\\n<td class=\"hauptlink\">\\n<a class=\"vereinprofil_tooltip\" href=\"/lazio-rom/startseite/verein/398\" id=\"398\">Lazio</a> </td>\\n</tr>\\n<tr>\\n<td>\\n<img alt=\"Italy\" class=\"flaggenrahmen\" src=\"https://tmssl.akamaized.net//images/flagge/tiny/75.png?lm=1520611569\" title=\"Italy\"/> <a href=\"/serie-a/transfers/wettbewerb/IT1\" title=\"Serie A\">Serie A</a> </td>\\n</tr>\\n</table>\\n</td><td class=\"rechts hauptlink\"><a href=\"/jumplist/transfers/spieler/3410/transfer_id/8309\">\\xa351.13m</a></td></tr>\\n<tr class=\"odd\">\\n<td class=\"zentriert\">3</td><td class=\"\"><table class=\"inline-table\">\\n<tr>\\n<td rowspan=\"2\">\\n<img alt=\"Marc Overmars\" class=\"bilderrahmen-fixed\" src=\"https://tmssl.akamaized.net//bilder/spielerfotos/s_3513_123_2012_1.jpg?lm=0\" title=\"Marc Overmars\"/> </td>\\n<td class=\"hauptlink\">\\n<a class=\"spielprofil_tooltip\" href=\"/marc-overmars/profil/spieler/3513\" id=\"3513\" title=\"Marc Overmars\">Marc Overmars</a> </td>\\n</tr>\\n<tr>\\n<td>Left Winger</td>\\n</tr>\\n</table>\\n</td><td class=\"zentriert\"><a href=\"/statistik/transferrekorde?saison_id=00%2F01&amp;plus=0\">00/01</a></td><td class=\"zentriert\"><img alt=\"Netherlands\" class=\"flaggenrahmen\" src=\"https://tmssl.akamaized.net//images/flagge/verysmall/122.png?lm=1520611569\" title=\"Netherlands\"/></td><td class=\"\"><table class=\"inline-table\">\\n<tr>\\n<td rowspan=\"2\">\\n<a class=\"vereinprofil_tooltip\" href=\"/fc-barcelona/startseite/verein/131\" id=\"131\"><img alt=\"FC Barcelona\" class=\"tiny_wappen\" src=\"https://tmssl.akamaized.net//images/wappen/tiny/131.png?lm=1406739548\" title=\"\\xa0\"/></a> </td>\\n<td class=\"hauptlink\">\\n<a class=\"vereinprofil_tooltip\" href=\"/fc-barcelona/startseite/verein/131\" id=\"131\">FC Barcelona</a> </td>\\n</tr>\\n<tr>\\n<td>\\n<img alt=\"Spain\" class=\"flaggenrahmen\" src=\"https://tmssl.akamaized.net//images/flagge/tiny/157.png?lm=1520611569\" title=\"Spain\"/> <a href=\"/primera-division/transfers/wettbewerb/ES1\" title=\"LaLiga\">LaLiga</a> </td>\\n</tr>\\n</table>\\n</td><td class=\"rechts hauptlink\"><a href=\"/jumplist/transfers/spieler/3513/transfer_id/5546\">\\xa336.00m</a></td></tr>\\n<tr class=\"even\">\\n<td class=\"zentriert\">4</td><td class=\"\"><table class=\"inline-table\">\\n<tr>\\n<td rowspan=\"2\">\\n<img alt=\"Gabriel Batistuta\" class=\"bilderrahmen-fixed\" src=\"https://tmssl.akamaized.net//images/portrait/medium/5959-1550069351.jpg?lm=1550069359\" title=\"Gabriel Batistuta\"/> </td>\\n<td class=\"hauptlink\">\\n<a class=\"spielprofil_tooltip\" href=\"/gabriel-batistuta/profil/spieler/5959\" id=\"5959\" title=\"Gabriel Batistuta\">Gabriel Batistuta</a> </td>\\n</tr>\\n<tr>\\n<td>Centre-Forward</td>\\n</tr>\\n</table>\\n</td><td class=\"zentriert\"><a href=\"/statistik/transferrekorde?saison_id=00%2F01&amp;plus=0\">00/01</a></td><td class=\"zentriert\"><img alt=\"Argentina\" class=\"flaggenrahmen\" src=\"https://tmssl.akamaized.net//images/flagge/verysmall/9.png?lm=1520611569\" title=\"Argentina\"/><br/><img alt=\"Italy\" class=\"flaggenrahmen\" src=\"https://tmssl.akamaized.net//images/flagge/verysmall/75.png?lm=1520611569\" title=\"Italy\"/></td><td class=\"\"><table class=\"inline-table\">\\n<tr>\\n<td rowspan=\"2\">\\n<a class=\"vereinprofil_tooltip\" href=\"/as-rom/startseite/verein/12\" id=\"12\"><img alt=\"AS Roma\" class=\"tiny_wappen\" src=\"https://tmssl.akamaized.net//images/wappen/tiny/12.png?lm=1533302889\" title=\"\\xa0\"/></a> </td>\\n<td class=\"hauptlink\">\\n<a class=\"vereinprofil_tooltip\" href=\"/as-rom/startseite/verein/12\" id=\"12\">AS Roma</a> </td>\\n</tr>\\n<tr>\\n<td>\\n<img alt=\"Italy\" class=\"flaggenrahmen\" src=\"https://tmssl.akamaized.net//images/flagge/tiny/75.png?lm=1520611569\" title=\"Italy\"/> <a href=\"/serie-a/transfers/wettbewerb/IT1\" title=\"Serie A\">Serie A</a> </td>\\n</tr>\\n</table>\\n</td><td class=\"rechts hauptlink\"><a href=\"/jumplist/transfers/spieler/5959/transfer_id/18729\">\\xa332.54m</a></td></tr>\\n<tr class=\"odd\">\\n<td class=\"zentriert\">5</td><td class=\"\"><table class=\"inline-table\">\\n<tr>\\n<td rowspan=\"2\">\\n<img alt=\"Nicolas Anelka\" class=\"bilderrahmen-fixed\" src=\"https://tmssl.akamaized.net//images/portrait/medium/3226-1542113764.jpg?lm=1542113777\" title=\"Nicolas Anelka\"/> </td>\\n<td class=\"hauptlink\">\\n<a class=\"spielprofil_tooltip\" href=\"/nicolas-anelka/profil/spieler/3226\" id=\"3226\" title=\"Nicolas Anelka\">Nicolas Anelka</a> </td>\\n</tr>\\n<tr>\\n<td>Centre-Forward</td>\\n</tr>\\n</table>\\n</td><td class=\"zentriert\"><a href=\"/statistik/transferrekorde?saison_id=00%2F01&amp;plus=0\">00/01</a></td><td class=\"zentriert\"><img alt=\"France\" class=\"flaggenrahmen\" src=\"https://tmssl.akamaized.net//images/flagge/verysmall/50.png?lm=1520611569\" title=\"France\"/><br/><img alt=\"Martinique\" class=\"flaggenrahmen\" src=\"https://tmssl.akamaized.net//images/flagge/verysmall/207.png?lm=1520611569\" title=\"Martinique\"/></td><td class=\"\"><table class=\"inline-table\">\\n<tr>\\n<td rowspan=\"2\">\\n<a class=\"vereinprofil_tooltip\" href=\"/fc-paris-saint-germain/startseite/verein/583\" id=\"583\"><img alt=\"Paris Saint-Germain\" class=\"tiny_wappen\" src=\"https://tmssl.akamaized.net//images/wappen/tiny/583.png?lm=1522312728\" title=\"\\xa0\"/></a> </td>\\n<td class=\"hauptlink\">\\n<a class=\"vereinprofil_tooltip\" href=\"/fc-paris-saint-germain/startseite/verein/583\" id=\"583\">Paris SG</a> </td>\\n</tr>\\n<tr>\\n<td>\\n<img alt=\"France\" class=\"flaggenrahmen\" src=\"https://tmssl.akamaized.net//images/flagge/tiny/50.png?lm=1520611569\" title=\"France\"/> <a href=\"/ligue-1/transfers/wettbewerb/FR1\" title=\"Ligue 1\">Ligue 1</a> </td>\\n</tr>\\n</table>\\n</td><td class=\"rechts hauptlink\"><a href=\"/jumplist/transfers/spieler/3226/transfer_id/5215\">\\xa331.05m</a></td></tr>\\n<tr class=\"even\">\\n<td class=\"zentriert\">6</td><td class=\"\"><table class=\"inline-table\">\\n<tr>\\n<td rowspan=\"2\">\\n<img alt=\"Rio Ferdinand\" class=\"bilderrahmen-fixed\" src=\"https://tmssl.akamaized.net//bilder/spielerfotos/s_3235_985_2009_1.jpg?lm=0\" title=\"Rio Ferdinand\"/> </td>\\n<td class=\"hauptlink\">\\n<a class=\"spielprofil_tooltip\" href=\"/rio-ferdinand/profil/spieler/3235\" id=\"3235\" title=\"Rio Ferdinand\">Rio Ferdinand</a> </td>\\n</tr>\\n<tr>\\n<td>Centre-Back</td>\\n</tr>\\n</table>\\n</td><td class=\"zentriert\"><a href=\"/statistik/transferrekorde?saison_id=00%2F01&amp;plus=0\">00/01</a></td><td class=\"zentriert\"><img alt=\"England\" class=\"flaggenrahmen\" src=\"https://tmssl.akamaized.net//images/flagge/verysmall/189.png?lm=1520611569\" title=\"England\"/></td><td class=\"\"><table class=\"inline-table\">\\n<tr>\\n<td rowspan=\"2\">\\n<a class=\"vereinprofil_tooltip\" href=\"/leeds-united/startseite/verein/399\" id=\"399\"><img alt=\"Leeds United\" class=\"tiny_wappen\" src=\"https://tmssl.akamaized.net//images/wappen/tiny/399.png?lm=1407654193\" title=\"\\xa0\"/></a> </td>\\n<td class=\"hauptlink\">\\n<a class=\"vereinprofil_tooltip\" href=\"/leeds-united/startseite/verein/399\" id=\"399\">Leeds</a> </td>\\n</tr>\\n<tr>\\n<td>\\n<img alt=\"England\" class=\"flaggenrahmen\" src=\"https://tmssl.akamaized.net//images/flagge/tiny/189.png?lm=1520611569\" title=\"England\"/> <a href=\"/premier-league/transfers/wettbewerb/GB1\" title=\"Premier League\">Premier League</a> </td>\\n</tr>\\n</table>\\n</td><td class=\"rechts hauptlink\"><a href=\"/jumplist/transfers/spieler/3235/transfer_id/5248\">\\xa323.40m</a></td></tr>\\n<tr class=\"odd\">\\n<td class=\"zentriert\">7</td><td class=\"\"><table class=\"inline-table\">\\n<tr>\\n<td rowspan=\"2\">\\n<img alt=\"Fl\\xe1vio Conceicao\" class=\"bilderrahmen-fixed\" src=\"https://tmssl.akamaized.net//bilder/spielerfotos/s_7279_123_2013_04_24_1.jpg?lm=0\" title=\"Fl\\xe1vio Conceicao\"/> </td>\\n<td class=\"hauptlink\">\\n<a class=\"spielprofil_tooltip\" href=\"/flavio-conceicao/profil/spieler/7279\" id=\"7279\" title=\"Fl\\xe1vio Conceicao\">Fl\\xe1vio Conceicao</a> </td>\\n</tr>\\n<tr>\\n<td>Central Midfield</td>\\n</tr>\\n</table>\\n</td><td class=\"zentriert\"><a href=\"/statistik/transferrekorde?saison_id=00%2F01&amp;plus=0\">00/01</a></td><td class=\"zentriert\"><img alt=\"Brazil\" class=\"flaggenrahmen\" src=\"https://tmssl.akamaized.net//images/flagge/verysmall/26.png?lm=1520611569\" title=\"Brazil\"/><br/><img alt=\"Spain\" class=\"flaggenrahmen\" src=\"https://tmssl.akamaized.net//images/flagge/verysmall/157.png?lm=1520611569\" title=\"Spain\"/></td><td class=\"\"><table class=\"inline-table\">\\n<tr>\\n<td rowspan=\"2\">\\n<a class=\"vereinprofil_tooltip\" href=\"/real-madrid/startseite/verein/418\" id=\"418\"><img alt=\"Real Madrid\" class=\"tiny_wappen\" src=\"https://tmssl.akamaized.net//images/wappen/tiny/418.png?lm=1403089383\" title=\"\\xa0\"/></a> </td>\\n<td class=\"hauptlink\">\\n<a class=\"vereinprofil_tooltip\" href=\"/real-madrid/startseite/verein/418\" id=\"418\">Real Madrid</a> </td>\\n</tr>\\n<tr>\\n<td>\\n<img alt=\"Spain\" class=\"flaggenrahmen\" src=\"https://tmssl.akamaized.net//images/flagge/tiny/157.png?lm=1520611569\" title=\"Spain\"/> <a href=\"/primera-division/transfers/wettbewerb/ES1\" title=\"LaLiga\">LaLiga</a> </td>\\n</tr>\\n</table>\\n</td><td class=\"rechts hauptlink\"><a href=\"/jumplist/transfers/spieler/7279/transfer_id/11097\">\\xa322.50m</a></td></tr>\\n<tr class=\"even\">\\n<td class=\"zentriert\">8</td><td class=\"\"><table class=\"inline-table\">\\n<tr>\\n<td rowspan=\"2\">\\n<img alt=\"Savo Milosevic\" class=\"bilderrahmen-fixed\" src=\"https://tmssl.akamaized.net//bilder/spielerfotos/s_7896_123_2013_10_30_1.jpg?lm=0\" title=\"Savo Milosevic\"/> </td>\\n<td class=\"hauptlink\">\\n<a class=\"spielprofil_tooltip\" href=\"/savo-milosevic/profil/spieler/7896\" id=\"7896\" title=\"Savo Milosevic\">Savo Milosevic</a> </td>\\n</tr>\\n<tr>\\n<td>Centre-Forward</td>\\n</tr>\\n</table>\\n</td><td class=\"zentriert\"><a href=\"/statistik/transferrekorde?saison_id=00%2F01&amp;plus=0\">00/01</a></td><td class=\"zentriert\"><img alt=\"Serbia\" class=\"flaggenrahmen\" src=\"https://tmssl.akamaized.net//images/flagge/verysmall/215.png?lm=1520611569\" title=\"Serbia\"/><br/><img alt=\"Bosnia-Herzegovina\" class=\"flaggenrahmen\" src=\"https://tmssl.akamaized.net//images/flagge/verysmall/24.png?lm=1520611569\" title=\"Bosnia-Herzegovina\"/></td><td class=\"\"><table class=\"inline-table\">\\n<tr>\\n<td rowspan=\"2\">\\n<a class=\"vereinprofil_tooltip\" href=\"/fc-parma/startseite/verein/130\" id=\"130\"><img alt=\"Parma Calcio 1913\" class=\"tiny_wappen\" src=\"https://tmssl.akamaized.net//images/wappen/tiny/130.png?lm=1530945992\" title=\"\\xa0\"/></a> </td>\\n<td class=\"hauptlink\">\\n<a class=\"vereinprofil_tooltip\" href=\"/fc-parma/startseite/verein/130\" id=\"130\">Parma</a> </td>\\n</tr>\\n<tr>\\n<td>\\n<img alt=\"Italy\" class=\"flaggenrahmen\" src=\"https://tmssl.akamaized.net//images/flagge/tiny/75.png?lm=1520611569\" title=\"Italy\"/> <a href=\"/serie-a/transfers/wettbewerb/IT1\" title=\"Serie A\">Serie A</a> </td>\\n</tr>\\n</table>\\n</td><td class=\"rechts hauptlink\"><a href=\"/jumplist/transfers/spieler/7896/transfer_id/35162\">\\xa322.50m</a></td></tr>\\n<tr class=\"odd\">\\n<td class=\"zentriert\">9</td><td class=\"\"><table class=\"inline-table\">\\n<tr>\\n<td rowspan=\"2\">\\n<img alt=\"David Tr\\xe9z\\xe9guet\" class=\"bilderrahmen-fixed\" src=\"https://tmssl.akamaized.net//images/portrait/medium/4146-1491231443.jpg?lm=1491231466\" title=\"David Tr\\xe9z\\xe9guet\"/> </td>\\n<td class=\"hauptlink\">\\n<a class=\"spielprofil_tooltip\" href=\"/david-trezeguet/profil/spieler/4146\" id=\"4146\" title=\"David Tr\\xe9z\\xe9guet\">David Tr\\xe9z\\xe9guet</a> </td>\\n</tr>\\n<tr>\\n<td>Centre-Forward</td>\\n</tr>\\n</table>\\n</td><td class=\"zentriert\"><a href=\"/statistik/transferrekorde?saison_id=00%2F01&amp;plus=0\">00/01</a></td><td class=\"zentriert\"><img alt=\"France\" class=\"flaggenrahmen\" src=\"https://tmssl.akamaized.net//images/flagge/verysmall/50.png?lm=1520611569\" title=\"France\"/><br/><img alt=\"Argentina\" class=\"flaggenrahmen\" src=\"https://tmssl.akamaized.net//images/flagge/verysmall/9.png?lm=1520611569\" title=\"Argentina\"/></td><td class=\"\"><table class=\"inline-table\">\\n<tr>\\n<td rowspan=\"2\">\\n<a class=\"vereinprofil_tooltip\" href=\"/juventus-turin/startseite/verein/506\" id=\"506\"><img alt=\"Juventus FC\" class=\"tiny_wappen\" src=\"https://tmssl.akamaized.net//images/wappen/tiny/506.png?lm=1539869052\" title=\"\\xa0\"/></a> </td>\\n<td class=\"hauptlink\">\\n<a class=\"vereinprofil_tooltip\" href=\"/juventus-turin/startseite/verein/506\" id=\"506\">Juventus</a> </td>\\n</tr>\\n<tr>\\n<td>\\n<img alt=\"Italy\" class=\"flaggenrahmen\" src=\"https://tmssl.akamaized.net//images/flagge/tiny/75.png?lm=1520611569\" title=\"Italy\"/> <a href=\"/serie-a/transfers/wettbewerb/IT1\" title=\"Serie A\">Serie A</a> </td>\\n</tr>\\n</table>\\n</td><td class=\"rechts hauptlink\"><a href=\"/jumplist/transfers/spieler/4146/transfer_id/6991\">\\xa320.92m</a></td></tr>\\n<tr class=\"even\">\\n<td class=\"zentriert\">10</td><td class=\"\"><table class=\"inline-table\">\\n<tr>\\n<td rowspan=\"2\">\\n<img alt=\"Claudio L\\xf3pez\" class=\"bilderrahmen-fixed\" src=\"https://tmssl.akamaized.net//bilder/spielerfotos/s_3418_123_2013_03_21_1.jpg?lm=0\" title=\"Claudio L\\xf3pez\"/> </td>\\n<td class=\"hauptlink\">\\n<a class=\"spielprofil_tooltip\" href=\"/claudio-lopez/profil/spieler/3418\" id=\"3418\" title=\"Claudio L\\xf3pez\">Claudio L\\xf3pez</a> </td>\\n</tr>\\n<tr>\\n<td>Centre-Forward</td>\\n</tr>\\n</table>\\n</td><td class=\"zentriert\"><a href=\"/statistik/transferrekorde?saison_id=00%2F01&amp;plus=0\">00/01</a></td><td class=\"zentriert\"><img alt=\"Argentina\" class=\"flaggenrahmen\" src=\"https://tmssl.akamaized.net//images/flagge/verysmall/9.png?lm=1520611569\" title=\"Argentina\"/><br/><img alt=\"Spain\" class=\"flaggenrahmen\" src=\"https://tmssl.akamaized.net//images/flagge/verysmall/157.png?lm=1520611569\" title=\"Spain\"/></td><td class=\"\"><table class=\"inline-table\">\\n<tr>\\n<td rowspan=\"2\">\\n<a class=\"vereinprofil_tooltip\" href=\"/lazio-rom/startseite/verein/398\" id=\"398\"><img alt=\"SS Lazio\" class=\"tiny_wappen\" src=\"https://tmssl.akamaized.net//images/wappen/tiny/398.png?lm=1539362329\" title=\"\\xa0\"/></a> </td>\\n<td class=\"hauptlink\">\\n<a class=\"vereinprofil_tooltip\" href=\"/lazio-rom/startseite/verein/398\" id=\"398\">Lazio</a> </td>\\n</tr>\\n<tr>\\n<td>\\n<img alt=\"Italy\" class=\"flaggenrahmen\" src=\"https://tmssl.akamaized.net//images/flagge/tiny/75.png?lm=1520611569\" title=\"Italy\"/> <a href=\"/serie-a/transfers/wettbewerb/IT1\" title=\"Serie A\">Serie A</a> </td>\\n</tr>\\n</table>\\n</td><td class=\"rechts hauptlink\"><a href=\"/jumplist/transfers/spieler/3418/transfer_id/66461\">\\xa320.70m</a></td></tr>\\n<tr class=\"odd\">\\n<td class=\"zentriert\">11</td><td class=\"\"><table class=\"inline-table\">\\n<tr>\\n<td rowspan=\"2\">\\n<img alt=\"Jimmy Floyd Hasselbaink\" class=\"bilderrahmen-fixed\" src=\"https://tmssl.akamaized.net//images/portrait/medium/3175-1490627112.jpg?lm=1490627141\" title=\"Jimmy Floyd Hasselbaink\"/> </td>\\n<td class=\"hauptlink\">\\n<a class=\"spielprofil_tooltip\" href=\"/jimmy-floyd-hasselbaink/profil/spieler/3175\" id=\"3175\" title=\"Jimmy Floyd Hasselbaink\">Jimmy Floyd Hasselbaink</a> </td>\\n</tr>\\n<tr>\\n<td>Centre-Forward</td>\\n</tr>\\n</table>\\n</td><td class=\"zentriert\"><a href=\"/statistik/transferrekorde?saison_id=00%2F01&amp;plus=0\">00/01</a></td><td class=\"zentriert\"><img alt=\"Netherlands\" class=\"flaggenrahmen\" src=\"https://tmssl.akamaized.net//images/flagge/verysmall/122.png?lm=1520611569\" title=\"Netherlands\"/><br/><img alt=\"Suriname\" class=\"flaggenrahmen\" src=\"https://tmssl.akamaized.net//images/flagge/verysmall/161.png?lm=1520611569\" title=\"Suriname\"/></td><td class=\"\"><table class=\"inline-table\">\\n<tr>\\n<td rowspan=\"2\">\\n<a class=\"vereinprofil_tooltip\" href=\"/fc-chelsea/startseite/verein/631\" id=\"631\"><img alt=\"Chelsea FC\" class=\"tiny_wappen\" src=\"https://tmssl.akamaized.net//images/wappen/tiny/631.png?lm=1444558831\" title=\"\\xa0\"/></a> </td>\\n<td class=\"hauptlink\">\\n<a class=\"vereinprofil_tooltip\" href=\"/fc-chelsea/startseite/verein/631\" id=\"631\">Chelsea</a> </td>\\n</tr>\\n<tr>\\n<td>\\n<img alt=\"England\" class=\"flaggenrahmen\" src=\"https://tmssl.akamaized.net//images/flagge/tiny/189.png?lm=1520611569\" title=\"England\"/> <a href=\"/premier-league/transfers/wettbewerb/GB1\" title=\"Premier League\">Premier League</a> </td>\\n</tr>\\n</table>\\n</td><td class=\"rechts hauptlink\"><a href=\"/jumplist/transfers/spieler/3175/transfer_id/15179\">\\xa320.25m</a></td></tr>\\n<tr class=\"even\">\\n<td class=\"zentriert\">12</td><td class=\"\"><table class=\"inline-table\">\\n<tr>\\n<td rowspan=\"2\">\\n<img alt=\"Gerard L\\xf3pez\" class=\"bilderrahmen-fixed\" src=\"https://tmssl.akamaized.net//bilder/spielerfotos/s_7599_12321_2010_1.jpg?lm=0\" title=\"Gerard L\\xf3pez\"/> </td>\\n<td class=\"hauptlink\">\\n<a class=\"spielprofil_tooltip\" href=\"/gerard-lopez/profil/spieler/7599\" id=\"7599\" title=\"Gerard L\\xf3pez\">Gerard L\\xf3pez</a> </td>\\n</tr>\\n<tr>\\n<td>Central Midfield</td>\\n</tr>\\n</table>\\n</td><td class=\"zentriert\"><a href=\"/statistik/transferrekorde?saison_id=00%2F01&amp;plus=0\">00/01</a></td><td class=\"zentriert\"><img alt=\"Spain\" class=\"flaggenrahmen\" src=\"https://tmssl.akamaized.net//images/flagge/verysmall/157.png?lm=1520611569\" title=\"Spain\"/></td><td class=\"\"><table class=\"inline-table\">\\n<tr>\\n<td rowspan=\"2\">\\n<a class=\"vereinprofil_tooltip\" href=\"/fc-barcelona/startseite/verein/131\" id=\"131\"><img alt=\"FC Barcelona\" class=\"tiny_wappen\" src=\"https://tmssl.akamaized.net//images/wappen/tiny/131.png?lm=1406739548\" title=\"\\xa0\"/></a> </td>\\n<td class=\"hauptlink\">\\n<a class=\"vereinprofil_tooltip\" href=\"/fc-barcelona/startseite/verein/131\" id=\"131\">FC Barcelona</a> </td>\\n</tr>\\n<tr>\\n<td>\\n<img alt=\"Spain\" class=\"flaggenrahmen\" src=\"https://tmssl.akamaized.net//images/flagge/tiny/157.png?lm=1520611569\" title=\"Spain\"/> <a href=\"/primera-division/transfers/wettbewerb/ES1\" title=\"LaLiga\">LaLiga</a> </td>\\n</tr>\\n</table>\\n</td><td class=\"rechts hauptlink\"><a href=\"/jumplist/transfers/spieler/7599/transfer_id/11657\">\\xa319.44m</a></td></tr>\\n<tr class=\"odd\">\\n<td class=\"zentriert\">13</td><td class=\"\"><table class=\"inline-table\">\\n<tr>\\n<td rowspan=\"2\">\\n<img alt=\"Lucas\" class=\"bilderrahmen-fixed\" src=\"https://tmssl.akamaized.net//bilder/spielerfotos/s_8517_6631_2013_02_06_1.jpg?lm=0\" title=\"Lucas\"/> </td>\\n<td class=\"hauptlink\">\\n<a class=\"spielprofil_tooltip\" href=\"/lucas/profil/spieler/8517\" id=\"8517\" title=\"Lucas\">Lucas</a> </td>\\n</tr>\\n<tr>\\n<td>Centre-Forward</td>\\n</tr>\\n</table>\\n</td><td class=\"zentriert\"><a href=\"/statistik/transferrekorde?saison_id=00%2F01&amp;plus=0\">00/01</a></td><td class=\"zentriert\"><img alt=\"Brazil\" class=\"flaggenrahmen\" src=\"https://tmssl.akamaized.net//images/flagge/verysmall/26.png?lm=1520611569\" title=\"Brazil\"/></td><td class=\"\"><table class=\"inline-table\">\\n<tr>\\n<td rowspan=\"2\">\\n<a class=\"vereinprofil_tooltip\" href=\"/fc-stade-rennes/startseite/verein/273\" id=\"273\"><img alt=\"Stade Rennais FC\" class=\"tiny_wappen\" src=\"https://tmssl.akamaized.net//images/wappen/tiny/273.png?lm=1408779098\" title=\"\\xa0\"/></a> </td>\\n<td class=\"hauptlink\">\\n<a class=\"vereinprofil_tooltip\" href=\"/fc-stade-rennes/startseite/verein/273\" id=\"273\">Stade Rennais</a> </td>\\n</tr>\\n<tr>\\n<td>\\n<img alt=\"France\" class=\"flaggenrahmen\" src=\"https://tmssl.akamaized.net//images/flagge/tiny/50.png?lm=1520611569\" title=\"France\"/> <a href=\"/ligue-1/transfers/wettbewerb/FR1\" title=\"Ligue 1\">Ligue 1</a> </td>\\n</tr>\\n</table>\\n</td><td class=\"rechts hauptlink\"><a href=\"/jumplist/transfers/spieler/8517/transfer_id/15606\">\\xa319.17m</a></td></tr>\\n<tr class=\"even\">\\n<td class=\"zentriert\">14</td><td class=\"\"><table class=\"inline-table\">\\n<tr>\\n<td rowspan=\"2\">\\n<img alt=\"Pablo Aimar\" class=\"bilderrahmen-fixed\" src=\"https://tmssl.akamaized.net//bilder/spielerfotos/s_3411_294_2013_04_04_1.jpg?lm=0\" title=\"Pablo Aimar\"/> </td>\\n<td class=\"hauptlink\">\\n<a class=\"spielprofil_tooltip\" href=\"/pablo-aimar/profil/spieler/3411\" id=\"3411\" title=\"Pablo Aimar\">Pablo Aimar</a> </td>\\n</tr>\\n<tr>\\n<td>Attacking Midfield</td>\\n</tr>\\n</table>\\n</td><td class=\"zentriert\"><a href=\"/statistik/transferrekorde?saison_id=00%2F01&amp;plus=0\">00/01</a></td><td class=\"zentriert\"><img alt=\"Argentina\" class=\"flaggenrahmen\" src=\"https://tmssl.akamaized.net//images/flagge/verysmall/9.png?lm=1520611569\" title=\"Argentina\"/><br/><img alt=\"Spain\" class=\"flaggenrahmen\" src=\"https://tmssl.akamaized.net//images/flagge/verysmall/157.png?lm=1520611569\" title=\"Spain\"/></td><td class=\"\"><table class=\"inline-table\">\\n<tr>\\n<td rowspan=\"2\">\\n<a class=\"vereinprofil_tooltip\" href=\"/fc-valencia/startseite/verein/1049\" id=\"1049\"><img alt=\"Valencia CF\" class=\"tiny_wappen\" src=\"https://tmssl.akamaized.net//images/wappen/tiny/1049.png?lm=1406966320\" title=\"\\xa0\"/></a> </td>\\n<td class=\"hauptlink\">\\n<a class=\"vereinprofil_tooltip\" href=\"/fc-valencia/startseite/verein/1049\" id=\"1049\">Valencia</a> </td>\\n</tr>\\n<tr>\\n<td>\\n<img alt=\"Spain\" class=\"flaggenrahmen\" src=\"https://tmssl.akamaized.net//images/flagge/tiny/157.png?lm=1520611569\" title=\"Spain\"/> <a href=\"/primera-division/transfers/wettbewerb/ES1\" title=\"LaLiga\">LaLiga</a> </td>\\n</tr>\\n</table>\\n</td><td class=\"rechts hauptlink\"><a href=\"/jumplist/transfers/spieler/3411/transfer_id/11487\">\\xa319.13m</a></td></tr>\\n<tr class=\"odd\">\\n<td class=\"zentriert\">15</td><td class=\"\"><table class=\"inline-table\">\\n<tr>\\n<td rowspan=\"2\">\\n<img alt=\"W\\xe1lter Samuel\" class=\"bilderrahmen-fixed\" src=\"https://tmssl.akamaized.net//images/portrait/medium/5938-1449586343.jpg?lm=1449586361\" title=\"W\\xe1lter Samuel\"/> </td>\\n<td class=\"hauptlink\">\\n<a class=\"spielprofil_tooltip\" href=\"/walter-samuel/profil/spieler/5938\" id=\"5938\" title=\"W\\xe1lter Samuel\">W\\xe1lter Samuel</a> </td>\\n</tr>\\n<tr>\\n<td>Centre-Back</td>\\n</tr>\\n</table>\\n</td><td class=\"zentriert\"><a href=\"/statistik/transferrekorde?saison_id=00%2F01&amp;plus=0\">00/01</a></td><td class=\"zentriert\"><img alt=\"Argentina\" class=\"flaggenrahmen\" src=\"https://tmssl.akamaized.net//images/flagge/verysmall/9.png?lm=1520611569\" title=\"Argentina\"/><br/><img alt=\"Spain\" class=\"flaggenrahmen\" src=\"https://tmssl.akamaized.net//images/flagge/verysmall/157.png?lm=1520611569\" title=\"Spain\"/></td><td class=\"\"><table class=\"inline-table\">\\n<tr>\\n<td rowspan=\"2\">\\n<a class=\"vereinprofil_tooltip\" href=\"/as-rom/startseite/verein/12\" id=\"12\"><img alt=\"AS Roma\" class=\"tiny_wappen\" src=\"https://tmssl.akamaized.net//images/wappen/tiny/12.png?lm=1533302889\" title=\"\\xa0\"/></a> </td>\\n<td class=\"hauptlink\">\\n<a class=\"vereinprofil_tooltip\" href=\"/as-rom/startseite/verein/12\" id=\"12\">AS Roma</a> </td>\\n</tr>\\n<tr>\\n<td>\\n<img alt=\"Italy\" class=\"flaggenrahmen\" src=\"https://tmssl.akamaized.net//images/flagge/tiny/75.png?lm=1520611569\" title=\"Italy\"/> <a href=\"/serie-a/transfers/wettbewerb/IT1\" title=\"Serie A\">Serie A</a> </td>\\n</tr>\\n</table>\\n</td><td class=\"rechts hauptlink\"><a href=\"/jumplist/transfers/spieler/5938/transfer_id/18773\">\\xa318.72m</a></td></tr>\\n<tr class=\"even\">\\n<td class=\"zentriert\">16</td><td class=\"\"><table class=\"inline-table\">\\n<tr>\\n<td rowspan=\"2\">\\n<img alt=\"Shabani Nonda\" class=\"bilderrahmen-fixed\" src=\"https://tmssl.akamaized.net//bilder/spielerfotos/s_3499_141_2009_1.jpg?lm=0\" title=\"Shabani Nonda\"/> </td>\\n<td class=\"hauptlink\">\\n<a class=\"spielprofil_tooltip\" href=\"/shabani-nonda/profil/spieler/3499\" id=\"3499\" title=\"Shabani Nonda\">Shabani Nonda</a> </td>\\n</tr>\\n<tr>\\n<td>Centre-Forward</td>\\n</tr>\\n</table>\\n</td><td class=\"zentriert\"><a href=\"/statistik/transferrekorde?saison_id=00%2F01&amp;plus=0\">00/01</a></td><td class=\"zentriert\"><img alt=\"DR Congo\" class=\"flaggenrahmen\" src=\"https://tmssl.akamaized.net//images/flagge/verysmall/193.png?lm=1520611569\" title=\"DR Congo\"/><br/><img alt=\"France\" class=\"flaggenrahmen\" src=\"https://tmssl.akamaized.net//images/flagge/verysmall/50.png?lm=1520611569\" title=\"France\"/></td><td class=\"\"><table class=\"inline-table\">\\n<tr>\\n<td rowspan=\"2\">\\n<a class=\"vereinprofil_tooltip\" href=\"/as-monaco/startseite/verein/162\" id=\"162\"><img alt=\"AS Monaco\" class=\"tiny_wappen\" src=\"https://tmssl.akamaized.net//images/wappen/tiny/162.png?lm=1463176069\" title=\"\\xa0\"/></a> </td>\\n<td class=\"hauptlink\">\\n<a class=\"vereinprofil_tooltip\" href=\"/as-monaco/startseite/verein/162\" id=\"162\">Monaco</a> </td>\\n</tr>\\n<tr>\\n<td>\\n<img alt=\"Monaco\" class=\"flaggenrahmen\" src=\"https://tmssl.akamaized.net//images/flagge/tiny/113.png?lm=1520611569\" title=\"Monaco\"/> <a href=\"/ligue-1/transfers/wettbewerb/FR1\" title=\"Ligue 1\">Ligue 1</a> </td>\\n</tr>\\n</table>\\n</td><td class=\"rechts hauptlink\"><a href=\"/jumplist/transfers/spieler/3499/transfer_id/12943\">\\xa318.00m</a></td></tr>\\n<tr class=\"odd\">\\n<td class=\"zentriert\">17</td><td class=\"\"><table class=\"inline-table\">\\n<tr>\\n<td rowspan=\"2\">\\n<img alt=\"Robbie Keane\" class=\"bilderrahmen-fixed\" src=\"https://tmssl.akamaized.net//images/portrait/medium/3144-1464112544.jpg?lm=1464112668\" title=\"Robbie Keane\"/> </td>\\n<td class=\"hauptlink\">\\n<a class=\"spielprofil_tooltip\" href=\"/robbie-keane/profil/spieler/3144\" id=\"3144\" title=\"Robbie Keane\">Robbie Keane</a> </td>\\n</tr>\\n<tr>\\n<td>Centre-Forward</td>\\n</tr>\\n</table>\\n</td><td class=\"zentriert\"><a href=\"/statistik/transferrekorde?saison_id=00%2F01&amp;plus=0\">00/01</a></td><td class=\"zentriert\"><img alt=\"Ireland\" class=\"flaggenrahmen\" src=\"https://tmssl.akamaized.net//images/flagge/verysmall/72.png?lm=1520611569\" title=\"Ireland\"/></td><td class=\"\"><table class=\"inline-table\">\\n<tr>\\n<td rowspan=\"2\">\\n<a class=\"vereinprofil_tooltip\" href=\"/inter-mailand/startseite/verein/46\" id=\"46\"><img alt=\"Inter Milan\" class=\"tiny_wappen\" src=\"https://tmssl.akamaized.net//images/wappen/tiny/46.png?lm=1406106969\" title=\"\\xa0\"/></a> </td>\\n<td class=\"hauptlink\">\\n<a class=\"vereinprofil_tooltip\" href=\"/inter-mailand/startseite/verein/46\" id=\"46\">Inter</a> </td>\\n</tr>\\n<tr>\\n<td>\\n<img alt=\"Italy\" class=\"flaggenrahmen\" src=\"https://tmssl.akamaized.net//images/flagge/tiny/75.png?lm=1520611569\" title=\"Italy\"/> <a href=\"/serie-a/transfers/wettbewerb/IT1\" title=\"Serie A\">Serie A</a> </td>\\n</tr>\\n</table>\\n</td><td class=\"rechts hauptlink\"><a href=\"/jumplist/transfers/spieler/3144/transfer_id/18840\">\\xa317.55m</a></td></tr>\\n<tr class=\"even\">\\n<td class=\"zentriert\">18</td><td class=\"\"><table class=\"inline-table\">\\n<tr>\\n<td rowspan=\"2\">\\n<img alt=\"Jos\\xe9 Mari\" class=\"bilderrahmen-fixed\" src=\"https://tmssl.akamaized.net//images/portrait/medium/6194-1413448562.jpg?lm=1433144837\" title=\"Jos\\xe9 Mari\"/> </td>\\n<td class=\"hauptlink\">\\n<a class=\"spielprofil_tooltip\" href=\"/jose-mari/profil/spieler/6194\" id=\"6194\" title=\"Jos\\xe9 Mari\">Jos\\xe9 Mari</a> </td>\\n</tr>\\n<tr>\\n<td>Centre-Forward</td>\\n</tr>\\n</table>\\n</td><td class=\"zentriert\"><a href=\"/statistik/transferrekorde?saison_id=00%2F01&amp;plus=0\">00/01</a></td><td class=\"zentriert\"><img alt=\"Spain\" class=\"flaggenrahmen\" src=\"https://tmssl.akamaized.net//images/flagge/verysmall/157.png?lm=1520611569\" title=\"Spain\"/></td><td class=\"\"><table class=\"inline-table\">\\n<tr>\\n<td rowspan=\"2\">\\n<a class=\"vereinprofil_tooltip\" href=\"/ac-mailand/startseite/verein/5\" id=\"5\"><img alt=\"AC Milan\" class=\"tiny_wappen\" src=\"https://tmssl.akamaized.net//images/wappen/tiny/5.png?lm=1438547172\" title=\"\\xa0\"/></a> </td>\\n<td class=\"hauptlink\">\\n<a class=\"vereinprofil_tooltip\" href=\"/ac-mailand/startseite/verein/5\" id=\"5\">AC Milan</a> </td>\\n</tr>\\n<tr>\\n<td>\\n<img alt=\"Italy\" class=\"flaggenrahmen\" src=\"https://tmssl.akamaized.net//images/flagge/tiny/75.png?lm=1520611569\" title=\"Italy\"/> <a href=\"/serie-a/transfers/wettbewerb/IT1\" title=\"Serie A\">Serie A</a> </td>\\n</tr>\\n</table>\\n</td><td class=\"rechts hauptlink\"><a href=\"/jumplist/transfers/spieler/6194/transfer_id/9147\">\\xa317.10m</a></td></tr>\\n<tr class=\"odd\">\\n<td class=\"zentriert\">19</td><td class=\"\"><table class=\"inline-table\">\\n<tr>\\n<td rowspan=\"2\">\\n<img alt=\"Jonathan Zebina\" class=\"bilderrahmen-fixed\" src=\"https://tmssl.akamaized.net//bilder/spielerfotos/s_5942_415_2012_2.jpg?lm=0\" title=\"Jonathan Zebina\"/> </td>\\n<td class=\"hauptlink\">\\n<a class=\"spielprofil_tooltip\" href=\"/jonathan-zebina/profil/spieler/5942\" id=\"5942\" title=\"Jonathan Zebina\">Jonathan Zebina</a> </td>\\n</tr>\\n<tr>\\n<td>Centre-Back</td>\\n</tr>\\n</table>\\n</td><td class=\"zentriert\"><a href=\"/statistik/transferrekorde?saison_id=00%2F01&amp;plus=0\">00/01</a></td><td class=\"zentriert\"><img alt=\"France\" class=\"flaggenrahmen\" src=\"https://tmssl.akamaized.net//images/flagge/verysmall/50.png?lm=1520611569\" title=\"France\"/><br/><img alt=\"Martinique\" class=\"flaggenrahmen\" src=\"https://tmssl.akamaized.net//images/flagge/verysmall/207.png?lm=1520611569\" title=\"Martinique\"/></td><td class=\"\"><table class=\"inline-table\">\\n<tr>\\n<td rowspan=\"2\">\\n<a class=\"vereinprofil_tooltip\" href=\"/as-rom/startseite/verein/12\" id=\"12\"><img alt=\"AS Roma\" class=\"tiny_wappen\" src=\"https://tmssl.akamaized.net//images/wappen/tiny/12.png?lm=1533302889\" title=\"\\xa0\"/></a> </td>\\n<td class=\"hauptlink\">\\n<a class=\"vereinprofil_tooltip\" href=\"/as-rom/startseite/verein/12\" id=\"12\">AS Roma</a> </td>\\n</tr>\\n<tr>\\n<td>\\n<img alt=\"Italy\" class=\"flaggenrahmen\" src=\"https://tmssl.akamaized.net//images/flagge/tiny/75.png?lm=1520611569\" title=\"Italy\"/> <a href=\"/serie-a/transfers/wettbewerb/IT1\" title=\"Serie A\">Serie A</a> </td>\\n</tr>\\n</table>\\n</td><td class=\"rechts hauptlink\"><a href=\"/jumplist/transfers/spieler/5942/transfer_id/21944\">\\xa316.56m</a></td></tr>\\n<tr class=\"even\">\\n<td class=\"zentriert\">20</td><td class=\"\"><table class=\"inline-table\">\\n<tr>\\n<td rowspan=\"2\">\\n<img alt=\"\\xc9merson\" class=\"bilderrahmen-fixed\" src=\"https://tmssl.akamaized.net//bilder/spielerfotos/s_70_123_2013_10_02_1.jpg?lm=0\" title=\"\\xc9merson\"/> </td>\\n<td class=\"hauptlink\">\\n<a class=\"spielprofil_tooltip\" href=\"/emerson/profil/spieler/70\" id=\"70\" title=\"\\xc9merson\">\\xc9merson</a> </td>\\n</tr>\\n<tr>\\n<td>Defensive Midfield</td>\\n</tr>\\n</table>\\n</td><td class=\"zentriert\"><a href=\"/statistik/transferrekorde?saison_id=00%2F01&amp;plus=0\">00/01</a></td><td class=\"zentriert\"><img alt=\"Brazil\" class=\"flaggenrahmen\" src=\"https://tmssl.akamaized.net//images/flagge/verysmall/26.png?lm=1520611569\" title=\"Brazil\"/><br/><img alt=\"Germany\" class=\"flaggenrahmen\" src=\"https://tmssl.akamaized.net//images/flagge/verysmall/40.png?lm=1520612525\" title=\"Germany\"/></td><td class=\"\"><table class=\"inline-table\">\\n<tr>\\n<td rowspan=\"2\">\\n<a class=\"vereinprofil_tooltip\" href=\"/as-rom/startseite/verein/12\" id=\"12\"><img alt=\"AS Roma\" class=\"tiny_wappen\" src=\"https://tmssl.akamaized.net//images/wappen/tiny/12.png?lm=1533302889\" title=\"\\xa0\"/></a> </td>\\n<td class=\"hauptlink\">\\n<a class=\"vereinprofil_tooltip\" href=\"/as-rom/startseite/verein/12\" id=\"12\">AS Roma</a> </td>\\n</tr>\\n<tr>\\n<td>\\n<img alt=\"Italy\" class=\"flaggenrahmen\" src=\"https://tmssl.akamaized.net//images/flagge/tiny/75.png?lm=1520611569\" title=\"Italy\"/> <a href=\"/serie-a/transfers/wettbewerb/IT1\" title=\"Serie A\">Serie A</a> </td>\\n</tr>\\n</table>\\n</td><td class=\"rechts hauptlink\"><a href=\"/jumplist/transfers/spieler/70/transfer_id/3530\">\\xa316.20m</a></td></tr>\\n<tr class=\"odd\">\\n<td class=\"zentriert\">21</td><td class=\"\"><table class=\"inline-table\">\\n<tr>\\n<td rowspan=\"2\">\\n<img alt=\"Tore Andr\\xe9 Flo\" class=\"bilderrahmen-fixed\" src=\"https://tmssl.akamaized.net//bilder/spielerfotos/s_3081_123_2012_12_07_1.jpg?lm=0\" title=\"Tore Andr\\xe9 Flo\"/> </td>\\n<td class=\"hauptlink\">\\n<a class=\"spielprofil_tooltip\" href=\"/tore-andre-flo/profil/spieler/3081\" id=\"3081\" title=\"Tore Andr\\xe9 Flo\">Tore Andr\\xe9 Flo</a> </td>\\n</tr>\\n<tr>\\n<td>Centre-Forward</td>\\n</tr>\\n</table>\\n</td><td class=\"zentriert\"><a href=\"/statistik/transferrekorde?saison_id=00%2F01&amp;plus=0\">00/01</a></td><td class=\"zentriert\"><img alt=\"Norway\" class=\"flaggenrahmen\" src=\"https://tmssl.akamaized.net//images/flagge/verysmall/125.png?lm=1520611569\" title=\"Norway\"/></td><td class=\"\"><table class=\"inline-table\">\\n<tr>\\n<td rowspan=\"2\">\\n<a class=\"vereinprofil_tooltip\" href=\"/glasgow-rangers/startseite/verein/124\" id=\"124\"><img alt=\"Rangers FC\" class=\"tiny_wappen\" src=\"https://tmssl.akamaized.net//images/wappen/tiny/124.png?lm=1403469612\" title=\"\\xa0\"/></a> </td>\\n<td class=\"hauptlink\">\\n<a class=\"vereinprofil_tooltip\" href=\"/glasgow-rangers/startseite/verein/124\" id=\"124\">Rangers</a> </td>\\n</tr>\\n<tr>\\n<td>\\n<img alt=\"Scotland\" class=\"flaggenrahmen\" src=\"https://tmssl.akamaized.net//images/flagge/tiny/190.png?lm=1520611569\" title=\"Scotland\"/> Scotland\\t\\t</td>\\n</tr>\\n</table>\\n</td><td class=\"rechts hauptlink\"><a href=\"/jumplist/transfers/spieler/3081/transfer_id/5021\">\\xa316.20m</a></td></tr>\\n<tr class=\"even\">\\n<td class=\"zentriert\">22</td><td class=\"\"><table class=\"inline-table\">\\n<tr>\\n<td rowspan=\"2\">\\n<img alt=\"Serhii Rebrov\" class=\"bilderrahmen-fixed\" src=\"https://tmssl.akamaized.net//bilder/spielerfotos/s_3122_123_2013_10_10_1.jpg?lm=0\" title=\"Serhii Rebrov\"/> </td>\\n<td class=\"hauptlink\">\\n<a class=\"spielprofil_tooltip\" href=\"/serhii-rebrov/profil/spieler/3122\" id=\"3122\" title=\"Serhii Rebrov\">Serhii Rebrov</a> </td>\\n</tr>\\n<tr>\\n<td>Second Striker</td>\\n</tr>\\n</table>\\n</td><td class=\"zentriert\"><a href=\"/statistik/transferrekorde?saison_id=00%2F01&amp;plus=0\">00/01</a></td><td class=\"zentriert\"><img alt=\"Ukraine\" class=\"flaggenrahmen\" src=\"https://tmssl.akamaized.net//images/flagge/verysmall/177.png?lm=1520611569\" title=\"Ukraine\"/></td><td class=\"\"><table class=\"inline-table\">\\n<tr>\\n<td rowspan=\"2\">\\n<a class=\"vereinprofil_tooltip\" href=\"/tottenham-hotspur/startseite/verein/148\" id=\"148\"><img alt=\"Tottenham Hotspur\" class=\"tiny_wappen\" src=\"https://tmssl.akamaized.net//images/wappen/tiny/148.png?lm=1544345801\" title=\"\\xa0\"/></a> </td>\\n<td class=\"hauptlink\">\\n<a class=\"vereinprofil_tooltip\" href=\"/tottenham-hotspur/startseite/verein/148\" id=\"148\">Spurs</a> </td>\\n</tr>\\n<tr>\\n<td>\\n<img alt=\"England\" class=\"flaggenrahmen\" src=\"https://tmssl.akamaized.net//images/flagge/tiny/189.png?lm=1520611569\" title=\"England\"/> <a href=\"/premier-league/transfers/wettbewerb/GB1\" title=\"Premier League\">Premier League</a> </td>\\n</tr>\\n</table>\\n</td><td class=\"rechts hauptlink\"><a href=\"/jumplist/transfers/spieler/3122/transfer_id/5108\">\\xa316.20m</a></td></tr>\\n<tr class=\"odd\">\\n<td class=\"zentriert\">23</td><td class=\"\"><table class=\"inline-table\">\\n<tr>\\n<td rowspan=\"2\">\\n<img alt=\"Angelo Peruzzi\" class=\"bilderrahmen-fixed\" src=\"https://tmssl.akamaized.net//bilder/spielerfotos/s_5826_123_2012_1.jpg?lm=0\" title=\"Angelo Peruzzi\"/> </td>\\n<td class=\"hauptlink\">\\n<a class=\"spielprofil_tooltip\" href=\"/angelo-peruzzi/profil/spieler/5826\" id=\"5826\" title=\"Angelo Peruzzi\">Angelo Peruzzi</a> </td>\\n</tr>\\n<tr>\\n<td>Goalkeeper</td>\\n</tr>\\n</table>\\n</td><td class=\"zentriert\"><a href=\"/statistik/transferrekorde?saison_id=00%2F01&amp;plus=0\">00/01</a></td><td class=\"zentriert\"><img alt=\"Italy\" class=\"flaggenrahmen\" src=\"https://tmssl.akamaized.net//images/flagge/verysmall/75.png?lm=1520611569\" title=\"Italy\"/></td><td class=\"\"><table class=\"inline-table\">\\n<tr>\\n<td rowspan=\"2\">\\n<a class=\"vereinprofil_tooltip\" href=\"/lazio-rom/startseite/verein/398\" id=\"398\"><img alt=\"SS Lazio\" class=\"tiny_wappen\" src=\"https://tmssl.akamaized.net//images/wappen/tiny/398.png?lm=1539362329\" title=\"\\xa0\"/></a> </td>\\n<td class=\"hauptlink\">\\n<a class=\"vereinprofil_tooltip\" href=\"/lazio-rom/startseite/verein/398\" id=\"398\">Lazio</a> </td>\\n</tr>\\n<tr>\\n<td>\\n<img alt=\"Italy\" class=\"flaggenrahmen\" src=\"https://tmssl.akamaized.net//images/flagge/tiny/75.png?lm=1520611569\" title=\"Italy\"/> <a href=\"/serie-a/transfers/wettbewerb/IT1\" title=\"Serie A\">Serie A</a> </td>\\n</tr>\\n</table>\\n</td><td class=\"rechts hauptlink\"><a href=\"/jumplist/transfers/spieler/5826/transfer_id/28048\">\\xa316.11m</a></td></tr>\\n<tr class=\"even\">\\n<td class=\"zentriert\">24</td><td class=\"\"><table class=\"inline-table\">\\n<tr>\\n<td rowspan=\"2\">\\n<img alt=\"Diego Trist\\xe1n\" class=\"bilderrahmen-fixed\" src=\"https://tmssl.akamaized.net//bilder/spielerfotos/s_7504_123_2013_10_10_1.jpg?lm=0\" title=\"Diego Trist\\xe1n\"/> </td>\\n<td class=\"hauptlink\">\\n<a class=\"spielprofil_tooltip\" href=\"/diego-tristan/profil/spieler/7504\" id=\"7504\" title=\"Diego Trist\\xe1n\">Diego Trist\\xe1n</a> </td>\\n</tr>\\n<tr>\\n<td>Centre-Forward</td>\\n</tr>\\n</table>\\n</td><td class=\"zentriert\"><a href=\"/statistik/transferrekorde?saison_id=00%2F01&amp;plus=0\">00/01</a></td><td class=\"zentriert\"><img alt=\"Spain\" class=\"flaggenrahmen\" src=\"https://tmssl.akamaized.net//images/flagge/verysmall/157.png?lm=1520611569\" title=\"Spain\"/></td><td class=\"\"><table class=\"inline-table\">\\n<tr>\\n<td rowspan=\"2\">\\n<a class=\"vereinprofil_tooltip\" href=\"/deportivo-la-coruna/startseite/verein/897\" id=\"897\"><img alt=\"Deportivo de La Coru\\xf1a\" class=\"tiny_wappen\" src=\"https://tmssl.akamaized.net//images/wappen/tiny/897.png?lm=1408655006\" title=\"\\xa0\"/></a> </td>\\n<td class=\"hauptlink\">\\n<a class=\"vereinprofil_tooltip\" href=\"/deportivo-la-coruna/startseite/verein/897\" id=\"897\">Dep. La Coru\\xf1a</a> </td>\\n</tr>\\n<tr>\\n<td>\\n<img alt=\"Spain\" class=\"flaggenrahmen\" src=\"https://tmssl.akamaized.net//images/flagge/tiny/157.png?lm=1520611569\" title=\"Spain\"/> <a href=\"/primera-division/transfers/wettbewerb/ES1\" title=\"LaLiga\">LaLiga</a> </td>\\n</tr>\\n</table>\\n</td><td class=\"rechts hauptlink\"><a href=\"/jumplist/transfers/spieler/7504/transfer_id/14325\">\\xa315.98m</a></td></tr>\\n<tr class=\"odd\">\\n<td class=\"zentriert\">25</td><td class=\"\"><table class=\"inline-table\">\\n<tr>\\n<td rowspan=\"2\">\\n<img alt=\"Sylvain Wiltord\" class=\"bilderrahmen-fixed\" src=\"https://tmssl.akamaized.net//images/portrait/medium/3188-1491232150.jpg?lm=1491232169\" title=\"Sylvain Wiltord\"/> </td>\\n<td class=\"hauptlink\">\\n<a class=\"spielprofil_tooltip\" href=\"/sylvain-wiltord/profil/spieler/3188\" id=\"3188\" title=\"Sylvain Wiltord\">Sylvain Wiltord</a> </td>\\n</tr>\\n<tr>\\n<td>Second Striker</td>\\n</tr>\\n</table>\\n</td><td class=\"zentriert\"><a href=\"/statistik/transferrekorde?saison_id=00%2F01&amp;plus=0\">00/01</a></td><td class=\"zentriert\"><img alt=\"France\" class=\"flaggenrahmen\" src=\"https://tmssl.akamaized.net//images/flagge/verysmall/50.png?lm=1520611569\" title=\"France\"/><br/><img alt=\"Guadeloupe\" class=\"flaggenrahmen\" src=\"https://tmssl.akamaized.net//images/flagge/verysmall/251.png?lm=1520611569\" title=\"Guadeloupe\"/></td><td class=\"\"><table class=\"inline-table\">\\n<tr>\\n<td rowspan=\"2\">\\n<a class=\"vereinprofil_tooltip\" href=\"/fc-arsenal/startseite/verein/11\" id=\"11\"><img alt=\"Arsenal FC\" class=\"tiny_wappen\" src=\"https://tmssl.akamaized.net//images/wappen/tiny/11.png?lm=1489787850\" title=\"\\xa0\"/></a> </td>\\n<td class=\"hauptlink\">\\n<a class=\"vereinprofil_tooltip\" href=\"/fc-arsenal/startseite/verein/11\" id=\"11\">Arsenal</a> </td>\\n</tr>\\n<tr>\\n<td>\\n<img alt=\"England\" class=\"flaggenrahmen\" src=\"https://tmssl.akamaized.net//images/flagge/tiny/189.png?lm=1520611569\" title=\"England\"/> <a href=\"/premier-league/transfers/wettbewerb/GB1\" title=\"Premier League\">Premier League</a> </td>\\n</tr>\\n</table>\\n</td><td class=\"rechts hauptlink\"><a href=\"/jumplist/transfers/spieler/3188/transfer_id/5171\">\\xa315.75m</a></td></tr>\\n</tbody>\\n</table>\\n<div class=\"pager\"><ul class=\"yiiPager\" id=\"yw3\"><li class=\"erste-seite hidden\" title=\"Page \\xa0\\xa0\"><span>\\xa0\\xa0</span></li>\\n<li class=\"vorherige-seite hidden\" title=\"Page \\xa0\\xa0\"><span>\\xa0\\xa0</span></li>\\n<li class=\"page selected\" title=\"Page 1\"><a href=\"/transfers/transferrekorde/statistik/top/saison_id/2000/plus/0/galerie/0\">1</a></li>\\n<li class=\"page\" title=\"Page 2\"><a href=\"/transfers/transferrekorde/statistik/top/saison_id/2000/plus/0/galerie/0/page/2\">2</a></li>\\n<li class=\"page\" title=\"Page 3\"><a href=\"/transfers/transferrekorde/statistik/top/saison_id/2000/plus/0/galerie/0/page/3\">3</a></li>\\n<li class=\"page\" title=\"Page 4\"><a href=\"/transfers/transferrekorde/statistik/top/saison_id/2000/plus/0/galerie/0/page/4\">4</a></li>\\n<li class=\"page\" title=\"Page 5\"><a href=\"/transfers/transferrekorde/statistik/top/saison_id/2000/plus/0/galerie/0/page/5\">5</a></li>\\n<li class=\"page\" title=\"Page 6\"><a href=\"/transfers/transferrekorde/statistik/top/saison_id/2000/plus/0/galerie/0/page/6\">6</a></li>\\n<li class=\"page\" title=\"Page 7\"><a href=\"/transfers/transferrekorde/statistik/top/saison_id/2000/plus/0/galerie/0/page/7\">7</a></li>\\n<li class=\"page\" title=\"Page 8\"><a href=\"/transfers/transferrekorde/statistik/top/saison_id/2000/plus/0/galerie/0/page/8\">8</a></li>\\n<li class=\"page\" title=\"Page 9\"><a href=\"/transfers/transferrekorde/statistik/top/saison_id/2000/plus/0/galerie/0/page/9\">9</a></li>\\n<li class=\"page\" title=\"Page 10\"><a href=\"/transfers/transferrekorde/statistik/top/saison_id/2000/plus/0/galerie/0/page/10\">10</a></li>\\n<li class=\"naechste-seite\" title=\"Go to next page\"><a href=\"/transfers/transferrekorde/statistik/top/saison_id/2000/plus/0/galerie/0/page/2\">\\xa0\\xa0</a></li>\\n<li class=\"letzte-seite\" title=\"Go the last page (page 10)\"><a href=\"/transfers/transferrekorde/statistik/top/saison_id/2000/plus/0/galerie/0/page/10\">\\xa0\\xa0</a></li></ul></div><div class=\"keys\" style=\"display:none\" title=\"/transfers/transferrekorde/statistik/top/plus/0/galerie/0?saison_id=2000\"><span>3446</span><span>3410</span><span>3513</span><span>5959</span><span>3226</span><span>3235</span><span>7279</span><span>7896</span><span>4146</span><span>3418</span><span>3175</span><span>7599</span><span>8517</span><span>3411</span><span>5938</span><span>3499</span><span>3144</span><span>6194</span><span>5942</span><span>70</span><span>3081</span><span>3122</span><span>5826</span><span>7504</span><span>3188</span></div>\\n</div> </div>\\n</div>\\n</div>\\n<div class=\"large-4 columns\">\\n<!-- tisoomi check --><script type=\"text/javascript\">//OrJs9s8(\"rectangle1\")</script>\\n<div class=\"werbung werbung-rectangle1\">\\n<!-- DFPV2 -->\\n<div id=\"Rectangle1\">\\n<script>\\n\\t\\tgoogletag.cmd.push(function() { googletag.display('Rectangle1'); });\\n\\t</script>\\n</div>\\n</div>\\n<span class=\"OrJs9s8_end\"></span>\\n<div class=\"box\">\\n<div class=\"header\">\\n<h2>Latest rumours</h2>\\n</div>\\n<div class=\"statistik-widget-home-geruecht\">\\n<a href=\"/m-eggestein-to-borussia-dortmund-/thread/forum/180/thread_id/11839\" title=\"M. Eggestein to Borussia Dortmund?\">\\n<table>\\n<tbody>\\n<td style=\"width: 26px;\">\\n<div class=\"statistik-widget-home-geruecht-spieler\">\\n<img alt=\"Maximilian Eggestein\" class=\"bilderrahmen\" src=\"https://tmssl.akamaized.net//images/portrait/small/190284-1535123422.jpg?lm=1535123550\" title=\"Maximilian Eggestein\"/> </div>\\n</td>\\n<td style=\"max-width: 95px;\">\\n<div class=\"statistik-widget-home-geruecht-spieler-name\">\\n<span><a class=\"spielprofil_tooltip\" href=\"/maximilian-eggestein/profil/spieler/190284\" id=\"190284\" title=\"Maximilian Eggestein\">M. Eggestein</a></span>\\n<br>\\n<span class=\"fwn schriftfarbe_normal show-for-pad show-for-small\">CM</span>\\n<span class=\"fwn schriftfarbe_normal hide-for-pad hide-for-small\">Central Midfield</span>\\n</br></div>\\n</td></tbody></table></a></div>\\n</div></div></div></div></body></html>\\n<td style=\"width:22px;\">\\n<div class=\"statistik-widget-geruecht-pfeil\">\\n<span class=\"statistik-widget-home-geruecht-pfeil\">\\xa0</span>\\n</div>\\n</td>\\n<td style=\"width:50px;\">\\n<div class=\"statistik-widget-home-geruecht-club\">\\n<img alt=\"Borussia Dortmund\" class=\"\" src=\"https://tmssl.akamaized.net//images/wappen/profil/16.png?lm=1396275280\" title=\"\\xa0\"/> </div>\\n</td>\\n<td style=\"width:45px;\">\\n<div class=\"statistik-widget-home-geruecht-zahl\">?</div>\\n</td>\\n<td style=\"position:relative;width:22px;\">\\n</td>\\n\\n\\n\\n\\n<div class=\"statistik-widget-home-geruecht\">\\n<a href=\"/ui-jo-hwang-to-fenerbahce-sk-/thread/forum/180/thread_id/11838\" title=\"Ui-jo Hwang to Fenerbahce SK?\">\\n<table>\\n<tbody>\\n<td style=\"width: 26px;\">\\n<div class=\"statistik-widget-home-geruecht-spieler\">\\n<img alt=\"Ui-jo Hwang\" class=\"bilderrahmen\" src=\"https://tmssl.akamaized.net//bilder/mediumfotos/s_260166_3610_2013_03_23_1.jpg?lm=0\" title=\"Ui-jo Hwang\"/> </div>\\n</td>\\n<td style=\"max-width: 95px;\">\\n<div class=\"statistik-widget-home-geruecht-spieler-name\">\\n<span><a class=\"spielprofil_tooltip\" href=\"/ui-jo-hwang/profil/spieler/260166\" id=\"260166\" title=\"Ui-jo Hwang\">Ui-jo Hwang</a></span>\\n<br>\\n<span class=\"fwn schriftfarbe_normal show-for-pad show-for-small\">CF</span>\\n<span class=\"fwn schriftfarbe_normal hide-for-pad hide-for-small\">Centre-Forward</span>\\n</br></div>\\n</td></tbody></table></a></div>\\n\\n<td style=\"width:22px;\">\\n<div class=\"statistik-widget-geruecht-pfeil\">\\n<span class=\"statistik-widget-home-geruecht-pfeil\">\\xa0</span>\\n</div>\\n</td>\\n<td style=\"width:50px;\">\\n<div class=\"statistik-widget-home-geruecht-club\">\\n<img alt=\"Fenerbahce SK\" class=\"\" src=\"https://tmssl.akamaized.net//images/wappen/profil/36.png?lm=1406739123\" title=\"\\xa0\"/> </div>\\n</td>\\n<td style=\"width:45px;\">\\n<div class=\"statistik-widget-home-geruecht-zahl\">?</div>\\n</td>\\n<td style=\"position:relative;width:22px;\">\\n</td>\\n\\n\\n\\n\\n<div class=\"statistik-widget-home-geruecht\">\\n<a href=\"/eder-militao-to-real-madrid-/thread/forum/180/thread_id/11837\" title=\"\\xc9der Milit\\xe3o to Real Madrid?\">\\n<table>\\n<tbody>\\n<td style=\"width: 26px;\">\\n<div class=\"statistik-widget-home-geruecht-spieler\">\\n<img alt=\"\\xc9der Milit\\xe3o\" class=\"bilderrahmen\" src=\"https://tmssl.akamaized.net//images/portrait/small/401530-1542105687.png?lm=1542105698\" title=\"\\xc9der Milit\\xe3o\"/> </div>\\n</td>\\n<td style=\"max-width: 95px;\">\\n<div class=\"statistik-widget-home-geruecht-spieler-name\">\\n<span><a class=\"spielprofil_tooltip\" href=\"/eder-militao/profil/spieler/401530\" id=\"401530\" title=\"\\xc9der Milit\\xe3o\">\\xc9. Milit\\xe3o</a></span>\\n<br>\\n<span class=\"fwn schriftfarbe_normal show-for-pad show-for-small\">CB</span>\\n<span class=\"fwn schriftfarbe_normal hide-for-pad hide-for-small\">Centre-Back</span>\\n</br></div>\\n</td></tbody></table></a></div>\\n\\n<td style=\"width:22px;\">\\n<div class=\"statistik-widget-geruecht-pfeil\">\\n<span class=\"statistik-widget-home-geruecht-pfeil\">\\xa0</span>\\n</div>\\n</td>\\n<td style=\"width:50px;\">\\n<div class=\"statistik-widget-home-geruecht-club\">\\n<img alt=\"Real Madrid\" class=\"\" src=\"https://tmssl.akamaized.net//images/wappen/profil/418.png?lm=1403089383\" title=\"\\xa0\"/> </div>\\n</td>\\n<td style=\"width:45px;\">\\n<div class=\"statistik-widget-home-geruecht-zahl\">?</div>\\n</td>\\n<td style=\"position:relative;width:22px;\">\\n</td>\\n\\n\\n\\n\\n<div class=\"statistik-widget-home-geruecht\">\\n<a href=\"/s-gudbjargarson-to-ac-milan-/thread/forum/180/thread_id/11836\" title=\"S. Gudbjargarson to AC Milan?\">\\n<table>\\n<tbody>\\n<td style=\"width: 26px;\">\\n<div class=\"statistik-widget-home-geruecht-spieler\">\\n<img alt=\"S\\xf6lvi Snaer Gudbjargarson\" class=\"bilderrahmen\" src=\"https://tmssl.akamaized.net//images/portrait/small/default.jpg?lm=1455618221\" title=\"S\\xf6lvi Snaer Gudbjargarson\"/> </div>\\n</td>\\n<td style=\"max-width: 95px;\">\\n<div class=\"statistik-widget-home-geruecht-spieler-name\">\\n<span><a class=\"spielprofil_tooltip\" href=\"/solvi-snaer-gudbjargarson/profil/spieler/474466\" id=\"474466\" title=\"S\\xf6lvi Snaer Gudbjargarson\">S. Gudbjargarson</a></span>\\n<br>\\n<span class=\"fwn schriftfarbe_normal show-for-pad show-for-small\">DM</span>\\n<span class=\"fwn schriftfarbe_normal hide-for-pad hide-for-small\">Defensive Midfield</span>\\n</br></div>\\n</td></tbody></table></a></div>\\n\\n<td style=\"width:22px;\">\\n<div class=\"statistik-widget-geruecht-pfeil\">\\n<span class=\"statistik-widget-home-geruecht-pfeil\">\\xa0</span>\\n</div>\\n</td>\\n<td style=\"width:50px;\">\\n<div class=\"statistik-widget-home-geruecht-club\">\\n<img alt=\"AC Milan\" class=\"\" src=\"https://tmssl.akamaized.net//images/wappen/profil/5.png?lm=1438547172\" title=\"\\xa0\"/> </div>\\n</td>\\n<td style=\"width:45px;\">\\n<div class=\"statistik-widget-home-geruecht-zahl\">?</div>\\n</td>\\n<td style=\"position:relative;width:22px;\">\\n</td>\\n\\n\\n\\n\\n<div class=\"statistik-widget-home-geruecht\">\\n<a href=\"/s-gudbjargarson-to-ac-milan-/thread/forum/180/thread_id/11835\" title=\"S. Gudbjargarson to AC Milan?\">\\n<table>\\n<tbody>\\n<td style=\"width: 26px;\">\\n<div class=\"statistik-widget-home-geruecht-spieler\">\\n<img alt=\"S\\xf6lvi Snaer Gudbjargarson\" class=\"bilderrahmen\" src=\"https://tmssl.akamaized.net//images/portrait/small/default.jpg?lm=1455618221\" title=\"S\\xf6lvi Snaer Gudbjargarson\"/> </div>\\n</td>\\n<td style=\"max-width: 95px;\">\\n<div class=\"statistik-widget-home-geruecht-spieler-name\">\\n<span><a class=\"spielprofil_tooltip\" href=\"/solvi-snaer-gudbjargarson/profil/spieler/474466\" id=\"474466\" title=\"S\\xf6lvi Snaer Gudbjargarson\">S. Gudbjargarson</a></span>\\n<br>\\n<span class=\"fwn schriftfarbe_normal show-for-pad show-for-small\">DM</span>\\n<span class=\"fwn schriftfarbe_normal hide-for-pad hide-for-small\">Defensive Midfield</span>\\n</br></div>\\n</td></tbody></table></a></div>\\n\\n<td style=\"width:22px;\">\\n<div class=\"statistik-widget-geruecht-pfeil\">\\n<span class=\"statistik-widget-home-geruecht-pfeil\">\\xa0</span>\\n</div>\\n</td>\\n<td style=\"width:50px;\">\\n<div class=\"statistik-widget-home-geruecht-club\">\\n<img alt=\"AC Milan\" class=\"\" src=\"https://tmssl.akamaized.net//images/wappen/profil/5.png?lm=1438547172\" title=\"\\xa0\"/> </div>\\n</td>\\n<td style=\"width:45px;\">\\n<div class=\"statistik-widget-home-geruecht-zahl\">?</div>\\n</td>\\n<td style=\"position:relative;width:22px;\">\\n</td>\\n\\n\\n\\n\\n<div class=\"footer\" style=\"border-top:0;\">\\n<a href=\"/rumourmill/detail/forum/180\">Go to the rumour mill</a>\\n</div>\\n\\n<script type=\"text/javascript\">//OrJs9s8(\"rectangle2\")</script>\\n<div class=\"werbung werbung-rectangle2\">\\n<!-- DFPV2 -->\\n<div id=\"Rectangle2\">\\n<script>\\n\\t\\tgoogletag.cmd.push(function() { googletag.display('Rectangle2'); });\\n\\t</script>\\n</div>\\n</div>\\n<span class=\"OrJs9s8_end\"></span>\\n\\n\\n<div class=\"werbung werbung-fullsize_contentad\">\\n<!-- DFPV2 -->\\n<div id=\"BillboardFooter\">\\n<script>\\n\\t\\tgoogletag.cmd.push(function() { googletag.display('BillboardFooter'); });\\n\\t</script>\\n</div>\\n</div>\\n<!-- OEWA disabled -->\\n<div class=\"row large-12 columns small-12\" id=\"footer\">\\n<a class=\"footer-logo\" href=\"/\" name=\"Footer\"><img alt=\"Transfermarkt\" src=\"/images/logo.png\"/></a>\\n<a href=\"/intern/impressum\" name=\"Footer\">Legal notice</a>\\r\\n    |\\r\\n    <a href=\"/intern/datenschutz\" name=\"Footer\">Privacy</a>\\r\\n    |\\r\\n    <a href=\"/intern/anb\" name=\"Footer\">Terms of Use</a>\\r\\n    |\\r\\n    <a href=\"/intern/tmteam\" name=\"Footer\">TM Team</a>\\r\\n    |\\r\\n\\t    <a href=\"/intern/socialmedia\" name=\"Footer\">Social Media</a>\\r\\n\\t\\t    |\\r\\n\\r\\n    <a href=\"/intern/faq\" name=\"Footer\"> FAQ</a> |\\r\\n    <a href=\"/newsletter\" name=\"Footer\"> Newsletter</a>\\r\\n    |\\r\\n    <a href=\"/intern/fehlermelden\" name=\"Footer\">Send error report</a>\\n</div> <div id=\"menue_overlay\" style=\"display: none;\"></div>\\n\\n<!-- DFPV2 -->\\n<div id=\"Richmedia\">\\n<script>\\n\\t\\tgoogletag.cmd.push(function() { googletag.display('Richmedia'); });\\n\\t</script>\\n</div>\\n<!-- SZM VERSION=\"2.0\" -->\\n<script type=\"text/javascript\">\\n\\tvar iam_data = {\\n\"st\":\"transfer\",\\n\"cp\":\"ausland_co.uk_r\",\\n\"oc\":\"co-uk_other\",\\n\"mg\":\"yes\",\\n\"sv\":\"i2\",\\n\"sc\":\"yes\",\\n\"co\":\"\"\\n}\\niom.c(iam_data,1);\\n</script>\\n<!--/SZM -->\\n<script type=\"text/javascript\">\\n    liveTranslate = [\"Live match\", \"Live matches\"];\\n</script>\\n<script>\\n        $(document).on('ready ajaxSuccess', function () {\\n            $(document).foundation();\\n        });\\n    </script>\\n<script type=\"text/javascript\">\\n\\tif(typeof(adet) == \"boolean\" && adet == false){\\n\\t\\timg_src=\"/static/singlepictures/jk99hhfsdh209nbnkjldgh90sghfsdlk\";\\n\\t} else {\\n\\t\\timg_src=\"/static/singlepictures/jku90whjlkjbwbta1g4b8h89fh8sgh8d\";\\n\\t}\\n\\tvar elem = document.createElement(\"img\");\\n\\tdocument.body.appendChild(elem);\\n\\telem.src = img_src;\\n</script>\\n<script src=\"https://tmssl.akamaized.net//assets/b2a71a98/gridview/jquery.yiigridview.js?lm=1507094989\" type=\"text/javascript\"></script>\\n<script type=\"text/javascript\">\\n/*<![CDATA[*/\\n    $('a#hierbleiben').click(function() {\\n        var d = new Date();\\n        d.setTime(d.getTime() + (2*30*24*60*60*1000));\\n        var expires = \"expires=\"+d.toUTCString();\\n        document.cookie = \"_tmlpu\" + \"=\" + \"5\" + \"; \" + expires + \"; path=/\";\\n        $('#andereSprache').hide();\\n    } );\\n\\tfunction initCss() {\\n\\t\\t$('input:not(.cbox, .cbox2)').iCheck({\\n\\t\\t\\tcheckboxClass: 'icheckbox_square-blue',\\n\\t\\t\\tradioClass: 'iradio_square-blue',\\n\\t\\t});\\n\\t}\\n\\tvar aktuelleUrl = 'https://www.transfermarkt.co.uk/transfers/transferrekorde/statistik/top/saison_id/2000/plus/0/galerie/0'\\n\\tvar loginUrl='/profil/login?referrer=https%3A%2F%2Fwww.transfermarkt.co.uk%2Ftransfers%2Ftransferrekorde%2Fstatistik%2Ftop%2Fsaison_id%2F2000%2Fplus%2F0%2Fgalerie%2F0';\\n\\tvar notificationUrl='/notifications/liste';\\n\\tvar privateNachrichtenUrl = '/privateNachrichten/liste'\\n\\tvar favoritenUrl = '/favoriten/userFavoriten'\\n\\tvar favoritenHandleUrl = '/favoriten/handle'\\n\\tvar favoritEntfernenText = 'Remove favourites'\\n\\tvar favoritHinzufuegenText = 'Add to favourites'\\n\\tvar vereinUrl = '/verein/userbox';\\n\\tvar boxOpen = false;\\n\\tvar titleString='Transfer Records | Transfermarkt';\\n\\tvar naviController = 'statistik';\\n\\tvar naviAction = 'transferrekorde';\\n\\tvar naviPath = 'transfers/transferrekorde/statistik/top/plus/0/galerie/0';\\n\\tvar naviId = 'top';\\n\\tvar naviSaison = '2000';\\n\\tvar onlyDE = '';\\n\\tvar onlyMobile = '';\\n\\tvar onlyTablet = '';\\n\\tvar getUserID = '';\\n\\nfunction ReloadPixelImages(typ) {\\n\\tif(typeof ASCDP.adS.reloadAds == 'function' && typ != '') {\\n\\t\\tASCDP.adS.reloadAds()\\n        //sas_callAds();\\n    }\\n    if(typ == 'tabelle') {\\n\\t\\tvar iam_data = {\\n\"st\":\"transfer\",\\n\"cp\":\"ausland_co.uk_r_t\",\\n\"oc\":\"co-uk_other\",\\n\"mg\":\"yes\",\\n\"sc\":\"yes\",\\n\"sv\":\"i2\",\\n\"co\":\"\"\\n}\\niom.c(iam_data,1);\\n\\n\\t}else if(typ == 'reiter') {\\n\\t\\tvar iam_data = {\\n\"st\":\"transfer\",\\n\"cp\":\"ausland_co.uk_r_r\",\\n\"oc\":\"co-uk_other\",\\n\"mg\":\"yes\",\\n\"sv\":\"i2\",\\n\"sc\":\"yes\",\\n\"co\":\"\"\\n}\\niom.c(iam_data,1);\\n\\n\\t}else if(typ == 'forum') {\\n\\t\\tvar iam_data = {\\n\"st\":\"transfer\",\\n\"cp\":\"ausland_co.uk_r_forum\",\\n\"oc\":\"co-uk_other\",\\n\"mg\":\"yes\",\\n\"sv\":\"i2\",\\n\"sc\":\"yes\",\\n\"co\":\"\"\\n}\\niom.c(iam_data,1);\\n\\n\\t}else {\\n\\t\\tvar iam_data = {\\n\"st\":\"transfer\",\\n\"cp\":\"ausland_co.uk_r_s\",\\n\"oc\":\"co-uk_other\",\\n\"mg\":\"yes\",\\n\"sv\":\"i2\",\\n\"sc\":\"yes\",\\n\"co\":\"\"\\n}\\niom.c(iam_data,1);\\n\\n\\t}\\n\\t\\n\\t\\n\\tga('send','pageview',\"/jsContent\" + window.location.pathname);\\n}\\njQuery(function($) {\\njQuery('#yw2').yiiGridView({'ajaxUpdate':['yw2'],'ajaxVar':'ajax','pagerClass':'pager','loadingClass':'grid\\\\x2Dview\\\\x2Dloading','filterClass':'filters','tableClass':'items','selectableRows':1,'enableHistory':false,'updateSelector':'\\\\x7Bpage\\\\x7D,\\\\x20\\\\x7Bsort\\\\x7D','filterSelector':'\\\\x7Bfilter\\\\x7D','pageVar':'page'});\\njQuery('body').on('change','#land_select_breadcrumb',function(){jQuery.ajax({'type':'POST','url':'\\\\x2Fsite\\\\x2FDropDownWettbewerbe','data':{land_id:this.value},'success':function(html) {jQuery(\"#wettbewerb_select_breadcrumb\").html(html); jQuery(\"#wettbewerb_select_breadcrumb\").trigger(\"liszt:updated\");},'cache':false});return false;});\\njQuery('body').on('change','#wettbewerb_select_breadcrumb',function(){jQuery.ajax({'type':'POST','url':'\\\\x2Fsite\\\\x2FDropDownVereine','data':{wettbewerb_id:this.value},'success':function(html) {jQuery(\".breadcrumb-verein\").removeClass(\"disabled\"); jQuery(\"#verein_select_breadcrumb\").html(html); jQuery(\"#verein_select_breadcrumb\").trigger(\"liszt:updated\");},'cache':false});return false;});\\njQuery('body').on('change','#verein_select_breadcrumb',function(){jQuery.ajax({'type':'POST','url':'\\\\x2Fsite\\\\x2FDropDownSpieler','data':{verein_id:this.value},'success':function(html) {jQuery(\".breadcrumb-spieler\").removeClass(\"disabled\"); jQuery(\"#spieler_select_breadcrumb\").html(html); jQuery(\"#spieler_select_breadcrumb\").trigger(\"liszt:updated\");},'cache':false});return false;});\\n\\n          $(\".spielprofil_tooltip\").tooltipster({'position':'right','arrowColor':'white','delay':'100','speed':0,'contentAsHTML':true,'interactive':true,'content':'\\\\x0A\\\\x09\\\\x09\\\\x09\\\\x3Cimg\\\\x20src\\\\x3D\\\\x22https\\\\x3A\\\\x2F\\\\x2Ftmssl.akamaized.net\\\\x2Fimages\\\\x2Fspinner.gif\\\\x22\\\\x20style\\\\x3D\\\\x22vertical\\\\x2Dalign\\\\x3A\\\\x20middle\\\\x3B\\\\x22\\\\x20\\\\x2F\\\\x3E\\\\x0A\\\\x09\\\\x09','functionBefore':function(origin, continueTooltip) { continueTooltip(); id_array = origin.context.id.split(\"/\"); var spieler_id = id_array[0]; $.post( \"/spieler/_profilTooltip\", { spieler_id : spieler_id }, function(data) { if(data) { origin.tooltipster(\"update\", data); } }); }});\\n          \\n\\n          $(\".vereinprofil_tooltip\").tooltipster({'position':'right','arrowColor':'white','delay':'100','speed':0,'contentAsHTML':true,'interactive':true,'content':'\\\\x0A\\\\x09\\\\x09\\\\x09\\\\x3Cimg\\\\x20src\\\\x3D\\\\x22https\\\\x3A\\\\x2F\\\\x2Ftmssl.akamaized.net\\\\x2Fimages\\\\x2Fspinner.gif\\\\x22\\\\x20style\\\\x3D\\\\x22vertical\\\\x2Dalign\\\\x3A\\\\x20middle\\\\x3B\\\\x22\\\\x20\\\\x2F\\\\x3E\\\\x0A\\\\x09\\\\x09','functionBefore':function(origin, continueTooltip) { continueTooltip(); id_array = origin.context.id.split(\"/\"); var verein_id = id_array[0]; $.post( \"/verein/_profilTooltip\", { verein_id : verein_id }, function(data) { if(data) { origin.tooltipster(\"update\", data); } }); }});\\n          \\n});\\n/*]]>*/\\n</script>\\n<script type=\"text/javascript\">window.NREUM||(NREUM={});NREUM.info={\"beacon\":\"bam.nr-data.net\",\"licenseKey\":\"ffbc20d834\",\"applicationID\":\"4489554\",\"transactionName\":\"ZVVSbREEDUMEUEYPX1wfZUsKSgpeAVZKSEBaQA==\",\"queueTime\":0,\"applicationTime\":26,\"atts\":\"SRJRG1keHk0=\",\"errorBeacon\":\"bam.nr-data.net\",\"agent\":\"\"}</script>\\n\\n"
      ]
     },
     "execution_count": 5,
     "metadata": {},
     "output_type": "execute_result"
    }
   ],
   "source": [
    "pageSoup"
   ]
  },
  {
   "cell_type": "markdown",
   "metadata": {},
   "source": [
    "### we can now scrap transfer values data"
   ]
  },
  {
   "cell_type": "markdown",
   "metadata": {},
   "source": [
    "### the first parameter is tag, second is class - both can be found in the page source"
   ]
  },
  {
   "cell_type": "code",
   "execution_count": 6,
   "metadata": {
    "collapsed": true
   },
   "outputs": [],
   "source": [
    "Players = pageSoup.find_all('a'\n",
    "                            , {'class':'spielprofil_tooltip'}\n",
    "                           )\n",
    "Values = pageSoup.find_all('td'\n",
    "                           , {'class': 'rechts hauptlink'}\n",
    "                          )"
   ]
  },
  {
   "cell_type": "markdown",
   "metadata": {},
   "source": [
    "### now we can put them in a nice dataframe - in this case of players and their transfer values"
   ]
  },
  {
   "cell_type": "code",
   "execution_count": 11,
   "metadata": {},
   "outputs": [
    {
     "data": {
      "text/plain": [
       "25"
      ]
     },
     "execution_count": 11,
     "metadata": {},
     "output_type": "execute_result"
    }
   ],
   "source": [
    "len(Values)"
   ]
  },
  {
   "cell_type": "code",
   "execution_count": 12,
   "metadata": {},
   "outputs": [],
   "source": [
    "df_tf_values = pd.DataFrame()\n",
    "for i, value in enumerate(Values):\n",
    "    df_tf_values = df_tf_values.append({'Player': Players[i].text\n",
    "                                        , 'Value': value.text\n",
    "                                       }\n",
    "                                       , ignore_index=True\n",
    "                                       \n",
    "                                      )"
   ]
  },
  {
   "cell_type": "code",
   "execution_count": 13,
   "metadata": {
    "scrolled": true
   },
   "outputs": [
    {
     "data": {
      "text/html": [
       "<div>\n",
       "<style scoped>\n",
       "    .dataframe tbody tr th:only-of-type {\n",
       "        vertical-align: middle;\n",
       "    }\n",
       "\n",
       "    .dataframe tbody tr th {\n",
       "        vertical-align: top;\n",
       "    }\n",
       "\n",
       "    .dataframe thead th {\n",
       "        text-align: right;\n",
       "    }\n",
       "</style>\n",
       "<table border=\"1\" class=\"dataframe\">\n",
       "  <thead>\n",
       "    <tr style=\"text-align: right;\">\n",
       "      <th></th>\n",
       "      <th>Player</th>\n",
       "      <th>Value</th>\n",
       "    </tr>\n",
       "  </thead>\n",
       "  <tbody>\n",
       "    <tr>\n",
       "      <th>0</th>\n",
       "      <td>Luís Figo</td>\n",
       "      <td>£54.00m</td>\n",
       "    </tr>\n",
       "    <tr>\n",
       "      <th>1</th>\n",
       "      <td>Hernán Crespo</td>\n",
       "      <td>£51.13m</td>\n",
       "    </tr>\n",
       "    <tr>\n",
       "      <th>2</th>\n",
       "      <td>Marc Overmars</td>\n",
       "      <td>£36.00m</td>\n",
       "    </tr>\n",
       "    <tr>\n",
       "      <th>3</th>\n",
       "      <td>Gabriel Batistuta</td>\n",
       "      <td>£32.54m</td>\n",
       "    </tr>\n",
       "    <tr>\n",
       "      <th>4</th>\n",
       "      <td>Nicolas Anelka</td>\n",
       "      <td>£31.05m</td>\n",
       "    </tr>\n",
       "    <tr>\n",
       "      <th>5</th>\n",
       "      <td>Rio Ferdinand</td>\n",
       "      <td>£23.40m</td>\n",
       "    </tr>\n",
       "    <tr>\n",
       "      <th>6</th>\n",
       "      <td>Flávio Conceicao</td>\n",
       "      <td>£22.50m</td>\n",
       "    </tr>\n",
       "    <tr>\n",
       "      <th>7</th>\n",
       "      <td>Savo Milosevic</td>\n",
       "      <td>£22.50m</td>\n",
       "    </tr>\n",
       "    <tr>\n",
       "      <th>8</th>\n",
       "      <td>David Trézéguet</td>\n",
       "      <td>£20.92m</td>\n",
       "    </tr>\n",
       "    <tr>\n",
       "      <th>9</th>\n",
       "      <td>Claudio López</td>\n",
       "      <td>£20.70m</td>\n",
       "    </tr>\n",
       "    <tr>\n",
       "      <th>10</th>\n",
       "      <td>Jimmy Floyd Hasselbaink</td>\n",
       "      <td>£20.25m</td>\n",
       "    </tr>\n",
       "    <tr>\n",
       "      <th>11</th>\n",
       "      <td>Gerard López</td>\n",
       "      <td>£19.44m</td>\n",
       "    </tr>\n",
       "    <tr>\n",
       "      <th>12</th>\n",
       "      <td>Lucas</td>\n",
       "      <td>£19.17m</td>\n",
       "    </tr>\n",
       "    <tr>\n",
       "      <th>13</th>\n",
       "      <td>Pablo Aimar</td>\n",
       "      <td>£19.13m</td>\n",
       "    </tr>\n",
       "    <tr>\n",
       "      <th>14</th>\n",
       "      <td>Wálter Samuel</td>\n",
       "      <td>£18.72m</td>\n",
       "    </tr>\n",
       "    <tr>\n",
       "      <th>15</th>\n",
       "      <td>Shabani Nonda</td>\n",
       "      <td>£18.00m</td>\n",
       "    </tr>\n",
       "    <tr>\n",
       "      <th>16</th>\n",
       "      <td>Robbie Keane</td>\n",
       "      <td>£17.55m</td>\n",
       "    </tr>\n",
       "    <tr>\n",
       "      <th>17</th>\n",
       "      <td>José Mari</td>\n",
       "      <td>£17.10m</td>\n",
       "    </tr>\n",
       "    <tr>\n",
       "      <th>18</th>\n",
       "      <td>Jonathan Zebina</td>\n",
       "      <td>£16.56m</td>\n",
       "    </tr>\n",
       "    <tr>\n",
       "      <th>19</th>\n",
       "      <td>Émerson</td>\n",
       "      <td>£16.20m</td>\n",
       "    </tr>\n",
       "    <tr>\n",
       "      <th>20</th>\n",
       "      <td>Tore André Flo</td>\n",
       "      <td>£16.20m</td>\n",
       "    </tr>\n",
       "    <tr>\n",
       "      <th>21</th>\n",
       "      <td>Serhii Rebrov</td>\n",
       "      <td>£16.20m</td>\n",
       "    </tr>\n",
       "    <tr>\n",
       "      <th>22</th>\n",
       "      <td>Angelo Peruzzi</td>\n",
       "      <td>£16.11m</td>\n",
       "    </tr>\n",
       "    <tr>\n",
       "      <th>23</th>\n",
       "      <td>Diego Tristán</td>\n",
       "      <td>£15.98m</td>\n",
       "    </tr>\n",
       "    <tr>\n",
       "      <th>24</th>\n",
       "      <td>Sylvain Wiltord</td>\n",
       "      <td>£15.75m</td>\n",
       "    </tr>\n",
       "  </tbody>\n",
       "</table>\n",
       "</div>"
      ],
      "text/plain": [
       "                     Player    Value\n",
       "0                 Luís Figo  £54.00m\n",
       "1             Hernán Crespo  £51.13m\n",
       "2             Marc Overmars  £36.00m\n",
       "3         Gabriel Batistuta  £32.54m\n",
       "4            Nicolas Anelka  £31.05m\n",
       "5             Rio Ferdinand  £23.40m\n",
       "6          Flávio Conceicao  £22.50m\n",
       "7            Savo Milosevic  £22.50m\n",
       "8           David Trézéguet  £20.92m\n",
       "9             Claudio López  £20.70m\n",
       "10  Jimmy Floyd Hasselbaink  £20.25m\n",
       "11             Gerard López  £19.44m\n",
       "12                    Lucas  £19.17m\n",
       "13              Pablo Aimar  £19.13m\n",
       "14            Wálter Samuel  £18.72m\n",
       "15            Shabani Nonda  £18.00m\n",
       "16             Robbie Keane  £17.55m\n",
       "17                José Mari  £17.10m\n",
       "18          Jonathan Zebina  £16.56m\n",
       "19                  Émerson  £16.20m\n",
       "20           Tore André Flo  £16.20m\n",
       "21            Serhii Rebrov  £16.20m\n",
       "22           Angelo Peruzzi  £16.11m\n",
       "23            Diego Tristán  £15.98m\n",
       "24          Sylvain Wiltord  £15.75m"
      ]
     },
     "execution_count": 13,
     "metadata": {},
     "output_type": "execute_result"
    }
   ],
   "source": [
    "df_tf_values"
   ]
  },
  {
   "cell_type": "code",
   "execution_count": 14,
   "metadata": {
    "scrolled": true
   },
   "outputs": [
    {
     "name": "stdout",
     "output_type": "stream",
     "text": [
      "(0, u'Lu\\xeds Figo')\n",
      "(1, u'Hern\\xe1n Crespo')\n",
      "(2, u'Marc Overmars')\n",
      "(3, u'Gabriel Batistuta')\n",
      "(4, u'Nicolas Anelka')\n",
      "(5, u'Rio Ferdinand')\n",
      "(6, u'Fl\\xe1vio Conceicao')\n",
      "(7, u'Savo Milosevic')\n",
      "(8, u'David Tr\\xe9z\\xe9guet')\n",
      "(9, u'Claudio L\\xf3pez')\n",
      "(10, u'Jimmy Floyd Hasselbaink')\n",
      "(11, u'Gerard L\\xf3pez')\n",
      "(12, u'Lucas')\n",
      "(13, u'Pablo Aimar')\n",
      "(14, u'W\\xe1lter Samuel')\n",
      "(15, u'Shabani Nonda')\n",
      "(16, u'Robbie Keane')\n",
      "(17, u'Jos\\xe9 Mari')\n",
      "(18, u'Jonathan Zebina')\n",
      "(19, u'\\xc9merson')\n",
      "(20, u'Tore Andr\\xe9 Flo')\n",
      "(21, u'Serhii Rebrov')\n",
      "(22, u'Angelo Peruzzi')\n",
      "(23, u'Diego Trist\\xe1n')\n",
      "(24, u'Sylvain Wiltord')\n",
      "(25, u'M. Eggestein')\n",
      "(26, u'Ui-jo Hwang')\n",
      "(27, u'\\xc9. Milit\\xe3o')\n",
      "(28, u'S. Gudbjargarson')\n",
      "(29, u'S. Gudbjargarson')\n"
     ]
    }
   ],
   "source": [
    "for i, player in enumerate(Players):\n",
    "    print(i, player.text)"
   ]
  },
  {
   "cell_type": "markdown",
   "metadata": {},
   "source": [
    "### for some reason, Players has more entries than Values"
   ]
  },
  {
   "cell_type": "markdown",
   "metadata": {},
   "source": [
    "### it's right, the last 3 entries in Players are gibberish"
   ]
  },
  {
   "cell_type": "markdown",
   "metadata": {},
   "source": [
    "## Now, let's try scraping transfer values data from a more recent season, and try to loop over all the search results pages"
   ]
  },
  {
   "cell_type": "code",
   "execution_count": null,
   "metadata": {
    "collapsed": true
   },
   "outputs": [],
   "source": [
    "page = 'https://www.transfermarkt.co.uk/transfers/transferrekorde/statistik?saison_id=2018"
   ]
  },
  {
   "cell_type": "markdown",
   "metadata": {},
   "source": [
    "### apparently we can add '&page=n' where n is the index of search page and we're good"
   ]
  },
  {
   "cell_type": "markdown",
   "metadata": {},
   "source": [
    "### also we can change which season we're looking at by edit the parameter 'saison_id'"
   ]
  },
  {
   "cell_type": "code",
   "execution_count": 8,
   "metadata": {},
   "outputs": [
    {
     "data": {
      "text/plain": [
       "'helloworld'"
      ]
     },
     "execution_count": 8,
     "metadata": {},
     "output_type": "execute_result"
    }
   ],
   "source": [
    "''.join(['hello','world'])"
   ]
  },
  {
   "cell_type": "code",
   "execution_count": 12,
   "metadata": {
    "scrolled": true
   },
   "outputs": [
    {
     "name": "stdout",
     "output_type": "stream",
     "text": [
      "('Loading season', '2008-2009')\n",
      "('Loading page', 1)\n",
      "('Loading page', 2)\n",
      "('Loading page', 3)\n",
      "('Loading page', 4)\n",
      "('Loading page', 5)\n",
      "('Loading page', 6)\n",
      "('Loading page', 7)\n",
      "('Loading page', 8)\n",
      "('Loading page', 9)\n",
      "('Loading page', 10)\n",
      "('Loading season', '2009-2010')\n",
      "('Loading page', 1)\n",
      "('Loading page', 2)\n",
      "('Loading page', 3)\n",
      "('Loading page', 4)\n",
      "('Loading page', 5)\n",
      "('Loading page', 6)\n",
      "('Loading page', 7)\n",
      "('Loading page', 8)\n",
      "('Loading page', 9)\n",
      "('Loading page', 10)\n",
      "('Loading season', '2010-2011')\n",
      "('Loading page', 1)\n",
      "('Loading page', 2)\n",
      "('Loading page', 3)\n",
      "('Loading page', 4)\n",
      "('Loading page', 5)\n",
      "('Loading page', 6)\n",
      "('Loading page', 7)\n",
      "('Loading page', 8)\n",
      "('Loading page', 9)\n",
      "('Loading page', 10)\n",
      "('Loading season', '2011-2012')\n",
      "('Loading page', 1)\n",
      "('Loading page', 2)\n",
      "('Loading page', 3)\n",
      "('Loading page', 4)\n",
      "('Loading page', 5)\n",
      "('Loading page', 6)\n",
      "('Loading page', 7)\n",
      "('Loading page', 8)\n",
      "('Loading page', 9)\n",
      "('Loading page', 10)\n",
      "('Loading season', '2012-2013')\n",
      "('Loading page', 1)\n",
      "('Loading page', 2)\n",
      "('Loading page', 3)\n",
      "('Loading page', 4)\n",
      "('Loading page', 5)\n",
      "('Loading page', 6)\n",
      "('Loading page', 7)\n",
      "('Loading page', 8)\n",
      "('Loading page', 9)\n",
      "('Loading page', 10)\n",
      "('Loading season', '2013-2014')\n",
      "('Loading page', 1)\n",
      "('Loading page', 2)\n",
      "('Loading page', 3)\n",
      "('Loading page', 4)\n",
      "('Loading page', 5)\n",
      "('Loading page', 6)\n",
      "('Loading page', 7)\n",
      "('Loading page', 8)\n",
      "('Loading page', 9)\n",
      "('Loading page', 10)\n",
      "('Loading season', '2014-2015')\n",
      "('Loading page', 1)\n",
      "('Loading page', 2)\n",
      "('Loading page', 3)\n",
      "('Loading page', 4)\n",
      "('Loading page', 5)\n",
      "('Loading page', 6)\n",
      "('Loading page', 7)\n",
      "('Loading page', 8)\n",
      "('Loading page', 9)\n",
      "('Loading page', 10)\n",
      "('Loading season', '2015-2016')\n",
      "('Loading page', 1)\n",
      "('Loading page', 2)\n",
      "('Loading page', 3)\n",
      "('Loading page', 4)\n",
      "('Loading page', 5)\n",
      "('Loading page', 6)\n",
      "('Loading page', 7)\n",
      "('Loading page', 8)\n",
      "('Loading page', 9)\n",
      "('Loading page', 10)\n",
      "('Loading season', '2016-2017')\n",
      "('Loading page', 1)\n",
      "('Loading page', 2)\n",
      "('Loading page', 3)\n",
      "('Loading page', 4)\n",
      "('Loading page', 5)\n",
      "('Loading page', 6)\n",
      "('Loading page', 7)\n",
      "('Loading page', 8)\n",
      "('Loading page', 9)\n",
      "('Loading page', 10)\n",
      "('Loading season', '2017-2018')\n",
      "('Loading page', 1)\n",
      "('Loading page', 2)\n",
      "('Loading page', 3)\n",
      "('Loading page', 4)\n",
      "('Loading page', 5)\n",
      "('Loading page', 6)\n",
      "('Loading page', 7)\n",
      "('Loading page', 8)\n",
      "('Loading page', 9)\n",
      "('Loading page', 10)\n",
      "('Loading season', '2018-2019')\n",
      "('Loading page', 1)\n",
      "('Loading page', 2)\n",
      "('Loading page', 3)\n",
      "('Loading page', 4)\n",
      "('Loading page', 5)\n",
      "('Loading page', 6)\n",
      "('Loading page', 7)\n",
      "('Loading page', 8)\n",
      "('Loading page', 9)\n",
      "('Loading page', 10)\n",
      "('Time elapsed:', datetime.timedelta(0, 221, 876000))\n"
     ]
    },
    {
     "data": {
      "text/html": [
       "<div>\n",
       "<style scoped>\n",
       "    .dataframe tbody tr th:only-of-type {\n",
       "        vertical-align: middle;\n",
       "    }\n",
       "\n",
       "    .dataframe tbody tr th {\n",
       "        vertical-align: top;\n",
       "    }\n",
       "\n",
       "    .dataframe thead th {\n",
       "        text-align: right;\n",
       "    }\n",
       "</style>\n",
       "<table border=\"1\" class=\"dataframe\">\n",
       "  <thead>\n",
       "    <tr style=\"text-align: right;\">\n",
       "      <th></th>\n",
       "      <th>Player</th>\n",
       "      <th>Season</th>\n",
       "      <th>Value</th>\n",
       "    </tr>\n",
       "  </thead>\n",
       "  <tbody>\n",
       "    <tr>\n",
       "      <th>0</th>\n",
       "      <td>Robinho</td>\n",
       "      <td>2008.0</td>\n",
       "      <td>£38.70m</td>\n",
       "    </tr>\n",
       "    <tr>\n",
       "      <th>1</th>\n",
       "      <td>Dimitar Berbatov</td>\n",
       "      <td>2008.0</td>\n",
       "      <td>£34.20m</td>\n",
       "    </tr>\n",
       "    <tr>\n",
       "      <th>2</th>\n",
       "      <td>Dani Alves</td>\n",
       "      <td>2008.0</td>\n",
       "      <td>£31.95m</td>\n",
       "    </tr>\n",
       "    <tr>\n",
       "      <th>3</th>\n",
       "      <td>Danny</td>\n",
       "      <td>2008.0</td>\n",
       "      <td>£27.00m</td>\n",
       "    </tr>\n",
       "    <tr>\n",
       "      <th>4</th>\n",
       "      <td>Klaas-Jan Huntelaar</td>\n",
       "      <td>2008.0</td>\n",
       "      <td>£24.30m</td>\n",
       "    </tr>\n",
       "  </tbody>\n",
       "</table>\n",
       "</div>"
      ],
      "text/plain": [
       "                Player  Season    Value\n",
       "0              Robinho  2008.0  £38.70m\n",
       "1     Dimitar Berbatov  2008.0  £34.20m\n",
       "2           Dani Alves  2008.0  £31.95m\n",
       "3                Danny  2008.0  £27.00m\n",
       "4  Klaas-Jan Huntelaar  2008.0  £24.30m"
      ]
     },
     "execution_count": 12,
     "metadata": {},
     "output_type": "execute_result"
    }
   ],
   "source": [
    "process_start = datetime.now()\n",
    "\n",
    "df_TransferValues = pd.DataFrame()\n",
    "seasons = np.arange(2008,2019)\n",
    "search_number = np.arange(1,11)\n",
    "for season in seasons:\n",
    "    print('Loading season', '-'.join([str(season), str(season+1)]))\n",
    "    for i in range(1,11):\n",
    "        print('Loading page',i)\n",
    "        page_core = 'https://www.transfermarkt.co.uk/transfers/transferrekorde/statistik?'\n",
    "        page_season = 'saison_id=' + str(season)\n",
    "        page_number = '&page=' + str(i)\n",
    "\n",
    "        page = ''.join([page_core, page_season, page_number])\n",
    "        pageTree = requests.get(page, headers=headers)\n",
    "        pageSoup = BeautifulSoup(pageTree.content, 'html.parser')\n",
    "\n",
    "        Players = pageSoup.find_all('a'\n",
    "                                    , {'class':'spielprofil_tooltip'}\n",
    "                                   )\n",
    "        Values = pageSoup.find_all('td'\n",
    "                                   , {'class': 'rechts hauptlink'}\n",
    "                                  )\n",
    "        for i, value in enumerate(Values):\n",
    "            player = Players[i].text\n",
    "            value = value.text\n",
    "            \n",
    "            df_TransferValues = df_TransferValues.append({'Player':player\n",
    "                                                         , 'Value': value\n",
    "                                                         , 'Season': season\n",
    "                                                         }\n",
    "                                                         , ignore_index=True\n",
    "                                                        )\n",
    "\n",
    "print('Time elapsed:', datetime.now() - process_start)\n",
    "df_TransferValues.head()"
   ]
  },
  {
   "cell_type": "markdown",
   "metadata": {},
   "source": [
    "### We've successfully downloaded transfer values of players from the last 10 seasons. But there are in fact more information we can get e.g. age, market value at the time of transfer, where was the player transfered from and to, position, nationality etc. Let's see if we can crawl that data as well"
   ]
  },
  {
   "cell_type": "code",
   "execution_count": 34,
   "metadata": {},
   "outputs": [
    {
     "data": {
      "text/plain": [
       "'&page=10'"
      ]
     },
     "execution_count": 34,
     "metadata": {},
     "output_type": "execute_result"
    }
   ],
   "source": [
    "page_number"
   ]
  },
  {
   "cell_type": "code",
   "execution_count": 168,
   "metadata": {},
   "outputs": [],
   "source": [
    "page = ''.join([page_core, page_season, page_number.replace('0','')])\n",
    "pageTree = requests.get(page, headers=headers)\n",
    "pageSoup = BeautifulSoup(pageTree.content, 'html.parser')\n",
    "#pageSoup = BeautifulSoup(pageTree.content, 'lxml')"
   ]
  },
  {
   "cell_type": "code",
   "execution_count": 169,
   "metadata": {
    "collapsed": true
   },
   "outputs": [],
   "source": [
    "Players = pageSoup.find_all('a'\n",
    "                            , {'class':'spielprofil_tooltip'}\n",
    "                           )\n",
    "Fees = pageSoup.find_all('td'\n",
    "                           , {'class': 'rechts hauptlink'}\n",
    "                          )\n",
    "Values = pageSoup.find_all('td'\n",
    "                    , {'class':'rechts'}\n",
    "                   )\n",
    "Destination = pageSoup.find_all('a', {'class':'vereinprofil_tooltip'})"
   ]
  },
  {
   "cell_type": "code",
   "execution_count": 173,
   "metadata": {},
   "outputs": [
    {
     "data": {
      "text/plain": [
       "25"
      ]
     },
     "execution_count": 173,
     "metadata": {},
     "output_type": "execute_result"
    }
   ],
   "source": [
    "len(Values)"
   ]
  },
  {
   "cell_type": "markdown",
   "metadata": {},
   "source": [
    "### so far we managed to obtain player destination. As for the departure clubs or player value at the time of transfer, somehow they elude me still :/ . We'll come back later, perhaps with Scrapy"
   ]
  },
  {
   "cell_type": "markdown",
   "metadata": {},
   "source": [
    "### for now, we're content with fees and destination clubs. Let's modify the code slightly"
   ]
  },
  {
   "cell_type": "code",
   "execution_count": 13,
   "metadata": {
    "scrolled": true
   },
   "outputs": [
    {
     "name": "stdout",
     "output_type": "stream",
     "text": [
      "Loading season 2008-2009\n",
      "Loading season 2009-2010\n",
      "Loading season 2010-2011\n",
      "Loading season 2011-2012\n",
      "Loading season 2012-2013\n",
      "Loading season 2013-2014\n",
      "Loading season 2014-2015\n",
      "Loading season 2015-2016\n",
      "Loading season 2016-2017\n",
      "Loading season 2017-2018\n",
      "Loading season 2018-2019\n",
      "Time elapsed: 0:03:01.824753\n"
     ]
    },
    {
     "data": {
      "text/html": [
       "<div>\n",
       "<style>\n",
       "    .dataframe thead tr:only-child th {\n",
       "        text-align: right;\n",
       "    }\n",
       "\n",
       "    .dataframe thead th {\n",
       "        text-align: left;\n",
       "    }\n",
       "\n",
       "    .dataframe tbody tr th {\n",
       "        vertical-align: top;\n",
       "    }\n",
       "</style>\n",
       "<table border=\"1\" class=\"dataframe\">\n",
       "  <thead>\n",
       "    <tr style=\"text-align: right;\">\n",
       "      <th></th>\n",
       "      <th>Destination</th>\n",
       "      <th>Player</th>\n",
       "      <th>Season</th>\n",
       "      <th>TransferFees</th>\n",
       "    </tr>\n",
       "  </thead>\n",
       "  <tbody>\n",
       "    <tr>\n",
       "      <th>0</th>\n",
       "      <td>Man City</td>\n",
       "      <td>Robinho</td>\n",
       "      <td>2008-2009</td>\n",
       "      <td>£38.70m</td>\n",
       "    </tr>\n",
       "    <tr>\n",
       "      <th>1</th>\n",
       "      <td>Man Utd</td>\n",
       "      <td>Dimitar Berbatov</td>\n",
       "      <td>2008-2009</td>\n",
       "      <td>£34.20m</td>\n",
       "    </tr>\n",
       "    <tr>\n",
       "      <th>2</th>\n",
       "      <td>FC Barcelona</td>\n",
       "      <td>Dani Alves</td>\n",
       "      <td>2008-2009</td>\n",
       "      <td>£31.95m</td>\n",
       "    </tr>\n",
       "    <tr>\n",
       "      <th>3</th>\n",
       "      <td>Zenit S-Pb</td>\n",
       "      <td>Danny</td>\n",
       "      <td>2008-2009</td>\n",
       "      <td>£27.00m</td>\n",
       "    </tr>\n",
       "    <tr>\n",
       "      <th>4</th>\n",
       "      <td>Real Madrid</td>\n",
       "      <td>Klaas-Jan Huntelaar</td>\n",
       "      <td>2008-2009</td>\n",
       "      <td>£24.30m</td>\n",
       "    </tr>\n",
       "  </tbody>\n",
       "</table>\n",
       "</div>"
      ],
      "text/plain": [
       "    Destination               Player     Season TransferFees\n",
       "0      Man City              Robinho  2008-2009      £38.70m\n",
       "1       Man Utd     Dimitar Berbatov  2008-2009      £34.20m\n",
       "2  FC Barcelona           Dani Alves  2008-2009      £31.95m\n",
       "3    Zenit S-Pb                Danny  2008-2009      £27.00m\n",
       "4   Real Madrid  Klaas-Jan Huntelaar  2008-2009      £24.30m"
      ]
     },
     "execution_count": 13,
     "metadata": {},
     "output_type": "execute_result"
    }
   ],
   "source": [
    "process_start = datetime.now()\n",
    "\n",
    "df_TransferValues = pd.DataFrame()\n",
    "seasons = np.arange(2008,2019)\n",
    "search_number = np.arange(1,21)\n",
    "for season in seasons:\n",
    "    current_season = '-'.join([str(season), str(season+1)])\n",
    "    print('Loading season', '-'.join([str(season), str(season+1)]))\n",
    "    for i in range(1,11):\n",
    "        #print('Loading page',i)\n",
    "        page_core = 'https://www.transfermarkt.co.uk/transfers/transferrekorde/statistik?'\n",
    "        page_season = 'saison_id=' + str(season)\n",
    "        page_number = '&page=' + str(i)\n",
    "\n",
    "        page = ''.join([page_core, page_season, page_number])\n",
    "        pageTree = requests.get(page, headers=headers)\n",
    "        pageSoup = BeautifulSoup(pageTree.content, 'html.parser')\n",
    "\n",
    "        Players = pageSoup.find_all('a'\n",
    "                                    , {'class':'spielprofil_tooltip'}\n",
    "                                   )\n",
    "        Fees = pageSoup.find_all('td'\n",
    "                                   , {'class': 'rechts hauptlink'}\n",
    "                                  )\n",
    "        Values = pageSoup.find_all('td'\n",
    "                    , {'class':'rechts'}\n",
    "                   )\n",
    "        Destination = pageSoup.find_all('a', {'class':'vereinprofil_tooltip'})\n",
    "        \n",
    "        for i, fee in enumerate(Fees):\n",
    "            player = Players[i].text\n",
    "            fee = fee.text\n",
    "            value = Values[i].text\n",
    "            destination = Destination[2*i+1].text\n",
    "            if (destination == ''):\n",
    "                #print(destination)\n",
    "                print( 'Player ' + player + ' has no destination in page ' + str(i) + '??')\n",
    "            \n",
    "            df_TransferValues = df_TransferValues.append({'Player': player\n",
    "                                                         , 'TransferFees': fee\n",
    "                                                         #, 'Transfer Value': value\n",
    "                                                         , 'Destination': destination\n",
    "                                                         , 'Season': current_season\n",
    "                                                         }\n",
    "                                                         , ignore_index=True\n",
    "                                                        )\n",
    "\n",
    "print('Time elapsed:', datetime.now() - process_start)\n",
    "df_TransferValues.head()"
   ]
  },
  {
   "cell_type": "markdown",
   "metadata": {},
   "source": [
    "### We have successfully extracted the data. Still we have to perform some preprocessing first before any analysis"
   ]
  },
  {
   "cell_type": "code",
   "execution_count": 16,
   "metadata": {},
   "outputs": [
    {
     "data": {
      "text/plain": [
       "(2750, 4)"
      ]
     },
     "execution_count": 16,
     "metadata": {},
     "output_type": "execute_result"
    }
   ],
   "source": [
    "df_TransferValues.shape"
   ]
  },
  {
   "cell_type": "markdown",
   "metadata": {},
   "source": [
    "#### We note that the column fees and values are still strings, we'll convert these into numbers. "
   ]
  },
  {
   "cell_type": "markdown",
   "metadata": {},
   "source": [
    "#### I figure the fees are in format £...m so I would extract the number value accordingly. I would've used regular expression but memory doesn't serve me well on that at the moment."
   ]
  },
  {
   "cell_type": "code",
   "execution_count": 5,
   "metadata": {
    "collapsed": true
   },
   "outputs": [],
   "source": [
    "def get_money_value(value):\n",
    "    value = value.split('£')[-1]\n",
    "    value = value[:-1].split('.')\n",
    "    value = np.int(value[0]) + np.int(value[1])/100.\n",
    "    value = value * 10 ** 6\n",
    "    return value"
   ]
  },
  {
   "cell_type": "code",
   "execution_count": 15,
   "metadata": {
    "scrolled": true
   },
   "outputs": [
    {
     "data": {
      "text/html": [
       "<div>\n",
       "<style>\n",
       "    .dataframe thead tr:only-child th {\n",
       "        text-align: right;\n",
       "    }\n",
       "\n",
       "    .dataframe thead th {\n",
       "        text-align: left;\n",
       "    }\n",
       "\n",
       "    .dataframe tbody tr th {\n",
       "        vertical-align: top;\n",
       "    }\n",
       "</style>\n",
       "<table border=\"1\" class=\"dataframe\">\n",
       "  <thead>\n",
       "    <tr style=\"text-align: right;\">\n",
       "      <th></th>\n",
       "      <th>Destination</th>\n",
       "      <th>Player</th>\n",
       "      <th>Season</th>\n",
       "      <th>TransferFees</th>\n",
       "    </tr>\n",
       "  </thead>\n",
       "  <tbody>\n",
       "    <tr>\n",
       "      <th>396</th>\n",
       "      <td>Dnipro</td>\n",
       "      <td>Nery Castillo</td>\n",
       "      <td>2009-2010</td>\n",
       "      <td>Loan fee:£4.50m</td>\n",
       "    </tr>\n",
       "    <tr>\n",
       "      <th>608</th>\n",
       "      <td>AC Milan</td>\n",
       "      <td>Zlatan Ibrahimovic</td>\n",
       "      <td>2010-2011</td>\n",
       "      <td>Loan fee:£5.40m</td>\n",
       "    </tr>\n",
       "    <tr>\n",
       "      <th>636</th>\n",
       "      <td>SSC Napoli</td>\n",
       "      <td>Edinson Cavani</td>\n",
       "      <td>2010-2011</td>\n",
       "      <td>Loan fee:£4.50m</td>\n",
       "    </tr>\n",
       "    <tr>\n",
       "      <th>658</th>\n",
       "      <td>Juventus</td>\n",
       "      <td>Fabio Quagliarella</td>\n",
       "      <td>2010-2011</td>\n",
       "      <td>Loan fee:£4.05m</td>\n",
       "    </tr>\n",
       "    <tr>\n",
       "      <th>682</th>\n",
       "      <td>Real Madrid</td>\n",
       "      <td>Emmanuel Adebayor</td>\n",
       "      <td>2010-2011</td>\n",
       "      <td>Loan fee:£3.60m</td>\n",
       "    </tr>\n",
       "    <tr>\n",
       "      <th>748</th>\n",
       "      <td>AC Milan</td>\n",
       "      <td>Kevin-Prince Boateng</td>\n",
       "      <td>2010-2011</td>\n",
       "      <td>Loan fee:£2.70m</td>\n",
       "    </tr>\n",
       "    <tr>\n",
       "      <th>864</th>\n",
       "      <td>Al-Ain FC</td>\n",
       "      <td>Asamoah Gyan</td>\n",
       "      <td>2011-2012</td>\n",
       "      <td>Loan fee:£6.30m</td>\n",
       "    </tr>\n",
       "    <tr>\n",
       "      <th>1052</th>\n",
       "      <td>AS Roma</td>\n",
       "      <td>Mattia Destro</td>\n",
       "      <td>2012-2013</td>\n",
       "      <td>Loan fee:£10.35m</td>\n",
       "    </tr>\n",
       "    <tr>\n",
       "      <th>1151</th>\n",
       "      <td>Liverpool</td>\n",
       "      <td>Nuri Sahin</td>\n",
       "      <td>2012-2013</td>\n",
       "      <td>Loan fee:£4.50m</td>\n",
       "    </tr>\n",
       "    <tr>\n",
       "      <th>1615</th>\n",
       "      <td>Man Utd</td>\n",
       "      <td>Falcao</td>\n",
       "      <td>2014-2015</td>\n",
       "      <td>Loan fee:£6.84m</td>\n",
       "    </tr>\n",
       "    <tr>\n",
       "      <th>1637</th>\n",
       "      <td>VfL Wolfsburg</td>\n",
       "      <td>Josuha Guilavogui</td>\n",
       "      <td>2014-2015</td>\n",
       "      <td>Loan fee:£6.12m</td>\n",
       "    </tr>\n",
       "    <tr>\n",
       "      <th>1720</th>\n",
       "      <td>AS Roma</td>\n",
       "      <td>Salih Ucan</td>\n",
       "      <td>2014-2015</td>\n",
       "      <td>Loan fee:£4.28m</td>\n",
       "    </tr>\n",
       "    <tr>\n",
       "      <th>1942</th>\n",
       "      <td>Chelsea</td>\n",
       "      <td>Falcao</td>\n",
       "      <td>2015-2016</td>\n",
       "      <td>Loan fee:£6.30m</td>\n",
       "    </tr>\n",
       "    <tr>\n",
       "      <th>1955</th>\n",
       "      <td>Bayern Munich</td>\n",
       "      <td>Kingsley Coman</td>\n",
       "      <td>2015-2016</td>\n",
       "      <td>Loan fee:£6.30m</td>\n",
       "    </tr>\n",
       "    <tr>\n",
       "      <th>2264</th>\n",
       "      <td>Paris SG</td>\n",
       "      <td>Kylian Mbappé</td>\n",
       "      <td>2017-2018</td>\n",
       "      <td>Loan fee:£40.50m</td>\n",
       "    </tr>\n",
       "    <tr>\n",
       "      <th>2374</th>\n",
       "      <td>Bayern Munich</td>\n",
       "      <td>James Rodríguez</td>\n",
       "      <td>2017-2018</td>\n",
       "      <td>Loan fee:£11.70m</td>\n",
       "    </tr>\n",
       "    <tr>\n",
       "      <th>2454</th>\n",
       "      <td>Swansea</td>\n",
       "      <td>Renato Sanches</td>\n",
       "      <td>2017-2018</td>\n",
       "      <td>Loan fee:£7.65m</td>\n",
       "    </tr>\n",
       "    <tr>\n",
       "      <th>2457</th>\n",
       "      <td>AC Milan</td>\n",
       "      <td>Franck Kessié</td>\n",
       "      <td>2017-2018</td>\n",
       "      <td>Loan fee:£7.20m</td>\n",
       "    </tr>\n",
       "    <tr>\n",
       "      <th>2478</th>\n",
       "      <td>Stoke City</td>\n",
       "      <td>Kurt Zouma</td>\n",
       "      <td>2017-2018</td>\n",
       "      <td>Loan fee:£7.02m</td>\n",
       "    </tr>\n",
       "    <tr>\n",
       "      <th>2488</th>\n",
       "      <td>Lazio</td>\n",
       "      <td>Pedro Neto</td>\n",
       "      <td>2017-2018</td>\n",
       "      <td>Loan fee:£6.75m</td>\n",
       "    </tr>\n",
       "    <tr>\n",
       "      <th>2614</th>\n",
       "      <td>Atalanta</td>\n",
       "      <td>Duván Zapata</td>\n",
       "      <td>2018-2019</td>\n",
       "      <td>Loan fee:£12.60m</td>\n",
       "    </tr>\n",
       "    <tr>\n",
       "      <th>2688</th>\n",
       "      <td>AC Milan</td>\n",
       "      <td>Gonzalo Higuaín</td>\n",
       "      <td>2018-2019</td>\n",
       "      <td>Loan fee:£8.10m</td>\n",
       "    </tr>\n",
       "    <tr>\n",
       "      <th>2689</th>\n",
       "      <td>Chelsea</td>\n",
       "      <td>Gonzalo Higuaín</td>\n",
       "      <td>2018-2019</td>\n",
       "      <td>Loan fee:£8.10m</td>\n",
       "    </tr>\n",
       "    <tr>\n",
       "      <th>2737</th>\n",
       "      <td>Everton</td>\n",
       "      <td>Kurt Zouma</td>\n",
       "      <td>2018-2019</td>\n",
       "      <td>Loan fee:£7.11m</td>\n",
       "    </tr>\n",
       "  </tbody>\n",
       "</table>\n",
       "</div>"
      ],
      "text/plain": [
       "         Destination                Player     Season      TransferFees\n",
       "396           Dnipro         Nery Castillo  2009-2010   Loan fee:£4.50m\n",
       "608         AC Milan    Zlatan Ibrahimovic  2010-2011   Loan fee:£5.40m\n",
       "636       SSC Napoli        Edinson Cavani  2010-2011   Loan fee:£4.50m\n",
       "658         Juventus    Fabio Quagliarella  2010-2011   Loan fee:£4.05m\n",
       "682      Real Madrid     Emmanuel Adebayor  2010-2011   Loan fee:£3.60m\n",
       "748         AC Milan  Kevin-Prince Boateng  2010-2011   Loan fee:£2.70m\n",
       "864        Al-Ain FC          Asamoah Gyan  2011-2012   Loan fee:£6.30m\n",
       "1052         AS Roma         Mattia Destro  2012-2013  Loan fee:£10.35m\n",
       "1151       Liverpool            Nuri Sahin  2012-2013   Loan fee:£4.50m\n",
       "1615         Man Utd                Falcao  2014-2015   Loan fee:£6.84m\n",
       "1637   VfL Wolfsburg     Josuha Guilavogui  2014-2015   Loan fee:£6.12m\n",
       "1720         AS Roma            Salih Ucan  2014-2015   Loan fee:£4.28m\n",
       "1942         Chelsea                Falcao  2015-2016   Loan fee:£6.30m\n",
       "1955  Bayern Munich         Kingsley Coman  2015-2016   Loan fee:£6.30m\n",
       "2264        Paris SG         Kylian Mbappé  2017-2018  Loan fee:£40.50m\n",
       "2374  Bayern Munich        James Rodríguez  2017-2018  Loan fee:£11.70m\n",
       "2454         Swansea        Renato Sanches  2017-2018   Loan fee:£7.65m\n",
       "2457        AC Milan         Franck Kessié  2017-2018   Loan fee:£7.20m\n",
       "2478      Stoke City            Kurt Zouma  2017-2018   Loan fee:£7.02m\n",
       "2488           Lazio            Pedro Neto  2017-2018   Loan fee:£6.75m\n",
       "2614        Atalanta          Duván Zapata  2018-2019  Loan fee:£12.60m\n",
       "2688        AC Milan       Gonzalo Higuaín  2018-2019   Loan fee:£8.10m\n",
       "2689         Chelsea       Gonzalo Higuaín  2018-2019   Loan fee:£8.10m\n",
       "2737         Everton            Kurt Zouma  2018-2019   Loan fee:£7.11m"
      ]
     },
     "execution_count": 15,
     "metadata": {},
     "output_type": "execute_result"
    }
   ],
   "source": [
    "df_TransferValues[['Loan' in fee for fee in df_TransferValues['TransferFees'].values]]"
   ]
  },
  {
   "cell_type": "code",
   "execution_count": null,
   "metadata": {
    "collapsed": true
   },
   "outputs": [],
   "source": []
  },
  {
   "cell_type": "code",
   "execution_count": 18,
   "metadata": {},
   "outputs": [
    {
     "data": {
      "text/html": [
       "<div>\n",
       "<style>\n",
       "    .dataframe thead tr:only-child th {\n",
       "        text-align: right;\n",
       "    }\n",
       "\n",
       "    .dataframe thead th {\n",
       "        text-align: left;\n",
       "    }\n",
       "\n",
       "    .dataframe tbody tr th {\n",
       "        vertical-align: top;\n",
       "    }\n",
       "</style>\n",
       "<table border=\"1\" class=\"dataframe\">\n",
       "  <thead>\n",
       "    <tr style=\"text-align: right;\">\n",
       "      <th></th>\n",
       "      <th>Destination</th>\n",
       "      <th>Player</th>\n",
       "      <th>Season</th>\n",
       "      <th>TransferFees</th>\n",
       "    </tr>\n",
       "  </thead>\n",
       "  <tbody>\n",
       "    <tr>\n",
       "      <th>1619</th>\n",
       "      <td>Real Madrid</td>\n",
       "      <td>Casemiro</td>\n",
       "      <td>2014-2015</td>\n",
       "      <td>End of loan</td>\n",
       "    </tr>\n",
       "  </tbody>\n",
       "</table>\n",
       "</div>"
      ],
      "text/plain": [
       "      Destination    Player     Season TransferFees\n",
       "1619  Real Madrid  Casemiro  2014-2015  End of loan"
      ]
     },
     "execution_count": 18,
     "metadata": {},
     "output_type": "execute_result"
    }
   ],
   "source": [
    "df_TransferValues[['loan' in fee for fee in df_TransferValues['TransferFees'].values]]"
   ]
  },
  {
   "cell_type": "code",
   "execution_count": 7,
   "metadata": {
    "scrolled": true
   },
   "outputs": [
    {
     "ename": "ValueError",
     "evalue": "invalid literal for int() with base 10: 'End of loa'",
     "output_type": "error",
     "traceback": [
      "\u001b[1;31m---------------------------------------------------------------------------\u001b[0m",
      "\u001b[1;31mValueError\u001b[0m                                Traceback (most recent call last)",
      "\u001b[1;32m<ipython-input-7-385911ac2f60>\u001b[0m in \u001b[0;36m<module>\u001b[1;34m()\u001b[0m\n\u001b[0;32m      1\u001b[0m \u001b[1;31m#df_TransferValues['Transfer Fees'] = df_TransferValues['Transfer Fees'].apply(get_money_value)\u001b[0m\u001b[1;33m\u001b[0m\u001b[1;33m\u001b[0m\u001b[0m\n\u001b[0;32m      2\u001b[0m \u001b[1;32mfor\u001b[0m \u001b[0mi\u001b[0m\u001b[1;33m,\u001b[0m \u001b[0mvalue\u001b[0m \u001b[1;32min\u001b[0m \u001b[0menumerate\u001b[0m\u001b[1;33m(\u001b[0m\u001b[0mdf_TransferValues\u001b[0m\u001b[1;33m[\u001b[0m\u001b[1;34m'Transfer Fees'\u001b[0m\u001b[1;33m]\u001b[0m\u001b[1;33m.\u001b[0m\u001b[0mvalues\u001b[0m\u001b[1;33m)\u001b[0m\u001b[1;33m:\u001b[0m\u001b[1;33m\u001b[0m\u001b[0m\n\u001b[1;32m----> 3\u001b[1;33m     \u001b[0mvalue\u001b[0m \u001b[1;33m=\u001b[0m \u001b[0mget_money_value\u001b[0m\u001b[1;33m(\u001b[0m\u001b[0mvalue\u001b[0m\u001b[1;33m)\u001b[0m\u001b[1;33m\u001b[0m\u001b[0m\n\u001b[0m",
      "\u001b[1;32m<ipython-input-5-75bede9dad3b>\u001b[0m in \u001b[0;36mget_money_value\u001b[1;34m(value)\u001b[0m\n\u001b[0;32m      2\u001b[0m     \u001b[0mvalue\u001b[0m \u001b[1;33m=\u001b[0m \u001b[0mvalue\u001b[0m\u001b[1;33m.\u001b[0m\u001b[0msplit\u001b[0m\u001b[1;33m(\u001b[0m\u001b[1;34m'£'\u001b[0m\u001b[1;33m)\u001b[0m\u001b[1;33m[\u001b[0m\u001b[1;33m-\u001b[0m\u001b[1;36m1\u001b[0m\u001b[1;33m]\u001b[0m\u001b[1;33m\u001b[0m\u001b[0m\n\u001b[0;32m      3\u001b[0m     \u001b[0mvalue\u001b[0m \u001b[1;33m=\u001b[0m \u001b[0mvalue\u001b[0m\u001b[1;33m[\u001b[0m\u001b[1;33m:\u001b[0m\u001b[1;33m-\u001b[0m\u001b[1;36m1\u001b[0m\u001b[1;33m]\u001b[0m\u001b[1;33m.\u001b[0m\u001b[0msplit\u001b[0m\u001b[1;33m(\u001b[0m\u001b[1;34m'.'\u001b[0m\u001b[1;33m)\u001b[0m\u001b[1;33m\u001b[0m\u001b[0m\n\u001b[1;32m----> 4\u001b[1;33m     \u001b[0mvalue\u001b[0m \u001b[1;33m=\u001b[0m \u001b[0mnp\u001b[0m\u001b[1;33m.\u001b[0m\u001b[0mint\u001b[0m\u001b[1;33m(\u001b[0m\u001b[0mvalue\u001b[0m\u001b[1;33m[\u001b[0m\u001b[1;36m0\u001b[0m\u001b[1;33m]\u001b[0m\u001b[1;33m)\u001b[0m \u001b[1;33m+\u001b[0m \u001b[0mnp\u001b[0m\u001b[1;33m.\u001b[0m\u001b[0mint\u001b[0m\u001b[1;33m(\u001b[0m\u001b[0mvalue\u001b[0m\u001b[1;33m[\u001b[0m\u001b[1;36m1\u001b[0m\u001b[1;33m]\u001b[0m\u001b[1;33m)\u001b[0m\u001b[1;33m/\u001b[0m\u001b[1;36m100.\u001b[0m\u001b[1;33m\u001b[0m\u001b[0m\n\u001b[0m\u001b[0;32m      5\u001b[0m     \u001b[0mvalue\u001b[0m \u001b[1;33m=\u001b[0m \u001b[0mvalue\u001b[0m \u001b[1;33m*\u001b[0m \u001b[1;36m10\u001b[0m \u001b[1;33m**\u001b[0m \u001b[1;36m6\u001b[0m\u001b[1;33m\u001b[0m\u001b[0m\n\u001b[0;32m      6\u001b[0m     \u001b[1;32mreturn\u001b[0m \u001b[0mvalue\u001b[0m\u001b[1;33m\u001b[0m\u001b[0m\n",
      "\u001b[1;31mValueError\u001b[0m: invalid literal for int() with base 10: 'End of loa'"
     ]
    }
   ],
   "source": [
    "#df_TransferValues['Transfer Fees'] = df_TransferValues['Transfer Fees'].apply(get_money_value)\n",
    "for i, value in enumerate(df_TransferValues['Transfer Fees'].values):\n",
    "    value = get_money_value(value)"
   ]
  },
  {
   "cell_type": "markdown",
   "metadata": {},
   "source": []
  },
  {
   "cell_type": "markdown",
   "metadata": {},
   "source": [
    "### Now that the data has been processed. We can start the preliminary analysis"
   ]
  },
  {
   "cell_type": "code",
   "execution_count": 15,
   "metadata": {},
   "outputs": [
    {
     "data": {
      "text/html": [
       "<div>\n",
       "<style scoped>\n",
       "    .dataframe tbody tr th:only-of-type {\n",
       "        vertical-align: middle;\n",
       "    }\n",
       "\n",
       "    .dataframe tbody tr th {\n",
       "        vertical-align: top;\n",
       "    }\n",
       "\n",
       "    .dataframe thead th {\n",
       "        text-align: right;\n",
       "    }\n",
       "</style>\n",
       "<table border=\"1\" class=\"dataframe\">\n",
       "  <thead>\n",
       "    <tr style=\"text-align: right;\">\n",
       "      <th></th>\n",
       "      <th>Player</th>\n",
       "      <th>Season</th>\n",
       "      <th>Value</th>\n",
       "    </tr>\n",
       "  </thead>\n",
       "  <tbody>\n",
       "    <tr>\n",
       "      <th>0</th>\n",
       "      <td>Robinho</td>\n",
       "      <td>2008.0</td>\n",
       "      <td>£38.70m</td>\n",
       "    </tr>\n",
       "    <tr>\n",
       "      <th>1</th>\n",
       "      <td>Dimitar Berbatov</td>\n",
       "      <td>2008.0</td>\n",
       "      <td>£34.20m</td>\n",
       "    </tr>\n",
       "    <tr>\n",
       "      <th>2</th>\n",
       "      <td>Dani Alves</td>\n",
       "      <td>2008.0</td>\n",
       "      <td>£31.95m</td>\n",
       "    </tr>\n",
       "    <tr>\n",
       "      <th>3</th>\n",
       "      <td>Danny</td>\n",
       "      <td>2008.0</td>\n",
       "      <td>£27.00m</td>\n",
       "    </tr>\n",
       "    <tr>\n",
       "      <th>4</th>\n",
       "      <td>Klaas-Jan Huntelaar</td>\n",
       "      <td>2008.0</td>\n",
       "      <td>£24.30m</td>\n",
       "    </tr>\n",
       "  </tbody>\n",
       "</table>\n",
       "</div>"
      ],
      "text/plain": [
       "                Player  Season    Value\n",
       "0              Robinho  2008.0  £38.70m\n",
       "1     Dimitar Berbatov  2008.0  £34.20m\n",
       "2           Dani Alves  2008.0  £31.95m\n",
       "3                Danny  2008.0  £27.00m\n",
       "4  Klaas-Jan Huntelaar  2008.0  £24.30m"
      ]
     },
     "execution_count": 15,
     "metadata": {},
     "output_type": "execute_result"
    }
   ],
   "source": [
    "df_TransferValues.head()"
   ]
  },
  {
   "cell_type": "code",
   "execution_count": 13,
   "metadata": {},
   "outputs": [
    {
     "data": {
      "text/plain": [
       "(2750, 3)"
      ]
     },
     "execution_count": 13,
     "metadata": {},
     "output_type": "execute_result"
    }
   ],
   "source": [
    "df_TransferValues.shape"
   ]
  },
  {
   "cell_type": "code",
   "execution_count": 14,
   "metadata": {},
   "outputs": [
    {
     "data": {
      "text/plain": [
       "2015.0    250\n",
       "2018.0    250\n",
       "2014.0    250\n",
       "2017.0    250\n",
       "2013.0    250\n",
       "2016.0    250\n",
       "2012.0    250\n",
       "2011.0    250\n",
       "2010.0    250\n",
       "2009.0    250\n",
       "2008.0    250\n",
       "Name: Season, dtype: int64"
      ]
     },
     "execution_count": 14,
     "metadata": {},
     "output_type": "execute_result"
    }
   ],
   "source": [
    "df_TransferValues.Season.value_counts()"
   ]
  },
  {
   "cell_type": "code",
   "execution_count": 20,
   "metadata": {},
   "outputs": [
    {
     "ename": "TypeError",
     "evalue": "unsupported operand type(s) for /: 'unicode' and 'long'",
     "output_type": "error",
     "traceback": [
      "\u001b[1;31m---------------------------------------------------------------------------\u001b[0m",
      "\u001b[1;31mTypeError\u001b[0m                                 Traceback (most recent call last)",
      "\u001b[1;32m<ipython-input-20-78045f86e343>\u001b[0m in \u001b[0;36m<module>\u001b[1;34m()\u001b[0m\n\u001b[1;32m----> 1\u001b[1;33m \u001b[0msns\u001b[0m\u001b[1;33m.\u001b[0m\u001b[0mdistplot\u001b[0m\u001b[1;33m(\u001b[0m\u001b[0mdf_TransferValues\u001b[0m\u001b[1;33m.\u001b[0m\u001b[0mValue\u001b[0m\u001b[1;33m,\u001b[0m \u001b[0mkde\u001b[0m\u001b[1;33m=\u001b[0m\u001b[0mFalse\u001b[0m\u001b[1;33m)\u001b[0m\u001b[1;33m\u001b[0m\u001b[0m\n\u001b[0m",
      "\u001b[1;32mC:\\Users\\Hieu Nguyen\\Anaconda2\\lib\\site-packages\\seaborn\\distributions.pyc\u001b[0m in \u001b[0;36mdistplot\u001b[1;34m(a, bins, hist, kde, rug, fit, hist_kws, kde_kws, rug_kws, fit_kws, color, vertical, norm_hist, axlabel, label, ax)\u001b[0m\n\u001b[0;32m    196\u001b[0m             \u001b[0mline\u001b[0m\u001b[1;33m,\u001b[0m \u001b[1;33m=\u001b[0m \u001b[0max\u001b[0m\u001b[1;33m.\u001b[0m\u001b[0mplot\u001b[0m\u001b[1;33m(\u001b[0m\u001b[1;36m0\u001b[0m\u001b[1;33m,\u001b[0m \u001b[0ma\u001b[0m\u001b[1;33m.\u001b[0m\u001b[0mmean\u001b[0m\u001b[1;33m(\u001b[0m\u001b[1;33m)\u001b[0m\u001b[1;33m)\u001b[0m\u001b[1;33m\u001b[0m\u001b[0m\n\u001b[0;32m    197\u001b[0m         \u001b[1;32melse\u001b[0m\u001b[1;33m:\u001b[0m\u001b[1;33m\u001b[0m\u001b[0m\n\u001b[1;32m--> 198\u001b[1;33m             \u001b[0mline\u001b[0m\u001b[1;33m,\u001b[0m \u001b[1;33m=\u001b[0m \u001b[0max\u001b[0m\u001b[1;33m.\u001b[0m\u001b[0mplot\u001b[0m\u001b[1;33m(\u001b[0m\u001b[0ma\u001b[0m\u001b[1;33m.\u001b[0m\u001b[0mmean\u001b[0m\u001b[1;33m(\u001b[0m\u001b[1;33m)\u001b[0m\u001b[1;33m,\u001b[0m \u001b[1;36m0\u001b[0m\u001b[1;33m)\u001b[0m\u001b[1;33m\u001b[0m\u001b[0m\n\u001b[0m\u001b[0;32m    199\u001b[0m         \u001b[0mcolor\u001b[0m \u001b[1;33m=\u001b[0m \u001b[0mline\u001b[0m\u001b[1;33m.\u001b[0m\u001b[0mget_color\u001b[0m\u001b[1;33m(\u001b[0m\u001b[1;33m)\u001b[0m\u001b[1;33m\u001b[0m\u001b[0m\n\u001b[0;32m    200\u001b[0m         \u001b[0mline\u001b[0m\u001b[1;33m.\u001b[0m\u001b[0mremove\u001b[0m\u001b[1;33m(\u001b[0m\u001b[1;33m)\u001b[0m\u001b[1;33m\u001b[0m\u001b[0m\n",
      "\u001b[1;32mC:\\Users\\Hieu Nguyen\\Anaconda2\\lib\\site-packages\\numpy\\core\\_methods.pyc\u001b[0m in \u001b[0;36m_mean\u001b[1;34m(a, axis, dtype, out, keepdims)\u001b[0m\n\u001b[0;32m     80\u001b[0m             \u001b[0mret\u001b[0m \u001b[1;33m=\u001b[0m \u001b[0mret\u001b[0m\u001b[1;33m.\u001b[0m\u001b[0mdtype\u001b[0m\u001b[1;33m.\u001b[0m\u001b[0mtype\u001b[0m\u001b[1;33m(\u001b[0m\u001b[0mret\u001b[0m \u001b[1;33m/\u001b[0m \u001b[0mrcount\u001b[0m\u001b[1;33m)\u001b[0m\u001b[1;33m\u001b[0m\u001b[0m\n\u001b[0;32m     81\u001b[0m     \u001b[1;32melse\u001b[0m\u001b[1;33m:\u001b[0m\u001b[1;33m\u001b[0m\u001b[0m\n\u001b[1;32m---> 82\u001b[1;33m         \u001b[0mret\u001b[0m \u001b[1;33m=\u001b[0m \u001b[0mret\u001b[0m \u001b[1;33m/\u001b[0m \u001b[0mrcount\u001b[0m\u001b[1;33m\u001b[0m\u001b[0m\n\u001b[0m\u001b[0;32m     83\u001b[0m \u001b[1;33m\u001b[0m\u001b[0m\n\u001b[0;32m     84\u001b[0m     \u001b[1;32mreturn\u001b[0m \u001b[0mret\u001b[0m\u001b[1;33m\u001b[0m\u001b[0m\n",
      "\u001b[1;31mTypeError\u001b[0m: unsupported operand type(s) for /: 'unicode' and 'long'"
     ]
    }
   ],
   "source": [
    "sns.distplot(df_TransferValues.Value, kde=False)"
   ]
  }
 ],
 "metadata": {
  "kernelspec": {
   "display_name": "Python 3",
   "language": "python",
   "name": "python3"
  },
  "language_info": {
   "codemirror_mode": {
    "name": "ipython",
    "version": 3
   },
   "file_extension": ".py",
   "mimetype": "text/x-python",
   "name": "python",
   "nbconvert_exporter": "python",
   "pygments_lexer": "ipython3",
   "version": "3.6.10"
  }
 },
 "nbformat": 4,
 "nbformat_minor": 2
}
